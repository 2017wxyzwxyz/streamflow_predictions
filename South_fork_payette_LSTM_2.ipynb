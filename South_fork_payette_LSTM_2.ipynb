{
  "nbformat": 4,
  "nbformat_minor": 0,
  "metadata": {
    "colab": {
      "name": "South fork payette LSTM 2.ipynb",
      "provenance": []
    },
    "kernelspec": {
      "name": "python3",
      "display_name": "Python 3"
    }
  },
  "cells": [
    {
      "cell_type": "code",
      "metadata": {
        "id": "g5MnWDInfTRH",
        "colab_type": "code",
        "colab": {}
      },
      "source": [
        "import pandas as pd\n",
        "from sklearn.impute import SimpleImputer\n",
        "import matplotlib.pyplot as plt\n",
        "import tensorflow as tf\n",
        "from tensorflow import keras\n",
        "from matplotlib import pyplot"
      ],
      "execution_count": null,
      "outputs": []
    },
    {
      "cell_type": "code",
      "metadata": {
        "id": "tdprJ_2O4YL2",
        "colab_type": "code",
        "colab": {}
      },
      "source": [
        ""
      ],
      "execution_count": null,
      "outputs": []
    },
    {
      "cell_type": "code",
      "metadata": {
        "id": "AWnePE41f2Nf",
        "colab_type": "code",
        "colab": {}
      },
      "source": [
        "df = pd.read_csv('/content/cleaned_banner_df.csv')\n",
        "df = df.drop(columns='Unnamed: 0')\n",
        "numeric_features = ['PRCP','SNWD','TAVG','TMAX','TMIN','TOBS','WESD','DAY_OF_YEAR','STREAMFLOW']\n",
        "imputer = SimpleImputer()\n",
        "df[numeric_features] = imputer.fit_transform(df[numeric_features])"
      ],
      "execution_count": null,
      "outputs": []
    },
    {
      "cell_type": "code",
      "metadata": {
        "id": "EJ0_d_Gxkutm",
        "colab_type": "code",
        "colab": {
          "base_uri": "https://localhost:8080/",
          "height": 419
        },
        "outputId": "fdde0df9-bdbe-4dcc-d7ee-7b133b117ccb"
      },
      "source": [
        "df"
      ],
      "execution_count": null,
      "outputs": [
        {
          "output_type": "execute_result",
          "data": {
            "text/html": [
              "<div>\n",
              "<style scoped>\n",
              "    .dataframe tbody tr th:only-of-type {\n",
              "        vertical-align: middle;\n",
              "    }\n",
              "\n",
              "    .dataframe tbody tr th {\n",
              "        vertical-align: top;\n",
              "    }\n",
              "\n",
              "    .dataframe thead th {\n",
              "        text-align: right;\n",
              "    }\n",
              "</style>\n",
              "<table border=\"1\" class=\"dataframe\">\n",
              "  <thead>\n",
              "    <tr style=\"text-align: right;\">\n",
              "      <th></th>\n",
              "      <th>DATE</th>\n",
              "      <th>PRCP</th>\n",
              "      <th>SNWD</th>\n",
              "      <th>TAVG</th>\n",
              "      <th>TMAX</th>\n",
              "      <th>TMIN</th>\n",
              "      <th>TOBS</th>\n",
              "      <th>WESD</th>\n",
              "      <th>DAY_OF_YEAR</th>\n",
              "      <th>STREAMFLOW</th>\n",
              "    </tr>\n",
              "  </thead>\n",
              "  <tbody>\n",
              "    <tr>\n",
              "      <th>0</th>\n",
              "      <td>1987-01-01</td>\n",
              "      <td>0.9</td>\n",
              "      <td>25.225964</td>\n",
              "      <td>36.887152</td>\n",
              "      <td>52.136375</td>\n",
              "      <td>24.521684</td>\n",
              "      <td>16.0</td>\n",
              "      <td>6.8</td>\n",
              "      <td>1.0</td>\n",
              "      <td>272.0</td>\n",
              "    </tr>\n",
              "    <tr>\n",
              "      <th>1</th>\n",
              "      <td>1987-01-02</td>\n",
              "      <td>0.1</td>\n",
              "      <td>25.225964</td>\n",
              "      <td>36.887152</td>\n",
              "      <td>52.136375</td>\n",
              "      <td>24.521684</td>\n",
              "      <td>19.0</td>\n",
              "      <td>6.8</td>\n",
              "      <td>2.0</td>\n",
              "      <td>290.0</td>\n",
              "    </tr>\n",
              "    <tr>\n",
              "      <th>2</th>\n",
              "      <td>1987-01-03</td>\n",
              "      <td>0.4</td>\n",
              "      <td>25.225964</td>\n",
              "      <td>36.887152</td>\n",
              "      <td>52.136375</td>\n",
              "      <td>24.521684</td>\n",
              "      <td>19.0</td>\n",
              "      <td>7.4</td>\n",
              "      <td>3.0</td>\n",
              "      <td>296.0</td>\n",
              "    </tr>\n",
              "    <tr>\n",
              "      <th>3</th>\n",
              "      <td>1987-01-04</td>\n",
              "      <td>0.0</td>\n",
              "      <td>25.225964</td>\n",
              "      <td>36.887152</td>\n",
              "      <td>52.136375</td>\n",
              "      <td>24.521684</td>\n",
              "      <td>10.0</td>\n",
              "      <td>7.4</td>\n",
              "      <td>4.0</td>\n",
              "      <td>291.0</td>\n",
              "    </tr>\n",
              "    <tr>\n",
              "      <th>4</th>\n",
              "      <td>1987-01-05</td>\n",
              "      <td>0.0</td>\n",
              "      <td>25.225964</td>\n",
              "      <td>36.887152</td>\n",
              "      <td>52.136375</td>\n",
              "      <td>24.521684</td>\n",
              "      <td>6.0</td>\n",
              "      <td>7.4</td>\n",
              "      <td>5.0</td>\n",
              "      <td>282.0</td>\n",
              "    </tr>\n",
              "    <tr>\n",
              "      <th>...</th>\n",
              "      <td>...</td>\n",
              "      <td>...</td>\n",
              "      <td>...</td>\n",
              "      <td>...</td>\n",
              "      <td>...</td>\n",
              "      <td>...</td>\n",
              "      <td>...</td>\n",
              "      <td>...</td>\n",
              "      <td>...</td>\n",
              "      <td>...</td>\n",
              "    </tr>\n",
              "    <tr>\n",
              "      <th>12290</th>\n",
              "      <td>2020-08-26</td>\n",
              "      <td>0.2</td>\n",
              "      <td>0.000000</td>\n",
              "      <td>59.000000</td>\n",
              "      <td>77.000000</td>\n",
              "      <td>44.000000</td>\n",
              "      <td>49.0</td>\n",
              "      <td>0.0</td>\n",
              "      <td>239.0</td>\n",
              "      <td>413.0</td>\n",
              "    </tr>\n",
              "    <tr>\n",
              "      <th>12291</th>\n",
              "      <td>2020-08-27</td>\n",
              "      <td>0.0</td>\n",
              "      <td>0.000000</td>\n",
              "      <td>55.000000</td>\n",
              "      <td>72.000000</td>\n",
              "      <td>44.000000</td>\n",
              "      <td>44.0</td>\n",
              "      <td>0.0</td>\n",
              "      <td>240.0</td>\n",
              "      <td>417.0</td>\n",
              "    </tr>\n",
              "    <tr>\n",
              "      <th>12292</th>\n",
              "      <td>2020-08-28</td>\n",
              "      <td>0.0</td>\n",
              "      <td>0.000000</td>\n",
              "      <td>56.000000</td>\n",
              "      <td>75.000000</td>\n",
              "      <td>42.000000</td>\n",
              "      <td>44.0</td>\n",
              "      <td>0.0</td>\n",
              "      <td>241.0</td>\n",
              "      <td>408.0</td>\n",
              "    </tr>\n",
              "    <tr>\n",
              "      <th>12293</th>\n",
              "      <td>2020-08-29</td>\n",
              "      <td>0.0</td>\n",
              "      <td>0.000000</td>\n",
              "      <td>56.000000</td>\n",
              "      <td>76.000000</td>\n",
              "      <td>38.000000</td>\n",
              "      <td>41.0</td>\n",
              "      <td>0.0</td>\n",
              "      <td>242.0</td>\n",
              "      <td>398.0</td>\n",
              "    </tr>\n",
              "    <tr>\n",
              "      <th>12294</th>\n",
              "      <td>2020-08-30</td>\n",
              "      <td>0.0</td>\n",
              "      <td>0.000000</td>\n",
              "      <td>49.000000</td>\n",
              "      <td>64.000000</td>\n",
              "      <td>35.000000</td>\n",
              "      <td>38.0</td>\n",
              "      <td>0.0</td>\n",
              "      <td>243.0</td>\n",
              "      <td>391.0</td>\n",
              "    </tr>\n",
              "  </tbody>\n",
              "</table>\n",
              "<p>12295 rows × 10 columns</p>\n",
              "</div>"
            ],
            "text/plain": [
              "             DATE  PRCP       SNWD  ...  WESD  DAY_OF_YEAR  STREAMFLOW\n",
              "0      1987-01-01   0.9  25.225964  ...   6.8          1.0       272.0\n",
              "1      1987-01-02   0.1  25.225964  ...   6.8          2.0       290.0\n",
              "2      1987-01-03   0.4  25.225964  ...   7.4          3.0       296.0\n",
              "3      1987-01-04   0.0  25.225964  ...   7.4          4.0       291.0\n",
              "4      1987-01-05   0.0  25.225964  ...   7.4          5.0       282.0\n",
              "...           ...   ...        ...  ...   ...          ...         ...\n",
              "12290  2020-08-26   0.2   0.000000  ...   0.0        239.0       413.0\n",
              "12291  2020-08-27   0.0   0.000000  ...   0.0        240.0       417.0\n",
              "12292  2020-08-28   0.0   0.000000  ...   0.0        241.0       408.0\n",
              "12293  2020-08-29   0.0   0.000000  ...   0.0        242.0       398.0\n",
              "12294  2020-08-30   0.0   0.000000  ...   0.0        243.0       391.0\n",
              "\n",
              "[12295 rows x 10 columns]"
            ]
          },
          "metadata": {
            "tags": []
          },
          "execution_count": 1060
        }
      ]
    },
    {
      "cell_type": "code",
      "metadata": {
        "id": "hXYmAvLtgiFp",
        "colab_type": "code",
        "colab": {
          "base_uri": "https://localhost:8080/",
          "height": 17
        },
        "outputId": "aa791c1d-6740-4906-8c14-fa19a1deffe5"
      },
      "source": [
        "\n",
        "from google.colab import files\n",
        "df.to_csv('cleaned_imputed_banner_df.csv')\n",
        "files.download('cleaned_imputed_banner_df.csv')\n"
      ],
      "execution_count": null,
      "outputs": [
        {
          "output_type": "display_data",
          "data": {
            "application/javascript": [
              "\n",
              "    async function download(id, filename, size) {\n",
              "      if (!google.colab.kernel.accessAllowed) {\n",
              "        return;\n",
              "      }\n",
              "      const div = document.createElement('div');\n",
              "      const label = document.createElement('label');\n",
              "      label.textContent = `Downloading \"${filename}\": `;\n",
              "      div.appendChild(label);\n",
              "      const progress = document.createElement('progress');\n",
              "      progress.max = size;\n",
              "      div.appendChild(progress);\n",
              "      document.body.appendChild(div);\n",
              "\n",
              "      const buffers = [];\n",
              "      let downloaded = 0;\n",
              "\n",
              "      const channel = await google.colab.kernel.comms.open(id);\n",
              "      // Send a message to notify the kernel that we're ready.\n",
              "      channel.send({})\n",
              "\n",
              "      for await (const message of channel.messages) {\n",
              "        // Send a message to notify the kernel that we're ready.\n",
              "        channel.send({})\n",
              "        if (message.buffers) {\n",
              "          for (const buffer of message.buffers) {\n",
              "            buffers.push(buffer);\n",
              "            downloaded += buffer.byteLength;\n",
              "            progress.value = downloaded;\n",
              "          }\n",
              "        }\n",
              "      }\n",
              "      const blob = new Blob(buffers, {type: 'application/binary'});\n",
              "      const a = document.createElement('a');\n",
              "      a.href = window.URL.createObjectURL(blob);\n",
              "      a.download = filename;\n",
              "      div.appendChild(a);\n",
              "      a.click();\n",
              "      div.remove();\n",
              "    }\n",
              "  "
            ],
            "text/plain": [
              "<IPython.core.display.Javascript object>"
            ]
          },
          "metadata": {
            "tags": []
          }
        },
        {
          "output_type": "display_data",
          "data": {
            "application/javascript": [
              "download(\"download_aa39b74b-61c7-4f14-9c8d-fc5bdd45084d\", \"cleaned_imputed_banner_df.csv\", 843974)"
            ],
            "text/plain": [
              "<IPython.core.display.Javascript object>"
            ]
          },
          "metadata": {
            "tags": []
          }
        }
      ]
    },
    {
      "cell_type": "code",
      "metadata": {
        "id": "kouP-ab0zoFz",
        "colab_type": "code",
        "colab": {}
      },
      "source": [
        "dataset = read_csv('cleaned_imputed_banner_df.csv',\n",
        "                   index_col=0\n",
        "                   )"
      ],
      "execution_count": null,
      "outputs": []
    },
    {
      "cell_type": "code",
      "metadata": {
        "id": "rv6OBZXt3JB2",
        "colab_type": "code",
        "colab": {}
      },
      "source": [
        "dataset['DATE'] = pd.to_datetime(dataset['DATE'])"
      ],
      "execution_count": null,
      "outputs": []
    },
    {
      "cell_type": "code",
      "metadata": {
        "id": "LKSMxEad3a6n",
        "colab_type": "code",
        "colab": {
          "base_uri": "https://localhost:8080/",
          "height": 34
        },
        "outputId": "e818a208-7b01-427f-e5bc-f6a3e5402369"
      },
      "source": [
        "type(dataset['DATE'])"
      ],
      "execution_count": null,
      "outputs": [
        {
          "output_type": "execute_result",
          "data": {
            "text/plain": [
              "pandas.core.series.Series"
            ]
          },
          "metadata": {
            "tags": []
          },
          "execution_count": 1064
        }
      ]
    },
    {
      "cell_type": "code",
      "metadata": {
        "id": "Bzrw_FWr0PHC",
        "colab_type": "code",
        "colab": {}
      },
      "source": [
        "dataset.set_index('DATE', inplace=True)"
      ],
      "execution_count": null,
      "outputs": []
    },
    {
      "cell_type": "code",
      "metadata": {
        "id": "damd59-LG9f7",
        "colab_type": "code",
        "colab": {}
      },
      "source": [
        "cols = dataset.columns.tolist()\n",
        "cols = cols[-1:] + cols[:-1]\n",
        "dataset = dataset[cols] "
      ],
      "execution_count": null,
      "outputs": []
    },
    {
      "cell_type": "code",
      "metadata": {
        "id": "b47rRdwIIRrh",
        "colab_type": "code",
        "colab": {}
      },
      "source": [
        "dataset = dataset.drop(columns='TAVG')"
      ],
      "execution_count": null,
      "outputs": []
    },
    {
      "cell_type": "code",
      "metadata": {
        "id": "C3aLEXpd1qwK",
        "colab_type": "code",
        "colab": {
          "base_uri": "https://localhost:8080/",
          "height": 450
        },
        "outputId": "4d323e7a-f6d1-4420-db86-b0a2f11c135c"
      },
      "source": [
        "dataset"
      ],
      "execution_count": null,
      "outputs": [
        {
          "output_type": "execute_result",
          "data": {
            "text/html": [
              "<div>\n",
              "<style scoped>\n",
              "    .dataframe tbody tr th:only-of-type {\n",
              "        vertical-align: middle;\n",
              "    }\n",
              "\n",
              "    .dataframe tbody tr th {\n",
              "        vertical-align: top;\n",
              "    }\n",
              "\n",
              "    .dataframe thead th {\n",
              "        text-align: right;\n",
              "    }\n",
              "</style>\n",
              "<table border=\"1\" class=\"dataframe\">\n",
              "  <thead>\n",
              "    <tr style=\"text-align: right;\">\n",
              "      <th></th>\n",
              "      <th>STREAMFLOW</th>\n",
              "      <th>PRCP</th>\n",
              "      <th>SNWD</th>\n",
              "      <th>TMAX</th>\n",
              "      <th>TMIN</th>\n",
              "      <th>TOBS</th>\n",
              "      <th>WESD</th>\n",
              "      <th>DAY_OF_YEAR</th>\n",
              "    </tr>\n",
              "    <tr>\n",
              "      <th>DATE</th>\n",
              "      <th></th>\n",
              "      <th></th>\n",
              "      <th></th>\n",
              "      <th></th>\n",
              "      <th></th>\n",
              "      <th></th>\n",
              "      <th></th>\n",
              "      <th></th>\n",
              "    </tr>\n",
              "  </thead>\n",
              "  <tbody>\n",
              "    <tr>\n",
              "      <th>1987-01-01</th>\n",
              "      <td>272.0</td>\n",
              "      <td>0.9</td>\n",
              "      <td>25.225964</td>\n",
              "      <td>52.136375</td>\n",
              "      <td>24.521684</td>\n",
              "      <td>16.0</td>\n",
              "      <td>6.8</td>\n",
              "      <td>1.0</td>\n",
              "    </tr>\n",
              "    <tr>\n",
              "      <th>1987-01-02</th>\n",
              "      <td>290.0</td>\n",
              "      <td>0.1</td>\n",
              "      <td>25.225964</td>\n",
              "      <td>52.136375</td>\n",
              "      <td>24.521684</td>\n",
              "      <td>19.0</td>\n",
              "      <td>6.8</td>\n",
              "      <td>2.0</td>\n",
              "    </tr>\n",
              "    <tr>\n",
              "      <th>1987-01-03</th>\n",
              "      <td>296.0</td>\n",
              "      <td>0.4</td>\n",
              "      <td>25.225964</td>\n",
              "      <td>52.136375</td>\n",
              "      <td>24.521684</td>\n",
              "      <td>19.0</td>\n",
              "      <td>7.4</td>\n",
              "      <td>3.0</td>\n",
              "    </tr>\n",
              "    <tr>\n",
              "      <th>1987-01-04</th>\n",
              "      <td>291.0</td>\n",
              "      <td>0.0</td>\n",
              "      <td>25.225964</td>\n",
              "      <td>52.136375</td>\n",
              "      <td>24.521684</td>\n",
              "      <td>10.0</td>\n",
              "      <td>7.4</td>\n",
              "      <td>4.0</td>\n",
              "    </tr>\n",
              "    <tr>\n",
              "      <th>1987-01-05</th>\n",
              "      <td>282.0</td>\n",
              "      <td>0.0</td>\n",
              "      <td>25.225964</td>\n",
              "      <td>52.136375</td>\n",
              "      <td>24.521684</td>\n",
              "      <td>6.0</td>\n",
              "      <td>7.4</td>\n",
              "      <td>5.0</td>\n",
              "    </tr>\n",
              "    <tr>\n",
              "      <th>...</th>\n",
              "      <td>...</td>\n",
              "      <td>...</td>\n",
              "      <td>...</td>\n",
              "      <td>...</td>\n",
              "      <td>...</td>\n",
              "      <td>...</td>\n",
              "      <td>...</td>\n",
              "      <td>...</td>\n",
              "    </tr>\n",
              "    <tr>\n",
              "      <th>2020-08-26</th>\n",
              "      <td>413.0</td>\n",
              "      <td>0.2</td>\n",
              "      <td>0.000000</td>\n",
              "      <td>77.000000</td>\n",
              "      <td>44.000000</td>\n",
              "      <td>49.0</td>\n",
              "      <td>0.0</td>\n",
              "      <td>239.0</td>\n",
              "    </tr>\n",
              "    <tr>\n",
              "      <th>2020-08-27</th>\n",
              "      <td>417.0</td>\n",
              "      <td>0.0</td>\n",
              "      <td>0.000000</td>\n",
              "      <td>72.000000</td>\n",
              "      <td>44.000000</td>\n",
              "      <td>44.0</td>\n",
              "      <td>0.0</td>\n",
              "      <td>240.0</td>\n",
              "    </tr>\n",
              "    <tr>\n",
              "      <th>2020-08-28</th>\n",
              "      <td>408.0</td>\n",
              "      <td>0.0</td>\n",
              "      <td>0.000000</td>\n",
              "      <td>75.000000</td>\n",
              "      <td>42.000000</td>\n",
              "      <td>44.0</td>\n",
              "      <td>0.0</td>\n",
              "      <td>241.0</td>\n",
              "    </tr>\n",
              "    <tr>\n",
              "      <th>2020-08-29</th>\n",
              "      <td>398.0</td>\n",
              "      <td>0.0</td>\n",
              "      <td>0.000000</td>\n",
              "      <td>76.000000</td>\n",
              "      <td>38.000000</td>\n",
              "      <td>41.0</td>\n",
              "      <td>0.0</td>\n",
              "      <td>242.0</td>\n",
              "    </tr>\n",
              "    <tr>\n",
              "      <th>2020-08-30</th>\n",
              "      <td>391.0</td>\n",
              "      <td>0.0</td>\n",
              "      <td>0.000000</td>\n",
              "      <td>64.000000</td>\n",
              "      <td>35.000000</td>\n",
              "      <td>38.0</td>\n",
              "      <td>0.0</td>\n",
              "      <td>243.0</td>\n",
              "    </tr>\n",
              "  </tbody>\n",
              "</table>\n",
              "<p>12295 rows × 8 columns</p>\n",
              "</div>"
            ],
            "text/plain": [
              "            STREAMFLOW  PRCP       SNWD  ...  TOBS  WESD  DAY_OF_YEAR\n",
              "DATE                                     ...                         \n",
              "1987-01-01       272.0   0.9  25.225964  ...  16.0   6.8          1.0\n",
              "1987-01-02       290.0   0.1  25.225964  ...  19.0   6.8          2.0\n",
              "1987-01-03       296.0   0.4  25.225964  ...  19.0   7.4          3.0\n",
              "1987-01-04       291.0   0.0  25.225964  ...  10.0   7.4          4.0\n",
              "1987-01-05       282.0   0.0  25.225964  ...   6.0   7.4          5.0\n",
              "...                ...   ...        ...  ...   ...   ...          ...\n",
              "2020-08-26       413.0   0.2   0.000000  ...  49.0   0.0        239.0\n",
              "2020-08-27       417.0   0.0   0.000000  ...  44.0   0.0        240.0\n",
              "2020-08-28       408.0   0.0   0.000000  ...  44.0   0.0        241.0\n",
              "2020-08-29       398.0   0.0   0.000000  ...  41.0   0.0        242.0\n",
              "2020-08-30       391.0   0.0   0.000000  ...  38.0   0.0        243.0\n",
              "\n",
              "[12295 rows x 8 columns]"
            ]
          },
          "metadata": {
            "tags": []
          },
          "execution_count": 1068
        }
      ]
    },
    {
      "cell_type": "code",
      "metadata": {
        "id": "89t4QK3n2XnG",
        "colab_type": "code",
        "colab": {
          "base_uri": "https://localhost:8080/",
          "height": 17
        },
        "outputId": "c4fbe7ee-97b5-4477-92f5-0823cadb4135"
      },
      "source": [
        "from google.colab import files\n",
        "dataset.to_csv('date_index_cleaned_imputed_banner_df.csv')\n",
        "files.download('date_index_cleaned_imputed_banner_df.csv')"
      ],
      "execution_count": null,
      "outputs": [
        {
          "output_type": "display_data",
          "data": {
            "application/javascript": [
              "\n",
              "    async function download(id, filename, size) {\n",
              "      if (!google.colab.kernel.accessAllowed) {\n",
              "        return;\n",
              "      }\n",
              "      const div = document.createElement('div');\n",
              "      const label = document.createElement('label');\n",
              "      label.textContent = `Downloading \"${filename}\": `;\n",
              "      div.appendChild(label);\n",
              "      const progress = document.createElement('progress');\n",
              "      progress.max = size;\n",
              "      div.appendChild(progress);\n",
              "      document.body.appendChild(div);\n",
              "\n",
              "      const buffers = [];\n",
              "      let downloaded = 0;\n",
              "\n",
              "      const channel = await google.colab.kernel.comms.open(id);\n",
              "      // Send a message to notify the kernel that we're ready.\n",
              "      channel.send({})\n",
              "\n",
              "      for await (const message of channel.messages) {\n",
              "        // Send a message to notify the kernel that we're ready.\n",
              "        channel.send({})\n",
              "        if (message.buffers) {\n",
              "          for (const buffer of message.buffers) {\n",
              "            buffers.push(buffer);\n",
              "            downloaded += buffer.byteLength;\n",
              "            progress.value = downloaded;\n",
              "          }\n",
              "        }\n",
              "      }\n",
              "      const blob = new Blob(buffers, {type: 'application/binary'});\n",
              "      const a = document.createElement('a');\n",
              "      a.href = window.URL.createObjectURL(blob);\n",
              "      a.download = filename;\n",
              "      div.appendChild(a);\n",
              "      a.click();\n",
              "      div.remove();\n",
              "    }\n",
              "  "
            ],
            "text/plain": [
              "<IPython.core.display.Javascript object>"
            ]
          },
          "metadata": {
            "tags": []
          }
        },
        {
          "output_type": "display_data",
          "data": {
            "application/javascript": [
              "download(\"download_13ea7b8d-0217-4181-80cf-904d0833d37d\", \"date_index_cleaned_imputed_banner_df.csv\", 712809)"
            ],
            "text/plain": [
              "<IPython.core.display.Javascript object>"
            ]
          },
          "metadata": {
            "tags": []
          }
        }
      ]
    },
    {
      "cell_type": "code",
      "metadata": {
        "id": "vv2EbBwH2hKp",
        "colab_type": "code",
        "colab": {}
      },
      "source": [
        "\n",
        "# from pandas import read_csv\n",
        "# from matplotlib import pyplot\n",
        "# # load dataset\n",
        "# dataset = read_csv('/content/date_index_cleaned_imputed_banner_df.csv', header=0, index_col=0)\n",
        "# values = dataset.values\n",
        "# # specify columns to plot\n",
        "# groups = [0, 1, 2, 3, 5, 6, 7]\n",
        "# i = 1\n",
        "# # plot each column\n",
        "# pyplot.figure()\n",
        "# for group in groups:\n",
        "# \tpyplot.subplot(len(groups), 1, i)\n",
        "# \tpyplot.plot(values[:, group])\n",
        "# \tpyplot.title(dataset.columns[group], y=0.5, loc='right')\n",
        "# \ti += 1\n",
        "# pyplot.show()"
      ],
      "execution_count": null,
      "outputs": []
    },
    {
      "cell_type": "markdown",
      "metadata": {
        "id": "uCt61UL83B0W",
        "colab_type": "text"
      },
      "source": [
        "Do I maybe need to convert the index to a datetime object?"
      ]
    },
    {
      "cell_type": "code",
      "metadata": {
        "id": "D9prioszgRf_",
        "colab_type": "code",
        "colab": {}
      },
      "source": [
        "# # prepare data for lstm\n",
        "# from pandas import read_csv\n",
        "# from pandas import DataFrame\n",
        "# from pandas import concat\n",
        "# from sklearn.preprocessing import LabelEncoder\n",
        "# from sklearn.preprocessing import MinMaxScaler\n",
        " \n",
        "# # convert series to supervised learning\n",
        "# def series_to_supervised(data, n_in=1, n_out=1, dropnan=True):\n",
        "# \tn_vars = 1 if type(data) is list else data.shape[1]\n",
        "# \tdf = DataFrame(data)\n",
        "# \tcols, names = list(), list()\n",
        "# \t# input sequence (t-n, ... t-1)\n",
        "# \tfor i in range(n_in, 0, -1):\n",
        "# \t\tcols.append(df.shift(i))\n",
        "# \t\tnames += [('var%d(t-%d)' % (j+1, i)) for j in range(n_vars)]\n",
        "# \t# forecast sequence (t, t+1, ... t+n)\n",
        "# \tfor i in range(0, n_out):\n",
        "# \t\tcols.append(df.shift(-i))\n",
        "# \t\tif i == 0:\n",
        "# \t\t\tnames += [('var%d(t)' % (j+1)) for j in range(n_vars)]\n",
        "# \t\telse:\n",
        "# \t\t\tnames += [('var%d(t+%d)' % (j+1, i)) for j in range(n_vars)]\n",
        "# \t# put it all together\n",
        "# \tagg = concat(cols, axis=1)\n",
        "# \tagg.columns = names\n",
        "# \t# drop rows with NaN values\n",
        "# \tif dropnan:\n",
        "# \t\tagg.dropna(inplace=True)\n",
        "# \treturn agg\n",
        " \n",
        "# # load dataset\n",
        "# dataset = read_csv('date_index_cleaned_imputed_banner_df.csv', header=0, index_col=0)\n",
        "# values = dataset.values\n"
      ],
      "execution_count": null,
      "outputs": []
    },
    {
      "cell_type": "code",
      "metadata": {
        "id": "YB-2-3KKZfKE",
        "colab_type": "code",
        "colab": {}
      },
      "source": [
        "# prepare data for lstm\n",
        "from pandas import read_csv\n",
        "from pandas import DataFrame\n",
        "from pandas import concat\n",
        "from sklearn.preprocessing import LabelEncoder\n",
        "from sklearn.preprocessing import MinMaxScaler\n",
        " \n",
        "# convert series to supervised learning\n",
        "def series_to_supervised(data, n_in=1, n_out=1, dropnan=True):\n",
        "\tn_vars = 1 if type(data) is list else data.shape[1]\n",
        "\tdf = DataFrame(data)\n",
        "\tcols, names = list(), list()\n",
        "\t# input sequence (t-n, ... t-1)\n",
        "\tfor i in range(n_in, 0, -1):\n",
        "\t\tcols.append(df.shift(i))\n",
        "\t\tnames += [('var%d(t-%d)' % (j+1, i)) for j in range(n_vars)]\n",
        "\t# forecast sequence (t, t+1, ... t+n)\n",
        "\tfor i in range(0, n_out):\n",
        "\t\tcols.append(df.shift(-i))\n",
        "\t\tif i == 0:\n",
        "\t\t\tnames += [('var%d(t)' % (j+1)) for j in range(n_vars)]\n",
        "\t\telse:\n",
        "\t\t\tnames += [('var%d(t+%d)' % (j+1, i)) for j in range(n_vars)]\n",
        "\t# put it all together\n",
        "\tagg = concat(cols, axis=1)\n",
        "\tagg.columns = names\n",
        "\t# drop rows with NaN values\n",
        "\tif dropnan:\n",
        "\t\tagg.dropna(inplace=True)\n",
        "\treturn agg\n",
        " \n",
        "# load dataset\n",
        "dataset = read_csv('date_index_cleaned_imputed_banner_df.csv', header=0, index_col=0)\n",
        "values = dataset.values"
      ],
      "execution_count": null,
      "outputs": []
    },
    {
      "cell_type": "code",
      "metadata": {
        "id": "KKVFBuNzZIVq",
        "colab_type": "code",
        "colab": {
          "base_uri": "https://localhost:8080/",
          "height": 34
        },
        "outputId": "4b406ff2-afe8-4762-bb76-eb485e77cef5"
      },
      "source": [
        "for i in range(1,0,-1):\n",
        "  print(i)"
      ],
      "execution_count": null,
      "outputs": [
        {
          "output_type": "stream",
          "text": [
            "1\n"
          ],
          "name": "stdout"
        }
      ]
    },
    {
      "cell_type": "code",
      "metadata": {
        "id": "q0Ll2arkmXyZ",
        "colab_type": "code",
        "colab": {
          "base_uri": "https://localhost:8080/",
          "height": 450
        },
        "outputId": "436a70fc-0fe8-4c71-e7ff-3bd5c39522ab"
      },
      "source": [
        "dataset"
      ],
      "execution_count": null,
      "outputs": [
        {
          "output_type": "execute_result",
          "data": {
            "text/html": [
              "<div>\n",
              "<style scoped>\n",
              "    .dataframe tbody tr th:only-of-type {\n",
              "        vertical-align: middle;\n",
              "    }\n",
              "\n",
              "    .dataframe tbody tr th {\n",
              "        vertical-align: top;\n",
              "    }\n",
              "\n",
              "    .dataframe thead th {\n",
              "        text-align: right;\n",
              "    }\n",
              "</style>\n",
              "<table border=\"1\" class=\"dataframe\">\n",
              "  <thead>\n",
              "    <tr style=\"text-align: right;\">\n",
              "      <th></th>\n",
              "      <th>STREAMFLOW</th>\n",
              "      <th>PRCP</th>\n",
              "      <th>SNWD</th>\n",
              "      <th>TMAX</th>\n",
              "      <th>TMIN</th>\n",
              "      <th>TOBS</th>\n",
              "      <th>WESD</th>\n",
              "      <th>DAY_OF_YEAR</th>\n",
              "    </tr>\n",
              "    <tr>\n",
              "      <th>DATE</th>\n",
              "      <th></th>\n",
              "      <th></th>\n",
              "      <th></th>\n",
              "      <th></th>\n",
              "      <th></th>\n",
              "      <th></th>\n",
              "      <th></th>\n",
              "      <th></th>\n",
              "    </tr>\n",
              "  </thead>\n",
              "  <tbody>\n",
              "    <tr>\n",
              "      <th>1987-01-01</th>\n",
              "      <td>272.0</td>\n",
              "      <td>0.9</td>\n",
              "      <td>25.225964</td>\n",
              "      <td>52.136375</td>\n",
              "      <td>24.521684</td>\n",
              "      <td>16.0</td>\n",
              "      <td>6.8</td>\n",
              "      <td>1.0</td>\n",
              "    </tr>\n",
              "    <tr>\n",
              "      <th>1987-01-02</th>\n",
              "      <td>290.0</td>\n",
              "      <td>0.1</td>\n",
              "      <td>25.225964</td>\n",
              "      <td>52.136375</td>\n",
              "      <td>24.521684</td>\n",
              "      <td>19.0</td>\n",
              "      <td>6.8</td>\n",
              "      <td>2.0</td>\n",
              "    </tr>\n",
              "    <tr>\n",
              "      <th>1987-01-03</th>\n",
              "      <td>296.0</td>\n",
              "      <td>0.4</td>\n",
              "      <td>25.225964</td>\n",
              "      <td>52.136375</td>\n",
              "      <td>24.521684</td>\n",
              "      <td>19.0</td>\n",
              "      <td>7.4</td>\n",
              "      <td>3.0</td>\n",
              "    </tr>\n",
              "    <tr>\n",
              "      <th>1987-01-04</th>\n",
              "      <td>291.0</td>\n",
              "      <td>0.0</td>\n",
              "      <td>25.225964</td>\n",
              "      <td>52.136375</td>\n",
              "      <td>24.521684</td>\n",
              "      <td>10.0</td>\n",
              "      <td>7.4</td>\n",
              "      <td>4.0</td>\n",
              "    </tr>\n",
              "    <tr>\n",
              "      <th>1987-01-05</th>\n",
              "      <td>282.0</td>\n",
              "      <td>0.0</td>\n",
              "      <td>25.225964</td>\n",
              "      <td>52.136375</td>\n",
              "      <td>24.521684</td>\n",
              "      <td>6.0</td>\n",
              "      <td>7.4</td>\n",
              "      <td>5.0</td>\n",
              "    </tr>\n",
              "    <tr>\n",
              "      <th>...</th>\n",
              "      <td>...</td>\n",
              "      <td>...</td>\n",
              "      <td>...</td>\n",
              "      <td>...</td>\n",
              "      <td>...</td>\n",
              "      <td>...</td>\n",
              "      <td>...</td>\n",
              "      <td>...</td>\n",
              "    </tr>\n",
              "    <tr>\n",
              "      <th>2020-08-26</th>\n",
              "      <td>413.0</td>\n",
              "      <td>0.2</td>\n",
              "      <td>0.000000</td>\n",
              "      <td>77.000000</td>\n",
              "      <td>44.000000</td>\n",
              "      <td>49.0</td>\n",
              "      <td>0.0</td>\n",
              "      <td>239.0</td>\n",
              "    </tr>\n",
              "    <tr>\n",
              "      <th>2020-08-27</th>\n",
              "      <td>417.0</td>\n",
              "      <td>0.0</td>\n",
              "      <td>0.000000</td>\n",
              "      <td>72.000000</td>\n",
              "      <td>44.000000</td>\n",
              "      <td>44.0</td>\n",
              "      <td>0.0</td>\n",
              "      <td>240.0</td>\n",
              "    </tr>\n",
              "    <tr>\n",
              "      <th>2020-08-28</th>\n",
              "      <td>408.0</td>\n",
              "      <td>0.0</td>\n",
              "      <td>0.000000</td>\n",
              "      <td>75.000000</td>\n",
              "      <td>42.000000</td>\n",
              "      <td>44.0</td>\n",
              "      <td>0.0</td>\n",
              "      <td>241.0</td>\n",
              "    </tr>\n",
              "    <tr>\n",
              "      <th>2020-08-29</th>\n",
              "      <td>398.0</td>\n",
              "      <td>0.0</td>\n",
              "      <td>0.000000</td>\n",
              "      <td>76.000000</td>\n",
              "      <td>38.000000</td>\n",
              "      <td>41.0</td>\n",
              "      <td>0.0</td>\n",
              "      <td>242.0</td>\n",
              "    </tr>\n",
              "    <tr>\n",
              "      <th>2020-08-30</th>\n",
              "      <td>391.0</td>\n",
              "      <td>0.0</td>\n",
              "      <td>0.000000</td>\n",
              "      <td>64.000000</td>\n",
              "      <td>35.000000</td>\n",
              "      <td>38.0</td>\n",
              "      <td>0.0</td>\n",
              "      <td>243.0</td>\n",
              "    </tr>\n",
              "  </tbody>\n",
              "</table>\n",
              "<p>12295 rows × 8 columns</p>\n",
              "</div>"
            ],
            "text/plain": [
              "            STREAMFLOW  PRCP       SNWD  ...  TOBS  WESD  DAY_OF_YEAR\n",
              "DATE                                     ...                         \n",
              "1987-01-01       272.0   0.9  25.225964  ...  16.0   6.8          1.0\n",
              "1987-01-02       290.0   0.1  25.225964  ...  19.0   6.8          2.0\n",
              "1987-01-03       296.0   0.4  25.225964  ...  19.0   7.4          3.0\n",
              "1987-01-04       291.0   0.0  25.225964  ...  10.0   7.4          4.0\n",
              "1987-01-05       282.0   0.0  25.225964  ...   6.0   7.4          5.0\n",
              "...                ...   ...        ...  ...   ...   ...          ...\n",
              "2020-08-26       413.0   0.2   0.000000  ...  49.0   0.0        239.0\n",
              "2020-08-27       417.0   0.0   0.000000  ...  44.0   0.0        240.0\n",
              "2020-08-28       408.0   0.0   0.000000  ...  44.0   0.0        241.0\n",
              "2020-08-29       398.0   0.0   0.000000  ...  41.0   0.0        242.0\n",
              "2020-08-30       391.0   0.0   0.000000  ...  38.0   0.0        243.0\n",
              "\n",
              "[12295 rows x 8 columns]"
            ]
          },
          "metadata": {
            "tags": []
          },
          "execution_count": 1074
        }
      ]
    },
    {
      "cell_type": "code",
      "metadata": {
        "id": "IwKMhEGZmUCh",
        "colab_type": "code",
        "colab": {
          "base_uri": "https://localhost:8080/",
          "height": 238
        },
        "outputId": "3915e6f1-920c-4c42-84e3-1a046bde0e6e"
      },
      "source": [
        "values"
      ],
      "execution_count": null,
      "outputs": [
        {
          "output_type": "execute_result",
          "data": {
            "text/plain": [
              "array([[2.72000000e+02, 9.00000000e-01, 2.52259642e+01, ...,\n",
              "        1.60000000e+01, 6.80000000e+00, 1.00000000e+00],\n",
              "       [2.90000000e+02, 1.00000000e-01, 2.52259642e+01, ...,\n",
              "        1.90000000e+01, 6.80000000e+00, 2.00000000e+00],\n",
              "       [2.96000000e+02, 4.00000000e-01, 2.52259642e+01, ...,\n",
              "        1.90000000e+01, 7.40000000e+00, 3.00000000e+00],\n",
              "       ...,\n",
              "       [4.08000000e+02, 0.00000000e+00, 0.00000000e+00, ...,\n",
              "        4.40000000e+01, 0.00000000e+00, 2.41000000e+02],\n",
              "       [3.98000000e+02, 0.00000000e+00, 0.00000000e+00, ...,\n",
              "        4.10000000e+01, 0.00000000e+00, 2.42000000e+02],\n",
              "       [3.91000000e+02, 0.00000000e+00, 0.00000000e+00, ...,\n",
              "        3.80000000e+01, 0.00000000e+00, 2.43000000e+02]])"
            ]
          },
          "metadata": {
            "tags": []
          },
          "execution_count": 1075
        }
      ]
    },
    {
      "cell_type": "code",
      "metadata": {
        "id": "zx7quZN_kYet",
        "colab_type": "code",
        "colab": {
          "base_uri": "https://localhost:8080/",
          "height": 153
        },
        "outputId": "82ec6c5f-3639-4823-ea32-d13d419689af"
      },
      "source": [
        "# # integer encode direction\n",
        "# encoder = LabelEncoder()\n",
        "# values[:,4] = encoder.fit_transform(values[:,4])\n",
        "# ensure all data is float\n",
        "values = values.astype('float32')\n",
        "# normalize features\n",
        "scaler = MinMaxScaler(feature_range=(0, 1))\n",
        "scaled = scaler.fit_transform(values)\n",
        "# frame as supervised learning\n",
        "\n",
        "\n",
        "## Changing these inputs changes the time forecast, eg (scaled,  5, 1) will predict the current flow based on 5 day old data.\n",
        "## This is really what I want to get at for a longer term forecast\n",
        "reframed = series_to_supervised(scaled, 1, 1)\n",
        "print(reframed.head())"
      ],
      "execution_count": null,
      "outputs": [
        {
          "output_type": "stream",
          "text": [
            "   var1(t-1)  var2(t-1)  var3(t-1)  ...   var6(t)   var7(t)   var8(t)\n",
            "1   0.018959   0.290323   0.215607  ...  0.463636  0.165854  0.002740\n",
            "2   0.021362   0.032258   0.215607  ...  0.463636  0.180488  0.005479\n",
            "3   0.022163   0.129032   0.215607  ...  0.381818  0.180488  0.008219\n",
            "4   0.021495   0.000000   0.215607  ...  0.345455  0.180488  0.010959\n",
            "5   0.020294   0.000000   0.215607  ...  0.318182  0.180488  0.013699\n",
            "\n",
            "[5 rows x 16 columns]\n"
          ],
          "name": "stdout"
        }
      ]
    },
    {
      "cell_type": "code",
      "metadata": {
        "id": "NKJpaZTYDag4",
        "colab_type": "code",
        "colab": {
          "base_uri": "https://localhost:8080/",
          "height": 436
        },
        "outputId": "fa5a4904-00dc-409e-eb0f-51de44b21ef7"
      },
      "source": [
        "reframed"
      ],
      "execution_count": null,
      "outputs": [
        {
          "output_type": "execute_result",
          "data": {
            "text/html": [
              "<div>\n",
              "<style scoped>\n",
              "    .dataframe tbody tr th:only-of-type {\n",
              "        vertical-align: middle;\n",
              "    }\n",
              "\n",
              "    .dataframe tbody tr th {\n",
              "        vertical-align: top;\n",
              "    }\n",
              "\n",
              "    .dataframe thead th {\n",
              "        text-align: right;\n",
              "    }\n",
              "</style>\n",
              "<table border=\"1\" class=\"dataframe\">\n",
              "  <thead>\n",
              "    <tr style=\"text-align: right;\">\n",
              "      <th></th>\n",
              "      <th>var1(t-1)</th>\n",
              "      <th>var2(t-1)</th>\n",
              "      <th>var3(t-1)</th>\n",
              "      <th>var4(t-1)</th>\n",
              "      <th>var5(t-1)</th>\n",
              "      <th>var6(t-1)</th>\n",
              "      <th>var7(t-1)</th>\n",
              "      <th>var8(t-1)</th>\n",
              "      <th>var1(t)</th>\n",
              "      <th>var2(t)</th>\n",
              "      <th>var3(t)</th>\n",
              "      <th>var4(t)</th>\n",
              "      <th>var5(t)</th>\n",
              "      <th>var6(t)</th>\n",
              "      <th>var7(t)</th>\n",
              "      <th>var8(t)</th>\n",
              "    </tr>\n",
              "  </thead>\n",
              "  <tbody>\n",
              "    <tr>\n",
              "      <th>1</th>\n",
              "      <td>0.018959</td>\n",
              "      <td>0.290323</td>\n",
              "      <td>0.215607</td>\n",
              "      <td>0.589035</td>\n",
              "      <td>0.646975</td>\n",
              "      <td>0.436364</td>\n",
              "      <td>0.165854</td>\n",
              "      <td>0.000000</td>\n",
              "      <td>0.021362</td>\n",
              "      <td>0.032258</td>\n",
              "      <td>0.215607</td>\n",
              "      <td>0.589035</td>\n",
              "      <td>0.646975</td>\n",
              "      <td>0.463636</td>\n",
              "      <td>0.165854</td>\n",
              "      <td>0.002740</td>\n",
              "    </tr>\n",
              "    <tr>\n",
              "      <th>2</th>\n",
              "      <td>0.021362</td>\n",
              "      <td>0.032258</td>\n",
              "      <td>0.215607</td>\n",
              "      <td>0.589035</td>\n",
              "      <td>0.646975</td>\n",
              "      <td>0.463636</td>\n",
              "      <td>0.165854</td>\n",
              "      <td>0.002740</td>\n",
              "      <td>0.022163</td>\n",
              "      <td>0.129032</td>\n",
              "      <td>0.215607</td>\n",
              "      <td>0.589035</td>\n",
              "      <td>0.646975</td>\n",
              "      <td>0.463636</td>\n",
              "      <td>0.180488</td>\n",
              "      <td>0.005479</td>\n",
              "    </tr>\n",
              "    <tr>\n",
              "      <th>3</th>\n",
              "      <td>0.022163</td>\n",
              "      <td>0.129032</td>\n",
              "      <td>0.215607</td>\n",
              "      <td>0.589035</td>\n",
              "      <td>0.646975</td>\n",
              "      <td>0.463636</td>\n",
              "      <td>0.180488</td>\n",
              "      <td>0.005479</td>\n",
              "      <td>0.021495</td>\n",
              "      <td>0.000000</td>\n",
              "      <td>0.215607</td>\n",
              "      <td>0.589035</td>\n",
              "      <td>0.646975</td>\n",
              "      <td>0.381818</td>\n",
              "      <td>0.180488</td>\n",
              "      <td>0.008219</td>\n",
              "    </tr>\n",
              "    <tr>\n",
              "      <th>4</th>\n",
              "      <td>0.021495</td>\n",
              "      <td>0.000000</td>\n",
              "      <td>0.215607</td>\n",
              "      <td>0.589035</td>\n",
              "      <td>0.646975</td>\n",
              "      <td>0.381818</td>\n",
              "      <td>0.180488</td>\n",
              "      <td>0.008219</td>\n",
              "      <td>0.020294</td>\n",
              "      <td>0.000000</td>\n",
              "      <td>0.215607</td>\n",
              "      <td>0.589035</td>\n",
              "      <td>0.646975</td>\n",
              "      <td>0.345455</td>\n",
              "      <td>0.180488</td>\n",
              "      <td>0.010959</td>\n",
              "    </tr>\n",
              "    <tr>\n",
              "      <th>5</th>\n",
              "      <td>0.020294</td>\n",
              "      <td>0.000000</td>\n",
              "      <td>0.215607</td>\n",
              "      <td>0.589035</td>\n",
              "      <td>0.646975</td>\n",
              "      <td>0.345455</td>\n",
              "      <td>0.180488</td>\n",
              "      <td>0.010959</td>\n",
              "      <td>0.019226</td>\n",
              "      <td>0.000000</td>\n",
              "      <td>0.215607</td>\n",
              "      <td>0.589035</td>\n",
              "      <td>0.646975</td>\n",
              "      <td>0.318182</td>\n",
              "      <td>0.180488</td>\n",
              "      <td>0.013699</td>\n",
              "    </tr>\n",
              "    <tr>\n",
              "      <th>...</th>\n",
              "      <td>...</td>\n",
              "      <td>...</td>\n",
              "      <td>...</td>\n",
              "      <td>...</td>\n",
              "      <td>...</td>\n",
              "      <td>...</td>\n",
              "      <td>...</td>\n",
              "      <td>...</td>\n",
              "      <td>...</td>\n",
              "      <td>...</td>\n",
              "      <td>...</td>\n",
              "      <td>...</td>\n",
              "      <td>...</td>\n",
              "      <td>...</td>\n",
              "      <td>...</td>\n",
              "      <td>...</td>\n",
              "    </tr>\n",
              "    <tr>\n",
              "      <th>12290</th>\n",
              "      <td>0.038451</td>\n",
              "      <td>0.000000</td>\n",
              "      <td>0.000000</td>\n",
              "      <td>0.835052</td>\n",
              "      <td>0.891304</td>\n",
              "      <td>0.736364</td>\n",
              "      <td>0.000000</td>\n",
              "      <td>0.649315</td>\n",
              "      <td>0.037784</td>\n",
              "      <td>0.064516</td>\n",
              "      <td>0.000000</td>\n",
              "      <td>0.845361</td>\n",
              "      <td>0.858696</td>\n",
              "      <td>0.736364</td>\n",
              "      <td>0.000000</td>\n",
              "      <td>0.652055</td>\n",
              "    </tr>\n",
              "    <tr>\n",
              "      <th>12291</th>\n",
              "      <td>0.037784</td>\n",
              "      <td>0.064516</td>\n",
              "      <td>0.000000</td>\n",
              "      <td>0.845361</td>\n",
              "      <td>0.858696</td>\n",
              "      <td>0.736364</td>\n",
              "      <td>0.000000</td>\n",
              "      <td>0.652055</td>\n",
              "      <td>0.038318</td>\n",
              "      <td>0.000000</td>\n",
              "      <td>0.000000</td>\n",
              "      <td>0.793814</td>\n",
              "      <td>0.858696</td>\n",
              "      <td>0.690909</td>\n",
              "      <td>0.000000</td>\n",
              "      <td>0.654795</td>\n",
              "    </tr>\n",
              "    <tr>\n",
              "      <th>12292</th>\n",
              "      <td>0.038318</td>\n",
              "      <td>0.000000</td>\n",
              "      <td>0.000000</td>\n",
              "      <td>0.793814</td>\n",
              "      <td>0.858696</td>\n",
              "      <td>0.690909</td>\n",
              "      <td>0.000000</td>\n",
              "      <td>0.654795</td>\n",
              "      <td>0.037116</td>\n",
              "      <td>0.000000</td>\n",
              "      <td>0.000000</td>\n",
              "      <td>0.824742</td>\n",
              "      <td>0.836957</td>\n",
              "      <td>0.690909</td>\n",
              "      <td>0.000000</td>\n",
              "      <td>0.657534</td>\n",
              "    </tr>\n",
              "    <tr>\n",
              "      <th>12293</th>\n",
              "      <td>0.037116</td>\n",
              "      <td>0.000000</td>\n",
              "      <td>0.000000</td>\n",
              "      <td>0.824742</td>\n",
              "      <td>0.836957</td>\n",
              "      <td>0.690909</td>\n",
              "      <td>0.000000</td>\n",
              "      <td>0.657534</td>\n",
              "      <td>0.035781</td>\n",
              "      <td>0.000000</td>\n",
              "      <td>0.000000</td>\n",
              "      <td>0.835052</td>\n",
              "      <td>0.793478</td>\n",
              "      <td>0.663636</td>\n",
              "      <td>0.000000</td>\n",
              "      <td>0.660274</td>\n",
              "    </tr>\n",
              "    <tr>\n",
              "      <th>12294</th>\n",
              "      <td>0.035781</td>\n",
              "      <td>0.000000</td>\n",
              "      <td>0.000000</td>\n",
              "      <td>0.835052</td>\n",
              "      <td>0.793478</td>\n",
              "      <td>0.663636</td>\n",
              "      <td>0.000000</td>\n",
              "      <td>0.660274</td>\n",
              "      <td>0.034846</td>\n",
              "      <td>0.000000</td>\n",
              "      <td>0.000000</td>\n",
              "      <td>0.711340</td>\n",
              "      <td>0.760870</td>\n",
              "      <td>0.636364</td>\n",
              "      <td>0.000000</td>\n",
              "      <td>0.663014</td>\n",
              "    </tr>\n",
              "  </tbody>\n",
              "</table>\n",
              "<p>12294 rows × 16 columns</p>\n",
              "</div>"
            ],
            "text/plain": [
              "       var1(t-1)  var2(t-1)  var3(t-1)  ...   var6(t)   var7(t)   var8(t)\n",
              "1       0.018959   0.290323   0.215607  ...  0.463636  0.165854  0.002740\n",
              "2       0.021362   0.032258   0.215607  ...  0.463636  0.180488  0.005479\n",
              "3       0.022163   0.129032   0.215607  ...  0.381818  0.180488  0.008219\n",
              "4       0.021495   0.000000   0.215607  ...  0.345455  0.180488  0.010959\n",
              "5       0.020294   0.000000   0.215607  ...  0.318182  0.180488  0.013699\n",
              "...          ...        ...        ...  ...       ...       ...       ...\n",
              "12290   0.038451   0.000000   0.000000  ...  0.736364  0.000000  0.652055\n",
              "12291   0.037784   0.064516   0.000000  ...  0.690909  0.000000  0.654795\n",
              "12292   0.038318   0.000000   0.000000  ...  0.690909  0.000000  0.657534\n",
              "12293   0.037116   0.000000   0.000000  ...  0.663636  0.000000  0.660274\n",
              "12294   0.035781   0.000000   0.000000  ...  0.636364  0.000000  0.663014\n",
              "\n",
              "[12294 rows x 16 columns]"
            ]
          },
          "metadata": {
            "tags": []
          },
          "execution_count": 1077
        }
      ]
    },
    {
      "cell_type": "code",
      "metadata": {
        "id": "CwekcjOiDR2R",
        "colab_type": "code",
        "colab": {}
      },
      "source": [
        "# # drop columns we don't want to predict\n",
        "# reframed.drop(reframed.columns[[9,10,11,12,13,14,15]], axis=1, inplace=True)"
      ],
      "execution_count": null,
      "outputs": []
    },
    {
      "cell_type": "code",
      "metadata": {
        "id": "lY8GtFWofnlp",
        "colab_type": "code",
        "colab": {
          "base_uri": "https://localhost:8080/",
          "height": 34
        },
        "outputId": "c422475a-7b05-4c06-dd50-038f533e5653"
      },
      "source": [
        "reframed.shape"
      ],
      "execution_count": null,
      "outputs": [
        {
          "output_type": "execute_result",
          "data": {
            "text/plain": [
              "(12294, 16)"
            ]
          },
          "metadata": {
            "tags": []
          },
          "execution_count": 1079
        }
      ]
    },
    {
      "cell_type": "code",
      "metadata": {
        "id": "tZdicwDhhKkR",
        "colab_type": "code",
        "colab": {}
      },
      "source": [
        ""
      ],
      "execution_count": null,
      "outputs": []
    },
    {
      "cell_type": "markdown",
      "metadata": {
        "id": "BcztUdXJhLEn",
        "colab_type": "text"
      },
      "source": [
        "Now we are predicting the flow five days in advance. \n",
        "\n",
        "Should be quite a bit worse, but we'll see!"
      ]
    },
    {
      "cell_type": "code",
      "metadata": {
        "id": "MvV3Sch3gSNH",
        "colab_type": "code",
        "colab": {}
      },
      "source": [
        "# columns_to_keep = ['var1(t-1)', 'var2(t-1)', 'var3(t-1)', 'var4(t-1)', 'var5(t-1)', 'var6(t-1)', 'var7(t-1)', 'var8(t-1)', 'var1(t+4)']"
      ],
      "execution_count": null,
      "outputs": []
    },
    {
      "cell_type": "code",
      "metadata": {
        "id": "Ue-RPUwFf7C9",
        "colab_type": "code",
        "colab": {}
      },
      "source": [
        "# reframed[columns_to_keep].head(20)"
      ],
      "execution_count": null,
      "outputs": []
    },
    {
      "cell_type": "code",
      "metadata": {
        "id": "i0tHmpc_fOoh",
        "colab_type": "code",
        "colab": {}
      },
      "source": [
        "# drop columns we don't want to predict\n",
        "reframed.drop(reframed.columns[[9,10,11,12,13,14,15]], axis=1, inplace=True)"
      ],
      "execution_count": null,
      "outputs": []
    },
    {
      "cell_type": "code",
      "metadata": {
        "id": "Jf3WcN_mhFS0",
        "colab_type": "code",
        "colab": {}
      },
      "source": [
        "# reframed = reframed[columns_to_keep]"
      ],
      "execution_count": null,
      "outputs": []
    },
    {
      "cell_type": "code",
      "metadata": {
        "id": "J_vL9ZAKCowW",
        "colab_type": "code",
        "colab": {
          "base_uri": "https://localhost:8080/",
          "height": 204
        },
        "outputId": "a84ef3a5-0729-4a4c-a8b1-973054f40b4c"
      },
      "source": [
        "reframed.head()"
      ],
      "execution_count": null,
      "outputs": [
        {
          "output_type": "execute_result",
          "data": {
            "text/html": [
              "<div>\n",
              "<style scoped>\n",
              "    .dataframe tbody tr th:only-of-type {\n",
              "        vertical-align: middle;\n",
              "    }\n",
              "\n",
              "    .dataframe tbody tr th {\n",
              "        vertical-align: top;\n",
              "    }\n",
              "\n",
              "    .dataframe thead th {\n",
              "        text-align: right;\n",
              "    }\n",
              "</style>\n",
              "<table border=\"1\" class=\"dataframe\">\n",
              "  <thead>\n",
              "    <tr style=\"text-align: right;\">\n",
              "      <th></th>\n",
              "      <th>var1(t-1)</th>\n",
              "      <th>var2(t-1)</th>\n",
              "      <th>var3(t-1)</th>\n",
              "      <th>var4(t-1)</th>\n",
              "      <th>var5(t-1)</th>\n",
              "      <th>var6(t-1)</th>\n",
              "      <th>var7(t-1)</th>\n",
              "      <th>var8(t-1)</th>\n",
              "      <th>var1(t)</th>\n",
              "    </tr>\n",
              "  </thead>\n",
              "  <tbody>\n",
              "    <tr>\n",
              "      <th>1</th>\n",
              "      <td>0.018959</td>\n",
              "      <td>0.290323</td>\n",
              "      <td>0.215607</td>\n",
              "      <td>0.589035</td>\n",
              "      <td>0.646975</td>\n",
              "      <td>0.436364</td>\n",
              "      <td>0.165854</td>\n",
              "      <td>0.000000</td>\n",
              "      <td>0.021362</td>\n",
              "    </tr>\n",
              "    <tr>\n",
              "      <th>2</th>\n",
              "      <td>0.021362</td>\n",
              "      <td>0.032258</td>\n",
              "      <td>0.215607</td>\n",
              "      <td>0.589035</td>\n",
              "      <td>0.646975</td>\n",
              "      <td>0.463636</td>\n",
              "      <td>0.165854</td>\n",
              "      <td>0.002740</td>\n",
              "      <td>0.022163</td>\n",
              "    </tr>\n",
              "    <tr>\n",
              "      <th>3</th>\n",
              "      <td>0.022163</td>\n",
              "      <td>0.129032</td>\n",
              "      <td>0.215607</td>\n",
              "      <td>0.589035</td>\n",
              "      <td>0.646975</td>\n",
              "      <td>0.463636</td>\n",
              "      <td>0.180488</td>\n",
              "      <td>0.005479</td>\n",
              "      <td>0.021495</td>\n",
              "    </tr>\n",
              "    <tr>\n",
              "      <th>4</th>\n",
              "      <td>0.021495</td>\n",
              "      <td>0.000000</td>\n",
              "      <td>0.215607</td>\n",
              "      <td>0.589035</td>\n",
              "      <td>0.646975</td>\n",
              "      <td>0.381818</td>\n",
              "      <td>0.180488</td>\n",
              "      <td>0.008219</td>\n",
              "      <td>0.020294</td>\n",
              "    </tr>\n",
              "    <tr>\n",
              "      <th>5</th>\n",
              "      <td>0.020294</td>\n",
              "      <td>0.000000</td>\n",
              "      <td>0.215607</td>\n",
              "      <td>0.589035</td>\n",
              "      <td>0.646975</td>\n",
              "      <td>0.345455</td>\n",
              "      <td>0.180488</td>\n",
              "      <td>0.010959</td>\n",
              "      <td>0.019226</td>\n",
              "    </tr>\n",
              "  </tbody>\n",
              "</table>\n",
              "</div>"
            ],
            "text/plain": [
              "   var1(t-1)  var2(t-1)  var3(t-1)  ...  var7(t-1)  var8(t-1)   var1(t)\n",
              "1   0.018959   0.290323   0.215607  ...   0.165854   0.000000  0.021362\n",
              "2   0.021362   0.032258   0.215607  ...   0.165854   0.002740  0.022163\n",
              "3   0.022163   0.129032   0.215607  ...   0.180488   0.005479  0.021495\n",
              "4   0.021495   0.000000   0.215607  ...   0.180488   0.008219  0.020294\n",
              "5   0.020294   0.000000   0.215607  ...   0.180488   0.010959  0.019226\n",
              "\n",
              "[5 rows x 9 columns]"
            ]
          },
          "metadata": {
            "tags": []
          },
          "execution_count": 1084
        }
      ]
    },
    {
      "cell_type": "code",
      "metadata": {
        "id": "FQvRw6rM3tpL",
        "colab_type": "code",
        "colab": {
          "base_uri": "https://localhost:8080/",
          "height": 34
        },
        "outputId": "cc70dc0c-674b-45b6-d9af-d1c39c902d8e"
      },
      "source": [
        "\n",
        "# split into train and test sets\n",
        "values = reframed.values\n",
        "## 20 years\n",
        "n_train_days = 365 * 20\n",
        "train = values[:n_train_days, :]\n",
        "test = values[n_train_days:, :]\n",
        "# split into input and outputs\n",
        "train_X, train_y = train[:, :-1], train[:, -1]\n",
        "test_X, test_y = test[:, :-1], test[:, -1]\n",
        "# reshape input to be 3D [samples, timesteps, features]\n",
        "train_X = train_X.reshape((train_X.shape[0], 1, train_X.shape[1]))\n",
        "test_X = test_X.reshape((test_X.shape[0], 1, test_X.shape[1]))\n",
        "print(train_X.shape, train_y.shape, test_X.shape, test_y.shape)\n"
      ],
      "execution_count": null,
      "outputs": [
        {
          "output_type": "stream",
          "text": [
            "(7300, 1, 8) (7300,) (4994, 1, 8) (4994,)\n"
          ],
          "name": "stdout"
        }
      ]
    },
    {
      "cell_type": "code",
      "metadata": {
        "id": "IP0Z7KGS4daR",
        "colab_type": "code",
        "colab": {}
      },
      "source": [
        "from math import sqrt\n",
        "from numpy import concatenate\n",
        "from matplotlib import pyplot\n",
        "from pandas import read_csv\n",
        "from pandas import DataFrame\n",
        "from pandas import concat\n",
        "from sklearn.preprocessing import MinMaxScaler\n",
        "from sklearn.preprocessing import LabelEncoder\n",
        "from sklearn.metrics import mean_squared_error\n",
        "from keras.models import Sequential\n",
        "from keras.layers import Dense\n",
        "from keras.layers import LSTM"
      ],
      "execution_count": null,
      "outputs": []
    },
    {
      "cell_type": "code",
      "metadata": {
        "id": "anG4vj4-3zza",
        "colab_type": "code",
        "colab": {
          "base_uri": "https://localhost:8080/",
          "height": 1000
        },
        "outputId": "44bb71e9-3c9d-4c22-e489-c3b3cce73989"
      },
      "source": [
        "# design network\n",
        "model = Sequential()\n",
        "model.add(LSTM(50, input_shape=(train_X.shape[1], train_X.shape[2])))\n",
        "model.add(Dense(1))\n",
        "model.compile(loss='mae', optimizer='adam')\n",
        "# fit network\n",
        "history = model.fit(train_X, train_y, epochs=50, batch_size=365, validation_data=(test_X, test_y), verbose=2, shuffle=False)\n",
        "# plot history\n",
        "pyplot.plot(history.history['loss'], label='train')\n",
        "pyplot.plot(history.history['val_loss'], label='test')\n",
        "pyplot.legend()\n",
        "pyplot.show()"
      ],
      "execution_count": null,
      "outputs": [
        {
          "output_type": "stream",
          "text": [
            "Epoch 1/50\n",
            "20/20 - 0s - loss: 0.0688 - val_loss: 0.0701\n",
            "Epoch 2/50\n",
            "20/20 - 0s - loss: 0.0635 - val_loss: 0.0681\n",
            "Epoch 3/50\n",
            "20/20 - 0s - loss: 0.0601 - val_loss: 0.0625\n",
            "Epoch 4/50\n",
            "20/20 - 0s - loss: 0.0554 - val_loss: 0.0587\n",
            "Epoch 5/50\n",
            "20/20 - 0s - loss: 0.0524 - val_loss: 0.0550\n",
            "Epoch 6/50\n",
            "20/20 - 0s - loss: 0.0492 - val_loss: 0.0508\n",
            "Epoch 7/50\n",
            "20/20 - 0s - loss: 0.0456 - val_loss: 0.0461\n",
            "Epoch 8/50\n",
            "20/20 - 0s - loss: 0.0413 - val_loss: 0.0407\n",
            "Epoch 9/50\n",
            "20/20 - 0s - loss: 0.0371 - val_loss: 0.0348\n",
            "Epoch 10/50\n",
            "20/20 - 0s - loss: 0.0320 - val_loss: 0.0286\n",
            "Epoch 11/50\n",
            "20/20 - 0s - loss: 0.0257 - val_loss: 0.0269\n",
            "Epoch 12/50\n",
            "20/20 - 0s - loss: 0.0173 - val_loss: 0.0150\n",
            "Epoch 13/50\n",
            "20/20 - 0s - loss: 0.0126 - val_loss: 0.0095\n",
            "Epoch 14/50\n",
            "20/20 - 0s - loss: 0.0089 - val_loss: 0.0095\n",
            "Epoch 15/50\n",
            "20/20 - 0s - loss: 0.0077 - val_loss: 0.0089\n",
            "Epoch 16/50\n",
            "20/20 - 0s - loss: 0.0069 - val_loss: 0.0083\n",
            "Epoch 17/50\n",
            "20/20 - 0s - loss: 0.0066 - val_loss: 0.0080\n",
            "Epoch 18/50\n",
            "20/20 - 0s - loss: 0.0065 - val_loss: 0.0081\n",
            "Epoch 19/50\n",
            "20/20 - 0s - loss: 0.0064 - val_loss: 0.0080\n",
            "Epoch 20/50\n",
            "20/20 - 0s - loss: 0.0064 - val_loss: 0.0081\n",
            "Epoch 21/50\n",
            "20/20 - 0s - loss: 0.0063 - val_loss: 0.0075\n",
            "Epoch 22/50\n",
            "20/20 - 0s - loss: 0.0062 - val_loss: 0.0074\n",
            "Epoch 23/50\n",
            "20/20 - 0s - loss: 0.0063 - val_loss: 0.0074\n",
            "Epoch 24/50\n",
            "20/20 - 0s - loss: 0.0062 - val_loss: 0.0076\n",
            "Epoch 25/50\n",
            "20/20 - 0s - loss: 0.0062 - val_loss: 0.0074\n",
            "Epoch 26/50\n",
            "20/20 - 0s - loss: 0.0061 - val_loss: 0.0074\n",
            "Epoch 27/50\n",
            "20/20 - 0s - loss: 0.0061 - val_loss: 0.0075\n",
            "Epoch 28/50\n",
            "20/20 - 0s - loss: 0.0061 - val_loss: 0.0074\n",
            "Epoch 29/50\n",
            "20/20 - 0s - loss: 0.0061 - val_loss: 0.0074\n",
            "Epoch 30/50\n",
            "20/20 - 0s - loss: 0.0061 - val_loss: 0.0074\n",
            "Epoch 31/50\n",
            "20/20 - 0s - loss: 0.0061 - val_loss: 0.0074\n",
            "Epoch 32/50\n",
            "20/20 - 0s - loss: 0.0061 - val_loss: 0.0074\n",
            "Epoch 33/50\n",
            "20/20 - 0s - loss: 0.0061 - val_loss: 0.0074\n",
            "Epoch 34/50\n",
            "20/20 - 0s - loss: 0.0061 - val_loss: 0.0074\n",
            "Epoch 35/50\n",
            "20/20 - 0s - loss: 0.0061 - val_loss: 0.0074\n",
            "Epoch 36/50\n",
            "20/20 - 0s - loss: 0.0061 - val_loss: 0.0074\n",
            "Epoch 37/50\n",
            "20/20 - 0s - loss: 0.0061 - val_loss: 0.0074\n",
            "Epoch 38/50\n",
            "20/20 - 0s - loss: 0.0061 - val_loss: 0.0074\n",
            "Epoch 39/50\n",
            "20/20 - 0s - loss: 0.0061 - val_loss: 0.0073\n",
            "Epoch 40/50\n",
            "20/20 - 0s - loss: 0.0061 - val_loss: 0.0074\n",
            "Epoch 41/50\n",
            "20/20 - 0s - loss: 0.0060 - val_loss: 0.0074\n",
            "Epoch 42/50\n",
            "20/20 - 0s - loss: 0.0061 - val_loss: 0.0073\n",
            "Epoch 43/50\n",
            "20/20 - 0s - loss: 0.0060 - val_loss: 0.0073\n",
            "Epoch 44/50\n",
            "20/20 - 0s - loss: 0.0060 - val_loss: 0.0073\n",
            "Epoch 45/50\n",
            "20/20 - 0s - loss: 0.0060 - val_loss: 0.0073\n",
            "Epoch 46/50\n",
            "20/20 - 0s - loss: 0.0060 - val_loss: 0.0073\n",
            "Epoch 47/50\n",
            "20/20 - 0s - loss: 0.0060 - val_loss: 0.0073\n",
            "Epoch 48/50\n",
            "20/20 - 0s - loss: 0.0060 - val_loss: 0.0073\n",
            "Epoch 49/50\n",
            "20/20 - 0s - loss: 0.0060 - val_loss: 0.0073\n",
            "Epoch 50/50\n",
            "20/20 - 0s - loss: 0.0060 - val_loss: 0.0073\n"
          ],
          "name": "stdout"
        },
        {
          "output_type": "display_data",
          "data": {
            "image/png": "[encoded data removed]",
            "text/plain": [
              "<Figure size 432x288 with 1 Axes>"
            ]
          },
          "metadata": {
            "tags": [],
            "needs_background": "light"
          }
        }
      ]
    },
    {
      "cell_type": "code",
      "metadata": {
        "id": "U0et8C2_5HzK",
        "colab_type": "code",
        "colab": {}
      },
      "source": [
        "# make a prediction\n",
        "yhat = model.predict(test_X)"
      ],
      "execution_count": null,
      "outputs": []
    },
    {
      "cell_type": "code",
      "metadata": {
        "id": "ZN3MQ769AJRe",
        "colab_type": "code",
        "colab": {}
      },
      "source": [
        "test_X = test_X.reshape((test_X.shape[0], test_X.shape[2]))"
      ],
      "execution_count": null,
      "outputs": []
    },
    {
      "cell_type": "code",
      "metadata": {
        "id": "CYGVVRv6AO6a",
        "colab_type": "code",
        "colab": {
          "base_uri": "https://localhost:8080/",
          "height": 51
        },
        "outputId": "74b39db4-1403-4d13-e7f5-d3e77dc5bfa2"
      },
      "source": [
        "test_X[0]"
      ],
      "execution_count": null,
      "outputs": [
        {
          "output_type": "execute_result",
          "data": {
            "text/plain": [
              "array([0.03591456, 0.22580646, 0.49572653, 0.40206185, 0.6086956 ,\n",
              "       0.48181817, 0.30731708, 0.9863014 ], dtype=float32)"
            ]
          },
          "metadata": {
            "tags": []
          },
          "execution_count": 1090
        }
      ]
    },
    {
      "cell_type": "code",
      "metadata": {
        "id": "QnEG3H-Y_2sI",
        "colab_type": "code",
        "colab": {}
      },
      "source": [
        "\n",
        "# invert scaling for forecast\n",
        "inv_yhat = concatenate((yhat, test_X[:, 1:]), axis=1)"
      ],
      "execution_count": null,
      "outputs": []
    },
    {
      "cell_type": "code",
      "metadata": {
        "id": "CKbiR3Pl_f_d",
        "colab_type": "code",
        "colab": {
          "base_uri": "https://localhost:8080/",
          "height": 34
        },
        "outputId": "d0e895d6-ac54-4e86-cffa-326ad5c23763"
      },
      "source": [
        "inv_yhat.shape"
      ],
      "execution_count": null,
      "outputs": [
        {
          "output_type": "execute_result",
          "data": {
            "text/plain": [
              "(4994, 8)"
            ]
          },
          "metadata": {
            "tags": []
          },
          "execution_count": 1092
        }
      ]
    },
    {
      "cell_type": "code",
      "metadata": {
        "id": "5fgkDiqlFolF",
        "colab_type": "code",
        "colab": {
          "base_uri": "https://localhost:8080/",
          "height": 34
        },
        "outputId": "fc79bf63-75ea-46bb-8903-4a0603865be6"
      },
      "source": [
        "yhat[0]"
      ],
      "execution_count": null,
      "outputs": [
        {
          "output_type": "execute_result",
          "data": {
            "text/plain": [
              "array([0.03654969], dtype=float32)"
            ]
          },
          "metadata": {
            "tags": []
          },
          "execution_count": 1093
        }
      ]
    },
    {
      "cell_type": "code",
      "metadata": {
        "id": "R-kSHIu4_ouA",
        "colab_type": "code",
        "colab": {
          "base_uri": "https://localhost:8080/",
          "height": 51
        },
        "outputId": "7c36229a-8a7a-4c12-91d4-41f721cc9405"
      },
      "source": [
        "inv_yhat[0]"
      ],
      "execution_count": null,
      "outputs": [
        {
          "output_type": "execute_result",
          "data": {
            "text/plain": [
              "array([0.03654969, 0.22580646, 0.49572653, 0.40206185, 0.6086956 ,\n",
              "       0.48181817, 0.30731708, 0.9863014 ], dtype=float32)"
            ]
          },
          "metadata": {
            "tags": []
          },
          "execution_count": 1094
        }
      ]
    },
    {
      "cell_type": "code",
      "metadata": {
        "id": "pwL-ehJi4x27",
        "colab_type": "code",
        "colab": {}
      },
      "source": [
        "inv_yhat = scaler.inverse_transform(inv_yhat)"
      ],
      "execution_count": null,
      "outputs": []
    },
    {
      "cell_type": "code",
      "metadata": {
        "id": "LnznpTbiAwp1",
        "colab_type": "code",
        "colab": {}
      },
      "source": [
        "inv_yhat = inv_yhat[:,0]"
      ],
      "execution_count": null,
      "outputs": []
    },
    {
      "cell_type": "code",
      "metadata": {
        "id": "3AAIjTxUAmde",
        "colab_type": "code",
        "colab": {
          "base_uri": "https://localhost:8080/",
          "height": 34
        },
        "outputId": "cf8c76f2-0b90-4c2b-9311-cda3c0acb73b"
      },
      "source": [
        "# invert scaling for actual\n",
        "test_y = test_y.reshape((len(test_y), 1))\n",
        "inv_y = concatenate((test_y, test_X[:, 1:]), axis=1)\n",
        "inv_y = scaler.inverse_transform(inv_y)\n",
        "inv_y = inv_y[:,0]\n",
        "# calculate RMSE\n",
        "rmse = sqrt(mean_squared_error(inv_y, inv_yhat))\n",
        "print('Test RMSE: %.3f' % rmse)"
      ],
      "execution_count": null,
      "outputs": [
        {
          "output_type": "stream",
          "text": [
            "Test RMSE: 133.674\n"
          ],
          "name": "stdout"
        }
      ]
    },
    {
      "cell_type": "code",
      "metadata": {
        "id": "RSC-3tNvAp16",
        "colab_type": "code",
        "colab": {
          "base_uri": "https://localhost:8080/",
          "height": 51
        },
        "outputId": "0d1182e5-437b-42e3-aefb-4eaa0f701b3f"
      },
      "source": [
        "inv_y"
      ],
      "execution_count": null,
      "outputs": [
        {
          "output_type": "execute_result",
          "data": {
            "text/plain": [
              "array([368.     , 310.     , 300.     , ..., 408.00003, 398.     ,\n",
              "       391.00003], dtype=float32)"
            ]
          },
          "metadata": {
            "tags": []
          },
          "execution_count": 1098
        }
      ]
    },
    {
      "cell_type": "code",
      "metadata": {
        "id": "xgmNMe3eJXlL",
        "colab_type": "code",
        "colab": {
          "base_uri": "https://localhost:8080/",
          "height": 51
        },
        "outputId": "0226467d-4dc9-4bbc-e79a-083c7a42154e"
      },
      "source": [
        "inv_yhat"
      ],
      "execution_count": null,
      "outputs": [
        {
          "output_type": "execute_result",
          "data": {
            "text/plain": [
              "array([403.75717, 346.1518 , 295.68652, ..., 417.93814, 410.3835 ,\n",
              "       401.29413], dtype=float32)"
            ]
          },
          "metadata": {
            "tags": []
          },
          "execution_count": 1099
        }
      ]
    },
    {
      "cell_type": "code",
      "metadata": {
        "id": "w-kYVoP9JZaj",
        "colab_type": "code",
        "colab": {
          "base_uri": "https://localhost:8080/",
          "height": 34
        },
        "outputId": "e476987e-4a16-42f7-af28-71e284e90aff"
      },
      "source": [
        "from sklearn.metrics import r2_score\n",
        "r2_LSTM = r2_score(inv_y, inv_yhat)\n",
        "print(r2_LSTM)"
      ],
      "execution_count": null,
      "outputs": [
        {
          "output_type": "stream",
          "text": [
            "0.9799824061925376\n"
          ],
          "name": "stdout"
        }
      ]
    },
    {
      "cell_type": "code",
      "metadata": {
        "id": "6kaKWa8cJu0t",
        "colab_type": "code",
        "colab": {
          "base_uri": "https://localhost:8080/",
          "height": 34
        },
        "outputId": "a63c9db7-2978-456a-ded7-a64fdc9cb930"
      },
      "source": [
        "from sklearn.metrics import mean_absolute_error\n",
        "mae_LSTM = mean_absolute_error(inv_y, inv_yhat)\n",
        "print(f'MEAN ABSOLUTE ERROR: {mae_LSTM:,.0f} CFS')"
      ],
      "execution_count": null,
      "outputs": [
        {
          "output_type": "stream",
          "text": [
            "MEAN ABSOLUTE ERROR: 55 CFS\n"
          ],
          "name": "stdout"
        }
      ]
    },
    {
      "cell_type": "code",
      "metadata": {
        "id": "vxr7OC9rNK8W",
        "colab_type": "code",
        "colab": {}
      },
      "source": [
        "import matplotlib.pyplot as plt\n"
      ],
      "execution_count": null,
      "outputs": []
    },
    {
      "cell_type": "code",
      "metadata": {
        "id": "U4Wv1wVsNVJv",
        "colab_type": "code",
        "colab": {
          "base_uri": "https://localhost:8080/",
          "height": 450
        },
        "outputId": "f1b3273f-7be7-45bc-b67b-28ad806b508f"
      },
      "source": [
        "dataset[:-len(inv_y)]"
      ],
      "execution_count": null,
      "outputs": [
        {
          "output_type": "execute_result",
          "data": {
            "text/html": [
              "<div>\n",
              "<style scoped>\n",
              "    .dataframe tbody tr th:only-of-type {\n",
              "        vertical-align: middle;\n",
              "    }\n",
              "\n",
              "    .dataframe tbody tr th {\n",
              "        vertical-align: top;\n",
              "    }\n",
              "\n",
              "    .dataframe thead th {\n",
              "        text-align: right;\n",
              "    }\n",
              "</style>\n",
              "<table border=\"1\" class=\"dataframe\">\n",
              "  <thead>\n",
              "    <tr style=\"text-align: right;\">\n",
              "      <th></th>\n",
              "      <th>STREAMFLOW</th>\n",
              "      <th>PRCP</th>\n",
              "      <th>SNWD</th>\n",
              "      <th>TMAX</th>\n",
              "      <th>TMIN</th>\n",
              "      <th>TOBS</th>\n",
              "      <th>WESD</th>\n",
              "      <th>DAY_OF_YEAR</th>\n",
              "    </tr>\n",
              "    <tr>\n",
              "      <th>DATE</th>\n",
              "      <th></th>\n",
              "      <th></th>\n",
              "      <th></th>\n",
              "      <th></th>\n",
              "      <th></th>\n",
              "      <th></th>\n",
              "      <th></th>\n",
              "      <th></th>\n",
              "    </tr>\n",
              "  </thead>\n",
              "  <tbody>\n",
              "    <tr>\n",
              "      <th>1987-01-01</th>\n",
              "      <td>272.0</td>\n",
              "      <td>0.9</td>\n",
              "      <td>25.225964</td>\n",
              "      <td>52.136375</td>\n",
              "      <td>24.521684</td>\n",
              "      <td>16.0</td>\n",
              "      <td>6.8</td>\n",
              "      <td>1.0</td>\n",
              "    </tr>\n",
              "    <tr>\n",
              "      <th>1987-01-02</th>\n",
              "      <td>290.0</td>\n",
              "      <td>0.1</td>\n",
              "      <td>25.225964</td>\n",
              "      <td>52.136375</td>\n",
              "      <td>24.521684</td>\n",
              "      <td>19.0</td>\n",
              "      <td>6.8</td>\n",
              "      <td>2.0</td>\n",
              "    </tr>\n",
              "    <tr>\n",
              "      <th>1987-01-03</th>\n",
              "      <td>296.0</td>\n",
              "      <td>0.4</td>\n",
              "      <td>25.225964</td>\n",
              "      <td>52.136375</td>\n",
              "      <td>24.521684</td>\n",
              "      <td>19.0</td>\n",
              "      <td>7.4</td>\n",
              "      <td>3.0</td>\n",
              "    </tr>\n",
              "    <tr>\n",
              "      <th>1987-01-04</th>\n",
              "      <td>291.0</td>\n",
              "      <td>0.0</td>\n",
              "      <td>25.225964</td>\n",
              "      <td>52.136375</td>\n",
              "      <td>24.521684</td>\n",
              "      <td>10.0</td>\n",
              "      <td>7.4</td>\n",
              "      <td>4.0</td>\n",
              "    </tr>\n",
              "    <tr>\n",
              "      <th>1987-01-05</th>\n",
              "      <td>282.0</td>\n",
              "      <td>0.0</td>\n",
              "      <td>25.225964</td>\n",
              "      <td>52.136375</td>\n",
              "      <td>24.521684</td>\n",
              "      <td>6.0</td>\n",
              "      <td>7.4</td>\n",
              "      <td>5.0</td>\n",
              "    </tr>\n",
              "    <tr>\n",
              "      <th>...</th>\n",
              "      <td>...</td>\n",
              "      <td>...</td>\n",
              "      <td>...</td>\n",
              "      <td>...</td>\n",
              "      <td>...</td>\n",
              "      <td>...</td>\n",
              "      <td>...</td>\n",
              "      <td>...</td>\n",
              "    </tr>\n",
              "    <tr>\n",
              "      <th>2006-12-23</th>\n",
              "      <td>330.0</td>\n",
              "      <td>0.3</td>\n",
              "      <td>40.000000</td>\n",
              "      <td>28.000000</td>\n",
              "      <td>2.000000</td>\n",
              "      <td>18.0</td>\n",
              "      <td>10.1</td>\n",
              "      <td>357.0</td>\n",
              "    </tr>\n",
              "    <tr>\n",
              "      <th>2006-12-24</th>\n",
              "      <td>340.0</td>\n",
              "      <td>0.0</td>\n",
              "      <td>43.000000</td>\n",
              "      <td>31.000000</td>\n",
              "      <td>3.000000</td>\n",
              "      <td>21.0</td>\n",
              "      <td>10.1</td>\n",
              "      <td>358.0</td>\n",
              "    </tr>\n",
              "    <tr>\n",
              "      <th>2006-12-25</th>\n",
              "      <td>340.0</td>\n",
              "      <td>0.7</td>\n",
              "      <td>46.000000</td>\n",
              "      <td>34.000000</td>\n",
              "      <td>21.000000</td>\n",
              "      <td>31.0</td>\n",
              "      <td>10.8</td>\n",
              "      <td>359.0</td>\n",
              "    </tr>\n",
              "    <tr>\n",
              "      <th>2006-12-26</th>\n",
              "      <td>350.0</td>\n",
              "      <td>1.1</td>\n",
              "      <td>54.000000</td>\n",
              "      <td>35.000000</td>\n",
              "      <td>30.000000</td>\n",
              "      <td>31.0</td>\n",
              "      <td>11.9</td>\n",
              "      <td>360.0</td>\n",
              "    </tr>\n",
              "    <tr>\n",
              "      <th>2006-12-27</th>\n",
              "      <td>399.0</td>\n",
              "      <td>0.7</td>\n",
              "      <td>58.000000</td>\n",
              "      <td>34.000000</td>\n",
              "      <td>21.000000</td>\n",
              "      <td>21.0</td>\n",
              "      <td>12.6</td>\n",
              "      <td>361.0</td>\n",
              "    </tr>\n",
              "  </tbody>\n",
              "</table>\n",
              "<p>7301 rows × 8 columns</p>\n",
              "</div>"
            ],
            "text/plain": [
              "            STREAMFLOW  PRCP       SNWD  ...  TOBS  WESD  DAY_OF_YEAR\n",
              "DATE                                     ...                         \n",
              "1987-01-01       272.0   0.9  25.225964  ...  16.0   6.8          1.0\n",
              "1987-01-02       290.0   0.1  25.225964  ...  19.0   6.8          2.0\n",
              "1987-01-03       296.0   0.4  25.225964  ...  19.0   7.4          3.0\n",
              "1987-01-04       291.0   0.0  25.225964  ...  10.0   7.4          4.0\n",
              "1987-01-05       282.0   0.0  25.225964  ...   6.0   7.4          5.0\n",
              "...                ...   ...        ...  ...   ...   ...          ...\n",
              "2006-12-23       330.0   0.3  40.000000  ...  18.0  10.1        357.0\n",
              "2006-12-24       340.0   0.0  43.000000  ...  21.0  10.1        358.0\n",
              "2006-12-25       340.0   0.7  46.000000  ...  31.0  10.8        359.0\n",
              "2006-12-26       350.0   1.1  54.000000  ...  31.0  11.9        360.0\n",
              "2006-12-27       399.0   0.7  58.000000  ...  21.0  12.6        361.0\n",
              "\n",
              "[7301 rows x 8 columns]"
            ]
          },
          "metadata": {
            "tags": []
          },
          "execution_count": 1103
        }
      ]
    },
    {
      "cell_type": "code",
      "metadata": {
        "id": "ZjkxlNVVNoJl",
        "colab_type": "code",
        "colab": {
          "base_uri": "https://localhost:8080/",
          "height": 450
        },
        "outputId": "5293a1ad-97b6-4367-962c-d15280fe4151"
      },
      "source": [
        "dataset[-3534:]"
      ],
      "execution_count": null,
      "outputs": [
        {
          "output_type": "execute_result",
          "data": {
            "text/html": [
              "<div>\n",
              "<style scoped>\n",
              "    .dataframe tbody tr th:only-of-type {\n",
              "        vertical-align: middle;\n",
              "    }\n",
              "\n",
              "    .dataframe tbody tr th {\n",
              "        vertical-align: top;\n",
              "    }\n",
              "\n",
              "    .dataframe thead th {\n",
              "        text-align: right;\n",
              "    }\n",
              "</style>\n",
              "<table border=\"1\" class=\"dataframe\">\n",
              "  <thead>\n",
              "    <tr style=\"text-align: right;\">\n",
              "      <th></th>\n",
              "      <th>STREAMFLOW</th>\n",
              "      <th>PRCP</th>\n",
              "      <th>SNWD</th>\n",
              "      <th>TMAX</th>\n",
              "      <th>TMIN</th>\n",
              "      <th>TOBS</th>\n",
              "      <th>WESD</th>\n",
              "      <th>DAY_OF_YEAR</th>\n",
              "    </tr>\n",
              "    <tr>\n",
              "      <th>DATE</th>\n",
              "      <th></th>\n",
              "      <th></th>\n",
              "      <th></th>\n",
              "      <th></th>\n",
              "      <th></th>\n",
              "      <th></th>\n",
              "      <th></th>\n",
              "      <th></th>\n",
              "    </tr>\n",
              "  </thead>\n",
              "  <tbody>\n",
              "    <tr>\n",
              "      <th>2010-12-27</th>\n",
              "      <td>319.0</td>\n",
              "      <td>0.2</td>\n",
              "      <td>49.0</td>\n",
              "      <td>27.0</td>\n",
              "      <td>21.0</td>\n",
              "      <td>22.0</td>\n",
              "      <td>11.9</td>\n",
              "      <td>361.0</td>\n",
              "    </tr>\n",
              "    <tr>\n",
              "      <th>2010-12-28</th>\n",
              "      <td>321.0</td>\n",
              "      <td>0.7</td>\n",
              "      <td>53.0</td>\n",
              "      <td>30.0</td>\n",
              "      <td>22.0</td>\n",
              "      <td>27.0</td>\n",
              "      <td>12.6</td>\n",
              "      <td>362.0</td>\n",
              "    </tr>\n",
              "    <tr>\n",
              "      <th>2010-12-29</th>\n",
              "      <td>328.0</td>\n",
              "      <td>0.7</td>\n",
              "      <td>58.0</td>\n",
              "      <td>28.0</td>\n",
              "      <td>9.0</td>\n",
              "      <td>9.0</td>\n",
              "      <td>13.2</td>\n",
              "      <td>363.0</td>\n",
              "    </tr>\n",
              "    <tr>\n",
              "      <th>2010-12-30</th>\n",
              "      <td>290.0</td>\n",
              "      <td>0.0</td>\n",
              "      <td>56.0</td>\n",
              "      <td>20.0</td>\n",
              "      <td>-7.0</td>\n",
              "      <td>-5.0</td>\n",
              "      <td>13.2</td>\n",
              "      <td>364.0</td>\n",
              "    </tr>\n",
              "    <tr>\n",
              "      <th>2010-12-31</th>\n",
              "      <td>240.0</td>\n",
              "      <td>0.0</td>\n",
              "      <td>55.0</td>\n",
              "      <td>18.0</td>\n",
              "      <td>-15.0</td>\n",
              "      <td>-9.0</td>\n",
              "      <td>13.2</td>\n",
              "      <td>365.0</td>\n",
              "    </tr>\n",
              "    <tr>\n",
              "      <th>...</th>\n",
              "      <td>...</td>\n",
              "      <td>...</td>\n",
              "      <td>...</td>\n",
              "      <td>...</td>\n",
              "      <td>...</td>\n",
              "      <td>...</td>\n",
              "      <td>...</td>\n",
              "      <td>...</td>\n",
              "    </tr>\n",
              "    <tr>\n",
              "      <th>2020-08-26</th>\n",
              "      <td>413.0</td>\n",
              "      <td>0.2</td>\n",
              "      <td>0.0</td>\n",
              "      <td>77.0</td>\n",
              "      <td>44.0</td>\n",
              "      <td>49.0</td>\n",
              "      <td>0.0</td>\n",
              "      <td>239.0</td>\n",
              "    </tr>\n",
              "    <tr>\n",
              "      <th>2020-08-27</th>\n",
              "      <td>417.0</td>\n",
              "      <td>0.0</td>\n",
              "      <td>0.0</td>\n",
              "      <td>72.0</td>\n",
              "      <td>44.0</td>\n",
              "      <td>44.0</td>\n",
              "      <td>0.0</td>\n",
              "      <td>240.0</td>\n",
              "    </tr>\n",
              "    <tr>\n",
              "      <th>2020-08-28</th>\n",
              "      <td>408.0</td>\n",
              "      <td>0.0</td>\n",
              "      <td>0.0</td>\n",
              "      <td>75.0</td>\n",
              "      <td>42.0</td>\n",
              "      <td>44.0</td>\n",
              "      <td>0.0</td>\n",
              "      <td>241.0</td>\n",
              "    </tr>\n",
              "    <tr>\n",
              "      <th>2020-08-29</th>\n",
              "      <td>398.0</td>\n",
              "      <td>0.0</td>\n",
              "      <td>0.0</td>\n",
              "      <td>76.0</td>\n",
              "      <td>38.0</td>\n",
              "      <td>41.0</td>\n",
              "      <td>0.0</td>\n",
              "      <td>242.0</td>\n",
              "    </tr>\n",
              "    <tr>\n",
              "      <th>2020-08-30</th>\n",
              "      <td>391.0</td>\n",
              "      <td>0.0</td>\n",
              "      <td>0.0</td>\n",
              "      <td>64.0</td>\n",
              "      <td>35.0</td>\n",
              "      <td>38.0</td>\n",
              "      <td>0.0</td>\n",
              "      <td>243.0</td>\n",
              "    </tr>\n",
              "  </tbody>\n",
              "</table>\n",
              "<p>3534 rows × 8 columns</p>\n",
              "</div>"
            ],
            "text/plain": [
              "            STREAMFLOW  PRCP  SNWD  TMAX  TMIN  TOBS  WESD  DAY_OF_YEAR\n",
              "DATE                                                                   \n",
              "2010-12-27       319.0   0.2  49.0  27.0  21.0  22.0  11.9        361.0\n",
              "2010-12-28       321.0   0.7  53.0  30.0  22.0  27.0  12.6        362.0\n",
              "2010-12-29       328.0   0.7  58.0  28.0   9.0   9.0  13.2        363.0\n",
              "2010-12-30       290.0   0.0  56.0  20.0  -7.0  -5.0  13.2        364.0\n",
              "2010-12-31       240.0   0.0  55.0  18.0 -15.0  -9.0  13.2        365.0\n",
              "...                ...   ...   ...   ...   ...   ...   ...          ...\n",
              "2020-08-26       413.0   0.2   0.0  77.0  44.0  49.0   0.0        239.0\n",
              "2020-08-27       417.0   0.0   0.0  72.0  44.0  44.0   0.0        240.0\n",
              "2020-08-28       408.0   0.0   0.0  75.0  42.0  44.0   0.0        241.0\n",
              "2020-08-29       398.0   0.0   0.0  76.0  38.0  41.0   0.0        242.0\n",
              "2020-08-30       391.0   0.0   0.0  64.0  35.0  38.0   0.0        243.0\n",
              "\n",
              "[3534 rows x 8 columns]"
            ]
          },
          "metadata": {
            "tags": []
          },
          "execution_count": 1104
        }
      ]
    },
    {
      "cell_type": "code",
      "metadata": {
        "id": "LNOgwtaRSEFc",
        "colab_type": "code",
        "colab": {
          "base_uri": "https://localhost:8080/",
          "height": 51
        },
        "outputId": "ebdf0d26-94a6-4f80-a41f-b3114769ff63"
      },
      "source": [
        "inv_y"
      ],
      "execution_count": null,
      "outputs": [
        {
          "output_type": "execute_result",
          "data": {
            "text/plain": [
              "array([368.     , 310.     , 300.     , ..., 408.00003, 398.     ,\n",
              "       391.00003], dtype=float32)"
            ]
          },
          "metadata": {
            "tags": []
          },
          "execution_count": 1105
        }
      ]
    },
    {
      "cell_type": "code",
      "metadata": {
        "id": "DVBgLjpBR8bz",
        "colab_type": "code",
        "colab": {
          "base_uri": "https://localhost:8080/",
          "height": 51
        },
        "outputId": "4d25d3c6-8401-43ca-a5d2-f161c35eb76b"
      },
      "source": [
        "inv_yhat"
      ],
      "execution_count": null,
      "outputs": [
        {
          "output_type": "execute_result",
          "data": {
            "text/plain": [
              "array([403.75717, 346.1518 , 295.68652, ..., 417.93814, 410.3835 ,\n",
              "       401.29413], dtype=float32)"
            ]
          },
          "metadata": {
            "tags": []
          },
          "execution_count": 1106
        }
      ]
    },
    {
      "cell_type": "code",
      "metadata": {
        "id": "sqZUIm_iNboG",
        "colab_type": "code",
        "colab": {
          "base_uri": "https://localhost:8080/",
          "height": 34
        },
        "outputId": "e05137c6-7e08-4b9d-f71f-7dfd9d002219"
      },
      "source": [
        "len(inv_y)"
      ],
      "execution_count": null,
      "outputs": [
        {
          "output_type": "execute_result",
          "data": {
            "text/plain": [
              "4994"
            ]
          },
          "metadata": {
            "tags": []
          },
          "execution_count": 1107
        }
      ]
    },
    {
      "cell_type": "code",
      "metadata": {
        "id": "-GgLSJfMN8QK",
        "colab_type": "code",
        "colab": {}
      },
      "source": [
        "# dataset.index[-3534:]"
      ],
      "execution_count": null,
      "outputs": []
    },
    {
      "cell_type": "code",
      "metadata": {
        "id": "3ts4iQnuOOoa",
        "colab_type": "code",
        "colab": {}
      },
      "source": [
        "# [int(numeric_string) for numeric_string in dataset.index[-3534:]]"
      ],
      "execution_count": null,
      "outputs": []
    },
    {
      "cell_type": "markdown",
      "metadata": {
        "id": "i2NALJwvOf-w",
        "colab_type": "text"
      },
      "source": [
        ""
      ]
    },
    {
      "cell_type": "code",
      "metadata": {
        "id": "b94cHeFxJ8FC",
        "colab_type": "code",
        "colab": {
          "base_uri": "https://localhost:8080/",
          "height": 265
        },
        "outputId": "097b7d98-db37-46bd-9387-e98e3f4d4c46"
      },
      "source": [
        "\n",
        "plt.plot(inv_y[-120:], label = \"Actual CFS\");"
      ],
      "execution_count": null,
      "outputs": [
        {
          "output_type": "display_data",
          "data": {
            "image/png": "[encoded data removed]",
            "text/plain": [
              "<Figure size 432x288 with 1 Axes>"
            ]
          },
          "metadata": {
            "tags": [],
            "needs_background": "light"
          }
        }
      ]
    },
    {
      "cell_type": "code",
      "metadata": {
        "id": "lDm88ppoLJ7w",
        "colab_type": "code",
        "colab": {
          "base_uri": "https://localhost:8080/",
          "height": 265
        },
        "outputId": "42130d2d-a206-4688-b771-1c2af5df29e9"
      },
      "source": [
        "plt.plot(inv_yhat[-120:], label = \"predicted CFS\");"
      ],
      "execution_count": null,
      "outputs": [
        {
          "output_type": "display_data",
          "data": {
            "image/png": "[encoded data removed]",
            "text/plain": [
              "<Figure size 432x288 with 1 Axes>"
            ]
          },
          "metadata": {
            "tags": [],
            "needs_background": "light"
          }
        }
      ]
    },
    {
      "cell_type": "code",
      "metadata": {
        "id": "6zB46J71KLwM",
        "colab_type": "code",
        "colab": {}
      },
      "source": [
        "\n",
        "plt.show()\n"
      ],
      "execution_count": null,
      "outputs": []
    },
    {
      "cell_type": "code",
      "metadata": {
        "id": "VthE-IN3jD2v",
        "colab_type": "code",
        "colab": {
          "base_uri": "https://localhost:8080/",
          "height": 51
        },
        "outputId": "13637f60-c88a-4432-f5af-b21693312e27"
      },
      "source": [
        "inv_y"
      ],
      "execution_count": null,
      "outputs": [
        {
          "output_type": "execute_result",
          "data": {
            "text/plain": [
              "array([368.     , 310.     , 300.     , ..., 408.00003, 398.     ,\n",
              "       391.00003], dtype=float32)"
            ]
          },
          "metadata": {
            "tags": []
          },
          "execution_count": 1113
        }
      ]
    },
    {
      "cell_type": "code",
      "metadata": {
        "id": "PxzZs0LWjl8F",
        "colab_type": "code",
        "colab": {}
      },
      "source": [
        "df = pd.DataFrame({'Actual CFS':inv_y, 'Predicted CFS':inv_yhat})"
      ],
      "execution_count": null,
      "outputs": []
    },
    {
      "cell_type": "code",
      "metadata": {
        "id": "J5bSzqx1lBS_",
        "colab_type": "code",
        "colab": {
          "base_uri": "https://localhost:8080/",
          "height": 542
        },
        "outputId": "5f2ca72f-ce5e-4e91-8b5d-1bd5d02e138e"
      },
      "source": [
        "import plotly.graph_objects as go\n",
        "\n",
        "# # Create random data with numpy\n",
        "# import numpy as np\n",
        "# np.random.seed(1)\n",
        "\n",
        "# N = 100\n",
        "# random_x = np.linspace(0, 1, N)\n",
        "# random_y0 = np.random.randn(N) + 5\n",
        "# random_y1 = np.random.randn(N)\n",
        "# random_y2 = np.random.randn(N) - 5\n",
        "\n",
        "# Create traces\n",
        "fig = go.Figure()\n",
        "fig.add_trace(go.Scatter(y=df['Actual CFS'],\n",
        "                    mode='lines',\n",
        "                    name='Actual CFS'))\n",
        "fig.add_trace(go.Scatter(y=df['Predicted CFS'],\n",
        "                    mode='lines',\n",
        "                    name='Predicted CFS'))\n",
        "# fig.add_trace(go.Scatter(x=random_x, y=random_y2,\n",
        "#                     mode='markers', name='markers'))\n",
        "\n",
        "fig.show()"
      ],
      "execution_count": null,
      "outputs": [
        {
          "output_type": "display_data",
          "data": {
            "text/html": [
              "<html>\n",
              "<head><meta charset=\"utf-8\" /></head>\n",
              "<body>\n",
              "    <div>\n",
              "            <script src=\"https://cdnjs.cloudflare.com/ajax/libs/mathjax/2.7.5/MathJax.js?config=TeX-AMS-MML_SVG\"></script><script type=\"text/javascript\">if (window.MathJax) {MathJax.Hub.Config({SVG: {font: \"STIX-Web\"}});}</script>\n",
              "                <script type=\"text/javascript\">window.PlotlyConfig = {MathJaxConfig: 'local'};</script>\n",
              "        <script src=\"https://cdn.plot.ly/plotly-latest.min.js\"></script>    \n",
              "            <div id=\"0262a7be-7c84-4044-aa94-d02241961a4f\" class=\"plotly-graph-div\" style=\"height:525px; width:100%;\"></div>\n",
              "            <script type=\"text/javascript\">\n",
              "                \n",
              "                    window.PLOTLYENV=window.PLOTLYENV || {};\n",
              "                    \n",
              "                if (document.getElementById(\"0262a7be-7c84-4044-aa94-d02241961a4f\")) {\n",
              "                    Plotly.newPlot(\n",
              "                        '0262a7be-7c84-4044-aa94-d02241961a4f',\n",
              "                        [{\"mode\": \"lines\", \"name\": \"Actual CFS\", \"type\": \"scatter\", \"y\": [368.0, 310.0, 300.0, 340.0, 370.0, 350.0, 348.0, 353.0, 335.0, 320.0, 320.0, 330.0, 328.0, 330.0, 290.0, 200.0, 170.0, 180.0, 180.0, 190.0, 200.0, 220.0, 230.0, 240.0, 250.0, 240.0, 240.0, 250.0, 260.0, 270.0, 260.0, 255.0, 230.0, 235.0, 250.0, 250.0, 240.0, 230.0, 245.0, 265.0, 280.0, 290.0, 351.0, 334.0, 318.0, 351.0, 355.0, 334.0, 322.0, 326.0, 357.0, 341.0, 347.0, 343.0, 335.0, 338.0, 343.0, 350.0, 319.0, 335.0, 324.0, 316.0, 300.0, 313.0, 280.0, 309.0, 295.0, 305.0, 330.0, 383.0, 462.0000305175781, 463.0, 443.0000305175781, 467.0000305175781, 559.0, 824.0, 927.0, 791.0, 726.0, 791.0, 935.0, 1010.0, 1050.0, 966.0, 883.0, 861.0, 906.0, 972.0000610351562, 1010.0, 1050.0, 975.0, 905.0, 875.0, 865.0, 857.0, 843.0, 792.0, 770.0, 783.0, 876.0, 1010.0, 1150.0, 1270.0, 1190.0, 1080.0, 1010.0, 937.0, 906.0, 910.0, 891.0, 935.0, 982.9999389648438, 935.0, 891.0, 853.0, 840.0, 853.0, 885.0, 942.0, 1020.0, 1100.0, 1280.0, 1640.0, 1880.0, 2040.0, 2220.0, 2150.0, 1830.0, 1600.0, 1450.0, 1370.0, 1440.0, 1610.0, 1890.0, 2160.0, 2400.0, 2650.0, 2550.0, 2350.0, 2280.0, 2270.0, 2380.0, 2490.0, 2560.0, 2450.0, 2110.0, 1800.0, 1600.0, 1470.0, 1400.0, 1430.0, 1550.0, 1530.0, 1460.0, 1470.0, 1510.0, 1580.0, 1600.0, 1670.0, 1710.0, 1630.0, 1440.0, 1290.0, 1200.0, 1290.0, 1620.0, 1420.0, 1290.0, 1230.0, 1230.0, 1200.0, 1180.0, 1120.0, 1030.0, 986.0, 977.9999389648438, 957.0, 922.0, 885.0, 845.0, 803.0, 758.0, 729.0, 717.0, 706.0, 688.0, 666.0, 645.0, 620.0, 604.0, 592.0, 583.0, 566.0, 552.0, 537.0, 524.0, 513.0, 501.0000305175781, 488.9999694824219, 475.0, 467.0000305175781, 469.0000305175781, 492.0, 459.0, 446.0, 435.0000305175781, 426.0000305175781, 420.0, 418.0000305175781, 425.0000305175781, 456.0, 433.0000305175781, 409.0, 394.0000305175781, 385.0, 377.0000305175781, 367.0000305175781, 363.0, 362.0, 350.0, 344.0, 345.0, 338.0, 335.0, 332.0, 326.0, 323.0, 317.0, 311.0, 309.0, 309.0, 304.0, 298.0, 293.0, 293.0, 310.0, 335.0, 314.0, 303.0, 296.0, 290.0, 283.0, 280.0, 278.0, 275.0, 271.0, 276.0, 318.0, 292.0, 278.0, 273.0, 278.0, 289.0, 278.0, 271.0, 269.0, 265.0, 264.0, 261.0, 257.0, 254.00001525878906, 257.0, 256.0, 255.0, 265.0, 294.0, 291.0, 271.0, 275.0, 418.0000305175781, 342.0, 309.0, 293.0, 284.0, 278.0, 297.0, 288.0, 303.0, 313.0, 303.0, 304.0, 302.0, 299.0, 289.0, 287.0, 282.0, 280.0, 291.0, 286.0, 294.0, 285.0, 279.0, 277.0, 297.0, 294.0, 875.0, 924.0, 596.0, 505.0, 476.9999694824219, 470.0, 459.0, 448.0, 437.0, 422.0, 409.0, 441.0, 428.0000305175781, 410.0, 395.0, 383.0, 376.0, 366.0, 359.0, 351.0, 345.0, 339.0, 341.0, 348.0, 334.0, 443.0000305175781, 369.0000305175781, 366.0, 424.0, 632.0, 994.0, 878.0, 721.0, 573.0, 480.0, 440.0000305175781, 420.0, 420.0, 445.0000305175781, 446.0, 413.0000305175781, 424.0, 370.0, 340.0, 380.0, 410.0, 442.0000305175781, 441.0, 416.0000305175781, 397.0, 380.0, 310.0, 320.0, 270.0, 310.0, 350.0, 320.0, 330.0, 340.0, 343.0, 340.0, 346.0, 349.0, 329.0, 270.0, 320.0, 340.0, 290.0, 310.0, 310.0, 310.0, 320.0, 330.0, 300.0, 240.0, 270.0, 320.0, 380.0, 340.0, 320.0, 300.0, 320.0, 330.0, 320.0, 329.0, 320.0, 314.0, 280.0, 280.0, 230.0, 260.0, 300.0, 330.0, 330.0, 270.0, 240.0, 230.0, 250.0, 260.0, 280.0, 300.0, 310.0, 300.0, 300.0, 300.0, 300.0, 300.0, 300.0, 300.0, 290.0, 290.0, 300.0, 290.0, 290.0, 290.0, 290.0, 283.0, 285.0, 273.0, 273.0, 290.0, 272.0, 275.0, 294.0, 302.0, 298.0, 305.0, 305.0, 311.0, 313.0, 305.0, 304.0, 307.0, 327.0, 348.0, 341.0, 334.0, 340.0, 329.0, 320.0, 331.0, 334.0, 333.0, 338.0, 366.0, 389.0000305175781, 420.0, 409.0, 387.0000305175781, 365.0000305175781, 356.0, 361.0, 405.0, 416.0000305175781, 398.0, 376.0, 384.0000305175781, 388.0, 396.0000305175781, 390.0, 383.0, 354.0, 368.0, 337.0, 352.0, 330.0, 338.0, 338.0, 357.0, 355.0, 353.0, 358.0, 350.0, 354.0, 357.0, 358.0, 407.0, 620.0, 927.0, 997.9999389648438, 821.0, 765.0, 888.0, 996.0, 953.0000610351562, 840.0, 765.0, 789.0, 774.0, 731.0, 715.0, 798.0, 1000.0, 1430.0, 1420.0, 1200.0, 1120.0, 1170.0, 1270.0, 1530.0, 1860.0, 2120.0, 2070.0, 2040.0, 1860.0, 1840.0, 1760.0, 1710.0, 1770.0, 2100.0, 2900.0, 3670.0, 4350.0, 5240.0, 5310.0, 5250.0, 4170.0, 3410.0, 3120.0, 2930.0, 3080.0, 3500.0, 3630.0, 3570.0, 3500.0, 3480.0, 3540.0, 3510.0, 3390.0, 3260.0, 2970.0, 2850.0, 2630.0, 2400.0, 2320.0, 2450.0, 2420.0, 2220.0, 2080.0, 2140.0, 2440.0, 2760.0, 3050.0, 3270.0, 3160.0, 3000.0, 2950.0, 3130.0, 3160.0, 2910.0, 2650.0, 2520.0, 2470.0, 2380.0, 2350.0, 2290.0, 2220.0, 2070.0, 1910.0, 1840.0, 1760.0, 1620.0, 1500.0, 1390.0, 1310.0, 1240.0, 1190.0, 1120.0, 1060.0, 1010.0, 975.0, 943.0000610351562, 918.0, 891.0, 861.0, 825.0, 802.0, 905.0, 895.0, 809.0, 766.0, 741.0, 716.0, 695.0, 679.0, 664.0, 642.0, 624.0, 608.0, 598.0, 584.0, 566.0, 550.0, 547.0, 558.0, 544.0, 527.0, 514.0, 503.9999694824219, 492.0, 483.0, 471.9999694824219, 464.0000305175781, 457.0000305175781, 449.0, 442.0000305175781, 442.0000305175781, 439.0, 433.0000305175781, 426.0000305175781, 417.0, 407.0, 402.0, 403.0000305175781, 399.0000305175781, 396.0000305175781, 388.0, 392.0, 396.0000305175781, 404.0000305175781, 394.0000305175781, 386.0000305175781, 380.0, 376.0, 372.0000305175781, 366.0, 361.0, 356.0, 353.0, 352.0, 348.0, 344.0, 340.0, 336.0, 333.0, 330.0, 330.0, 401.0000305175781, 443.0000305175781, 385.0, 366.0, 356.0, 347.0, 342.0, 337.0, 333.0, 331.0, 327.0, 325.0, 322.0, 324.0, 371.0, 378.0, 356.0, 343.0, 335.0, 333.0, 336.0, 333.0, 331.0, 328.0, 330.0, 329.0, 325.0, 323.0, 320.0, 318.0, 314.0, 311.0, 310.0, 310.0, 310.0, 310.0, 310.0, 310.0, 305.0, 304.0, 303.0, 302.0, 305.0, 436.0, 417.0, 399.0000305175781, 363.0, 341.0, 342.0, 349.0, 371.0, 373.0, 359.0, 375.0, 606.0, 510.0, 430.0000305175781, 405.0, 386.0000305175781, 374.0000305175781, 364.0, 357.0, 354.0, 338.0, 332.0, 310.0, 331.0, 329.0, 323.0, 319.0, 320.0, 322.0, 314.0, 322.0, 316.0, 304.0, 277.0, 310.0, 300.0, 307.0, 256.0, 308.0, 287.0, 291.0, 307.0, 284.0, 263.0, 220.0, 200.0, 190.0, 250.0, 260.0, 280.0, 300.0, 270.0, 280.0, 280.0, 270.0, 280.0, 300.0, 320.0, 300.0, 320.0, 320.0, 395.0, 280.0, 220.0, 280.0, 330.0, 350.0, 354.0, 323.0, 280.0, 290.0, 304.0, 297.0, 285.0, 260.0, 260.0, 250.0, 250.0, 250.0, 260.0, 280.0, 300.0, 300.0, 280.0, 280.0, 250.0, 200.0, 290.0, 280.0, 280.0, 280.0, 270.0, 280.0, 290.0, 290.0, 300.0, 306.0, 294.0, 290.0, 306.0, 300.0, 297.0, 273.0, 260.0, 302.0, 282.0, 290.0, 288.0, 283.0, 276.0, 281.0, 278.0, 288.0, 304.0, 369.0000305175781, 358.0, 343.0, 285.0, 280.0, 339.0, 333.0, 462.0000305175781, 448.0, 407.0, 385.0, 350.0, 359.0, 301.0, 341.0, 296.0, 314.0, 330.0, 334.0, 340.0, 423.0000305175781, 530.0, 459.0, 437.0, 476.0, 564.0, 605.0, 552.0, 509.0, 485.0, 453.0, 430.0000305175781, 427.0, 468.0, 429.0, 426.0000305175781, 414.0, 416.0000305175781, 408.0000305175781, 395.0, 399.0000305175781, 430.0000305175781, 510.0, 663.0, 663.0, 654.0, 671.0, 720.0, 855.0, 905.0, 800.0, 759.0, 850.0, 958.0000610351562, 1060.0, 1290.0, 1640.0, 1980.0, 2200.0, 1800.0, 1500.0, 1300.0, 1220.0, 1150.0, 1080.0, 980.0, 920.0, 950.0, 950.0, 1000.0, 1350.0, 1550.0, 1750.0, 1540.0, 1420.0, 1370.0, 1440.0, 1540.0, 1440.0, 1420.0, 1430.0, 1540.0, 1810.0, 2610.0, 3700.0, 4009.999755859375, 3640.0, 3450.0, 3540.0, 3740.0, 3949.999755859375, 3810.000244140625, 3760.0, 3840.0, 3949.999755859375, 4080.0, 4180.0, 4220.0, 4130.0, 3920.0, 3980.0, 4020.0, 4009.999755859375, 3810.000244140625, 3410.0, 3050.0, 2850.0, 2790.0, 2810.0, 2790.0, 2710.0, 2690.0, 2630.0, 2750.0, 2620.0, 2460.0, 2470.0, 2380.0, 2340.0, 2020.0, 1870.0, 1910.0, 2060.0, 1970.0, 1820.0, 1730.0, 1740.0, 1730.0, 1610.0, 1500.0, 1460.0, 1430.0, 1380.0, 1310.0, 1220.0, 1130.0, 1060.0, 1010.0, 995.0, 1040.0, 996.0, 937.0, 897.0, 859.0, 838.0, 815.0, 787.0, 762.0, 734.0, 712.0, 694.0, 676.0, 659.0, 646.0, 634.0, 619.0, 606.0, 589.0, 575.0, 556.0, 546.0, 536.0, 526.0, 539.0, 664.0, 626.0, 568.0, 540.0, 516.0, 493.9999694824219, 486.0000305175781, 481.9999694824219, 481.0000305175781, 473.0, 464.0000305175781, 455.0000305175781, 446.0, 438.0000305175781, 430.0000305175781, 421.0000305175781, 417.0, 419.0, 413.0000305175781, 407.0, 399.0000305175781, 396.0000305175781, 391.0000305175781, 493.0, 454.0, 433.0000305175781, 412.0, 401.0000305175781, 394.0000305175781, 390.0, 386.0000305175781, 383.0, 379.0000305175781, 376.0, 369.0000305175781, 364.0, 360.0, 357.0, 354.0, 363.0, 357.0, 352.0, 348.0, 343.0, 341.0, 340.0, 340.0, 337.0, 333.0, 330.0, 327.0, 326.0, 326.0, 324.0, 351.0, 343.0, 341.0, 342.0, 409.0, 384.0000305175781, 367.0000305175781, 363.0, 358.0, 351.0, 344.0, 343.0, 340.0, 345.0, 423.0000305175781, 538.0, 435.0000305175781, 401.0000305175781, 385.0, 428.0000305175781, 439.0, 405.0, 391.0000305175781, 383.0, 412.0, 390.0, 380.0, 398.0, 375.0, 359.0, 373.0, 381.0, 392.0, 380.0, 370.0, 363.0, 361.0, 377.0000305175781, 377.0000305175781, 366.0, 349.0, 354.0, 357.0, 385.0, 342.0, 355.0, 309.0, 354.0, 357.0, 359.0, 336.0, 345.0, 353.0, 338.0, 345.0, 339.0, 336.0, 336.0, 344.0, 334.0, 310.0, 320.0, 330.0, 250.0, 190.0, 250.0, 270.0, 220.0, 190.0, 170.0, 180.0, 185.0, 190.0, 200.0, 270.0, 330.0, 340.0, 340.0, 340.0, 330.0, 320.0, 325.0, 322.0, 311.0, 293.0, 251.99998474121094, 265.0, 260.0, 260.0, 280.0, 310.0, 320.0, 320.0, 310.0, 300.0, 290.0, 285.0, 297.0, 291.0, 284.0, 248.00001525878906, 310.0, 285.0, 273.0, 287.0, 302.0, 291.0, 278.0, 283.0, 282.0, 284.0, 288.0, 283.0, 283.0, 281.0, 283.0, 278.0, 278.0, 282.0, 283.0, 278.0, 276.0, 279.0, 283.0, 278.0, 277.0, 278.0, 279.0, 283.0, 280.0, 267.0, 240.0, 291.0, 280.0, 278.0, 285.0, 284.0, 278.0, 287.0, 291.0, 288.0, 287.0, 286.0, 278.0, 248.00001525878906, 246.99998474121094, 291.0, 302.0, 285.0, 275.0, 278.0, 282.0, 286.0, 299.0, 303.0, 303.0, 304.0, 310.0, 323.0, 343.0, 342.0, 322.0, 301.0, 314.0, 320.0, 304.0, 312.0, 338.0, 374.0000305175781, 436.0, 418.0000305175781, 402.0, 396.0000305175781, 395.0, 376.0, 375.0, 380.0, 377.0000305175781, 360.0, 365.0000305175781, 393.0, 527.0, 459.0, 432.0, 406.0000305175781, 405.0, 380.0, 381.0, 367.0000305175781, 359.0, 373.0, 352.0, 357.0, 367.0000305175781, 391.0000305175781, 405.0, 405.0, 439.0, 554.0, 749.0, 901.0, 1020.0, 1220.0, 1670.0, 1600.0, 1440.0, 1330.0, 1230.0, 1160.0, 1290.0, 1490.0, 1290.0, 1140.0, 1040.0, 962.0000610351562, 940.0, 955.0, 880.0, 842.0, 792.0, 778.0, 760.0, 779.0, 780.0, 787.0, 824.0, 905.0, 1020.0, 1220.0, 1530.0, 2030.0, 2140.0, 2470.0, 2140.0, 1760.0, 1480.0, 1260.0, 1090.0, 996.0, 1070.0, 1100.0, 1160.0, 1130.0, 1160.0, 1310.0, 1590.0, 3830.000244140625, 5390.0, 7620.00048828125, 5520.0, 5220.0, 4770.0, 4160.0, 3780.0, 3240.0, 2800.0, 2720.0, 2800.0, 3060.0, 3170.0, 2700.0, 2270.0, 2100.0, 2150.0, 2170.0, 2140.0, 2150.0, 2200.0, 2350.0, 2300.0, 2180.0, 2080.0, 2090.0, 2120.0, 1980.0, 1820.0, 1700.0, 1500.0, 1380.0, 1310.0, 1240.0, 1180.0, 1150.0, 1130.0, 1110.0, 1090.0, 1050.0, 996.0, 938.0000610351562, 893.0, 870.0, 853.0, 831.0, 800.0, 770.0, 744.0, 724.0, 703.0, 683.0, 673.0, 715.0, 668.0, 656.0, 631.0, 616.0, 599.0, 581.0, 565.0, 552.0, 540.0, 538.0, 528.0, 516.0, 513.0, 544.0, 554.0, 548.0, 513.0, 496.0000305175781, 483.0, 471.9999694824219, 462.0000305175781, 455.0000305175781, 448.0, 443.0000305175781, 435.0000305175781, 429.0, 426.0000305175781, 423.0000305175781, 415.0, 408.0000305175781, 406.0000305175781, 404.0000305175781, 413.0000305175781, 435.0000305175781, 439.0, 430.0000305175781, 420.0, 404.0000305175781, 394.0000305175781, 386.0000305175781, 381.0, 380.0, 374.0000305175781, 391.0000305175781, 420.0, 395.0, 380.0, 371.0, 364.0, 361.0, 357.0, 353.0, 343.0, 340.0, 349.0, 348.0, 342.0, 337.0, 335.0, 331.0, 327.0, 323.0, 321.0, 319.0, 314.0, 310.0, 307.0, 307.0, 364.0, 373.0, 347.0, 350.0, 344.0, 340.0, 335.0, 346.0, 339.0, 334.0, 329.0, 325.0, 326.0, 324.0, 320.0, 320.0, 318.0, 317.0, 316.0, 318.0, 454.0, 547.0, 408.0000305175781, 373.0, 360.0, 359.0, 353.0, 379.0000305175781, 377.0000305175781, 361.0, 358.0, 355.0, 355.0, 351.0, 366.0, 439.0, 387.0000305175781, 373.0, 354.0, 347.0, 337.0, 340.0, 342.0, 373.0, 351.0, 340.0, 342.0, 341.0, 313.0, 336.0, 280.0, 230.0, 210.0, 320.0, 340.0, 320.0, 300.0, 310.0, 350.0, 360.0, 365.0000305175781, 339.0, 338.0, 341.0, 332.0, 325.0, 333.0, 352.0, 336.0, 348.0, 365.0000305175781, 443.0000305175781, 428.0000305175781, 360.0, 260.0, 300.0, 380.0, 360.0, 320.0, 290.0, 340.0, 310.0, 300.0, 310.0, 319.0, 321.0, 328.0, 290.0, 240.0, 260.0, 300.0, 320.0, 300.0, 350.0, 360.0, 360.0, 340.0, 330.0, 320.0, 320.0, 330.0, 360.0, 360.0, 359.0, 407.0, 741.0, 608.0, 523.0, 426.0000305175781, 466.0, 439.0, 399.0000305175781, 409.0, 405.0, 382.0000305175781, 379.0000305175781, 368.0, 377.0000305175781, 368.0, 353.0, 240.0, 270.0, 300.0, 380.0, 350.0, 327.0, 322.0, 311.0, 294.0, 289.0, 328.0, 337.0, 310.0, 307.0, 313.0, 331.0, 324.0, 320.0, 313.0, 312.0, 304.0, 305.0, 303.0, 294.0, 286.0, 288.0, 300.0, 313.0, 304.0, 296.0, 311.0, 300.0, 301.0, 303.0, 303.0, 298.0, 295.0, 303.0, 319.0, 304.0, 307.0, 358.0, 393.0, 540.0, 483.9999694824219, 440.0000305175781, 427.0, 404.0000305175781, 398.0, 400.0, 390.0, 394.0000305175781, 396.0000305175781, 389.0000305175781, 392.0, 381.0, 371.0, 378.0, 443.0000305175781, 567.0, 826.0, 769.0, 669.0, 684.0, 663.0, 618.0, 580.0, 569.0, 540.0, 536.0, 554.0, 607.0, 592.0, 563.0, 643.0, 1130.0, 1180.0, 1030.0, 922.0, 866.0, 776.0, 732.0, 743.0, 782.0, 761.0, 718.0, 736.0, 704.0, 673.0, 693.0, 769.0, 903.0, 958.0000610351562, 1090.0, 1290.0, 1810.0, 2160.0, 1860.0, 1860.0, 2110.0, 2410.0, 2820.0, 3630.0, 4250.0, 3860.0, 2960.0, 2410.0, 2140.0, 2350.0, 2560.0, 2750.0, 2860.0, 3110.0, 3110.0, 3450.0, 2980.0, 2550.0, 2240.0, 1990.0, 1870.0, 1880.0, 2170.0, 2040.0, 2010.0, 2290.0, 3130.0, 3840.0, 3850.000244140625, 3930.000244140625, 3630.0, 3540.0, 3650.0, 3880.0, 4000.0, 4210.0, 4180.0, 3740.0, 3530.0, 3480.0, 3640.0, 3969.999755859375, 4450.0, 5190.0, 5690.0, 4990.0, 4420.0, 4140.0, 4260.0, 4820.0, 4630.0, 4049.999755859375, 3720.0, 3750.0, 4040.0, 3920.0, 3750.0, 3500.0, 3070.0, 2850.0, 2550.0, 2440.0, 2430.0, 2350.0, 2280.0, 2090.0, 1910.0, 1840.0, 1740.0, 1660.0, 1600.0, 1490.0, 1400.0, 1340.0, 1270.0, 1220.0, 1220.0, 1180.0, 1120.0, 1070.0, 1030.0, 1040.0, 1040.0, 1010.0, 967.9999389648438, 933.0, 953.9999389648438, 922.0, 874.0, 844.0, 823.0, 795.0, 771.0, 748.0, 729.0, 709.0, 694.0, 682.0, 666.0, 648.0, 636.0, 625.0, 613.0, 602.0, 590.0, 581.0, 573.0, 565.0, 559.0, 559.0, 547.0, 539.0, 532.0, 527.0, 522.0, 514.0, 508.0000305175781, 498.9999694824219, 492.0, 491.0000305175781, 485.0, 481.9999694824219, 474.0000305175781, 471.9999694824219, 474.0000305175781, 487.0, 475.0, 466.0, 505.9999694824219, 476.9999694824219, 465.0000305175781, 459.0, 452.0000305175781, 447.0000305175781, 442.0000305175781, 435.0000305175781, 431.0, 426.0000305175781, 425.0000305175781, 423.0000305175781, 417.0, 414.0, 411.0000305175781, 407.0, 406.0000305175781, 403.0000305175781, 413.0000305175781, 551.0, 576.0, 505.0, 488.9999694824219, 474.0000305175781, 468.0, 636.0, 607.0, 520.0, 493.0, 486.0000305175781, 514.0, 589.0, 542.0, 515.0, 497.0, 483.0, 471.0, 464.0000305175781, 456.0, 449.0, 441.0, 437.0, 430.0000305175781, 432.0, 425.0000305175781, 447.0000305175781, 437.0, 410.0, 412.0, 418.0000305175781, 415.0, 404.0000305175781, 404.0000305175781, 389.0000305175781, 388.0, 395.0, 394.0000305175781, 417.0, 413.0000305175781, 400.0, 395.0, 362.0, 440.0000305175781, 440.0000305175781, 413.0000305175781, 373.0, 419.0, 416.0000305175781, 412.0, 403.0000305175781, 409.0, 362.0, 392.0, 409.0, 388.0, 385.0, 368.0, 362.0, 336.0, 395.0, 300.0, 270.0, 320.0, 350.0, 340.0, 350.0, 370.0, 380.0, 360.0, 350.0, 380.0, 380.0, 320.0, 320.0, 320.0, 320.0, 320.0, 300.0, 280.0, 290.0, 320.0, 340.0, 360.0, 380.0, 450.0000305175781, 500.0, 550.0, 470.0, 436.0, 399.0000305175781, 372.0000305175781, 372.0000305175781, 357.0, 349.0, 359.0, 350.0, 340.0, 300.0, 260.0, 280.0, 340.0, 380.0, 360.0, 350.0, 340.0, 360.0, 380.0, 440.0000305175781, 380.0, 360.0, 339.0, 364.0, 360.0, 330.0, 305.0, 363.0, 354.0, 315.0, 321.0, 319.0, 300.0, 300.0, 300.0, 300.0, 300.0, 300.0, 310.0, 316.0, 320.0, 329.0, 331.0, 329.0, 322.0, 308.0, 326.0, 329.0, 317.0, 309.0, 329.0, 553.0, 473.0, 391.0000305175781, 387.0000305175781, 361.0, 344.0, 337.0, 346.0, 333.0, 317.0, 325.0, 324.0, 340.0, 360.0, 328.0, 344.0, 370.0, 414.0, 440.0000305175781, 430.0000305175781, 434.0, 470.0, 589.0, 1020.0, 942.0, 725.0, 616.0, 552.0, 538.0, 589.0, 728.0, 727.0, 745.0, 995.0, 887.0, 899.0, 847.0, 937.0, 1770.0, 1930.0, 1410.0, 1230.0, 1180.0, 1070.0, 994.0, 903.0, 869.0, 957.0, 1080.0, 1420.0, 1570.0, 1400.0, 1330.0, 1300.0, 1260.0, 1240.0, 1400.0, 1390.0, 1430.0, 1830.0, 2310.0, 3100.0, 3820.0, 3949.999755859375, 5100.0, 5360.0, 3770.000244140625, 2930.0, 2590.0, 2450.0, 2250.0, 2100.0, 2040.0, 1910.0, 1780.0, 1740.0, 1820.0, 2100.0, 2580.0, 2690.0, 2670.0, 2760.0, 3080.0, 3560.0, 3920.0, 4330.0, 3850.000244140625, 3520.0, 3320.0, 3390.0, 3940.0, 3800.0, 3150.0, 2700.0, 2330.0, 2110.0, 1940.0, 1850.0, 1890.0, 2050.0, 2490.0, 3290.0, 3910.000244140625, 4260.0, 4770.0, 3700.0, 2810.0, 2470.0, 2250.0, 2030.0, 1870.0, 1800.0, 1870.0, 2120.0, 2240.0, 2360.0, 2480.0, 2750.0, 2490.0, 2100.0, 1980.0, 2070.0, 2250.0, 2190.0, 2230.0, 2200.0, 1880.0, 1690.0, 1670.0, 1640.0, 1620.0, 1590.0, 1550.0, 1490.0, 1380.0, 1330.0, 1270.0, 1230.0, 1210.0, 1190.0, 1140.0, 1090.0, 1060.0, 1080.0, 1050.0, 1000.0, 951.0, 890.0, 850.0, 816.0, 790.0, 768.0, 749.0, 732.0, 712.0, 691.0, 668.0, 653.0, 637.0, 622.0, 607.0, 593.0, 581.0, 571.0, 561.0, 549.0, 535.0, 528.0, 528.0, 527.0, 513.0, 508.0000305175781, 495.0, 485.0, 476.0, 469.0000305175781, 463.0, 457.0000305175781, 453.0, 447.0000305175781, 458.0, 448.0, 443.0000305175781, 434.0, 427.0, 424.0, 427.0, 429.0, 418.0000305175781, 411.0000305175781, 409.0, 404.0000305175781, 406.0000305175781, 396.0000305175781, 393.0, 387.0000305175781, 386.0000305175781, 383.0, 384.0000305175781, 377.0000305175781, 374.0000305175781, 372.0000305175781, 369.0000305175781, 368.0, 366.0, 362.0, 356.0, 354.0, 356.0, 354.0, 355.0, 353.0, 351.0, 350.0, 348.0, 355.0, 356.0, 366.0, 355.0, 350.0, 348.0, 344.0, 344.0, 344.0, 341.0, 344.0, 346.0, 346.0, 346.0, 344.0, 342.0, 341.0, 338.0, 336.0, 336.0, 338.0, 339.0, 471.9999694824219, 421.0000305175781, 373.0, 363.0, 387.0000305175781, 373.0, 376.0, 387.0000305175781, 361.0, 370.0, 354.0, 364.0, 453.0, 624.0, 541.0, 483.0, 481.0000305175781, 468.0, 439.0, 424.0, 414.0, 407.0, 401.0000305175781, 404.0000305175781, 412.0, 393.0, 361.0, 376.0, 390.0, 385.0, 371.0, 375.0, 377.0000305175781, 419.0, 392.0, 417.0, 481.9999694824219, 453.0, 415.0, 426.0000305175781, 439.0, 400.0, 385.0, 395.0, 401.0000305175781, 509.0, 653.0, 1030.0, 971.0, 715.0, 953.9999389648438, 855.0, 695.0, 617.0, 536.0, 534.0, 514.0, 498.9999694824219, 466.0, 462.0000305175781, 447.0000305175781, 442.0000305175781, 444.0, 417.0, 370.0, 390.0, 429.0, 418.0000305175781, 411.0000305175781, 412.0, 389.0000305175781, 398.0, 387.0000305175781, 380.0, 320.0, 350.0, 280.0, 280.0, 290.0, 310.0, 320.0, 340.0, 370.0, 360.0, 380.0, 370.0, 360.0, 361.0, 260.0, 260.0, 260.0, 280.0, 300.0, 300.0, 300.0, 300.0, 300.0, 300.0, 300.0, 300.0, 320.0, 320.0, 360.0, 350.0, 351.0, 347.0, 341.0, 336.0, 335.0, 328.0, 328.0, 333.0, 334.0, 333.0, 328.0, 328.0, 323.0, 314.0, 297.0, 328.0, 326.0, 315.0, 309.0, 314.0, 327.0, 309.0, 327.0, 318.0, 295.0, 326.0, 323.0, 302.0, 314.0, 314.0, 302.0, 315.0, 316.0, 317.0, 336.0, 316.0, 313.0, 339.0, 328.0, 324.0, 330.0, 337.0, 348.0, 367.0000305175781, 386.0000305175781, 430.0000305175781, 480.0, 508.0000305175781, 519.0, 475.0, 444.0, 473.0, 493.9999694824219, 461.0, 414.0, 420.0, 428.0000305175781, 430.0000305175781, 431.0, 440.0000305175781, 479.0000305175781, 536.0, 613.0, 679.0, 713.0, 809.0, 848.0, 938.0000610351562, 947.0, 948.9999389648438, 898.0, 819.0, 772.0, 747.0, 734.0, 766.0, 718.0, 694.0, 672.0, 640.0, 616.0, 631.0, 635.0, 624.0, 615.0, 604.0, 598.0, 615.0, 663.0, 746.0, 852.0, 945.0, 927.0, 874.0, 849.0, 878.0, 918.0, 970.0, 1060.0, 1200.0, 1420.0, 1740.0, 2110.0, 2440.0, 2640.0, 3060.0, 3400.0, 3300.0, 2930.0, 2630.0, 2410.0, 2170.0, 1980.0, 1960.0, 1940.0, 1780.0, 1610.0, 1490.0, 1440.0, 1460.0, 1460.0, 1500.0, 1400.0, 1300.0, 1270.0, 1330.0, 1440.0, 1470.0, 1480.0, 1560.0, 1640.0, 1740.0, 1690.0, 1690.0, 1640.0, 1470.0, 1350.0, 1250.0, 1120.0, 1030.0, 981.0, 967.9999389648438, 987.0000610351562, 1010.0, 909.0, 846.0, 774.0, 755.0, 817.0, 1130.0, 1080.0, 965.0, 889.0, 836.0, 793.0, 761.0, 736.0, 731.0, 690.0, 656.0, 624.0, 597.0, 576.0, 556.0, 537.0, 534.0, 513.0, 500.0, 488.9999694824219, 478.0, 471.0, 458.0, 449.0, 438.0000305175781, 429.0, 421.0000305175781, 413.0000305175781, 410.0, 406.0000305175781, 400.0, 395.0, 386.0000305175781, 377.0000305175781, 373.0, 368.0, 369.0000305175781, 368.0, 361.0, 353.0, 345.0, 338.0, 334.0, 332.0, 330.0, 324.0, 326.0, 325.0, 320.0, 313.0, 307.0, 304.0, 300.0, 298.0, 295.0, 290.0, 284.0, 283.0, 293.0, 288.0, 292.0, 290.0, 281.0, 294.0, 285.0, 274.0, 269.0, 266.0, 264.0, 281.0, 289.0, 290.0, 299.0, 279.0, 271.0, 268.0, 264.0, 265.0, 266.0, 297.0, 299.0, 275.0, 269.0, 265.0, 273.0, 276.0, 271.0, 265.0, 263.0, 272.0, 283.0, 329.0, 338.0, 313.0, 312.0, 497.0, 1590.0, 1130.0, 760.0, 643.0, 578.0, 534.0, 503.9999694824219, 481.9999694824219, 464.0000305175781, 454.0, 441.0, 427.0, 420.0, 415.0, 407.0, 399.0000305175781, 392.0, 386.0000305175781, 380.0, 374.0000305175781, 368.0, 362.0, 357.0, 355.0, 350.0, 345.0, 342.0, 339.0, 340.0, 345.0, 339.0, 336.0, 340.0, 337.0, 351.0, 333.0, 309.0, 347.0, 378.0, 459.0, 389.0000305175781, 371.0, 364.0, 357.0, 359.0, 359.0, 347.0, 357.0, 349.0, 338.0, 364.0, 415.0, 358.0, 240.99998474121094, 255.0, 284.0, 316.0, 333.0, 345.0, 343.0, 333.0, 338.0, 381.0, 556.0, 476.9999694824219, 300.0, 200.0, 175.0, 160.0, 180.0, 200.0, 240.0, 280.0, 300.0, 330.0, 360.0, 345.0, 315.0, 302.0, 302.0, 300.0, 295.0, 295.0, 296.0, 314.0, 302.0, 249.0, 267.0, 269.0, 268.0, 268.0, 270.0, 280.0, 292.0, 293.0, 306.0, 261.0, 193.0, 211.0, 263.0, 278.0, 293.0, 303.0, 321.0, 323.0, 306.0, 298.0, 259.0, 255.0, 254.00001525878906, 254.00001525878906, 254.00001525878906, 259.0, 262.0, 262.0, 268.0, 268.0, 274.0, 276.0, 277.0, 279.0, 293.0, 314.0, 313.0, 313.0, 310.0, 301.0, 280.0, 248.00001525878906, 290.0, 310.0, 330.0, 327.0, 329.0, 312.0, 337.0, 380.0, 378.0, 413.0000305175781, 405.0, 374.0000305175781, 363.0, 358.0, 340.0, 334.0, 326.0, 323.0, 323.0, 351.0, 402.0, 439.0, 471.9999694824219, 474.0000305175781, 467.0000305175781, 552.0, 626.0, 559.0, 799.0, 845.0, 713.0, 677.0, 1130.0, 1050.0, 847.0, 778.0, 759.0, 699.0, 669.0, 685.0, 641.0, 613.0, 602.0, 593.0, 578.0, 580.0, 596.0, 637.0, 681.0, 664.0, 627.0, 698.0, 720.0, 672.0, 649.0, 643.0, 615.0, 611.0, 606.0, 608.0, 633.0, 744.0, 982.0000610351562, 1120.0, 1170.0, 1280.0, 1280.0, 1210.0, 1190.0, 1110.0, 1090.0, 1450.0, 1520.0, 1560.0, 1600.0, 1760.0, 1620.0, 1440.0, 1400.0, 1370.0, 1270.0, 1180.0, 1100.0, 1100.0, 1190.0, 1490.0, 1970.0, 2280.0, 2240.0, 2090.0, 2010.0, 1900.0, 1990.0, 1860.0, 1680.0, 1580.0, 1550.0, 1660.0, 1990.0, 2490.0, 3090.0, 3430.0, 3150.0, 2870.0, 2860.0, 3070.0, 3440.0, 3860.0, 4180.0, 4150.0, 4460.0, 4700.0, 4370.0, 3780.0, 3430.0, 3260.0, 3250.0, 3370.0, 3510.0, 3490.0, 3420.0, 3310.0, 3140.0, 3060.0, 3130.0, 3080.0, 2870.0, 2800.0, 2570.0, 2270.0, 2150.0, 1960.0, 1770.0, 1610.0, 1540.0, 1670.0, 1780.0, 1800.0, 1830.0, 1880.0, 1850.0, 1820.0, 1770.0, 1650.0, 1560.0, 1460.0, 1430.0, 1450.0, 1440.0, 1430.0, 1360.0, 1300.0, 1250.0, 1200.0, 1150.0, 1110.0, 1060.0, 1020.0, 977.9999389648438, 958.9999389648438, 925.0, 879.0, 838.0, 797.0, 768.0, 775.0, 764.0, 747.0, 711.0, 691.0, 665.0, 642.0, 627.0, 630.0, 617.0, 663.0, 640.0, 600.0, 584.0, 584.0, 587.0, 628.0, 666.0, 573.0, 549.0, 533.0, 516.0, 520.0, 579.0, 641.0, 538.0, 509.0, 493.0, 479.0000305175781, 465.0000305175781, 463.0, 460.0000305175781, 469.0000305175781, 496.0000305175781, 471.0, 463.0, 459.0, 441.0, 428.0000305175781, 419.0, 418.0000305175781, 430.0000305175781, 418.0000305175781, 408.0000305175781, 399.0000305175781, 396.0000305175781, 392.0, 385.0, 379.0000305175781, 374.0000305175781, 368.0, 366.0, 366.0, 365.0000305175781, 361.0, 356.0, 351.0, 353.0, 351.0, 352.0, 353.0, 345.0, 341.0, 346.0, 353.0, 340.0, 329.0, 331.0, 343.0, 344.0, 427.0, 397.0, 389.0000305175781, 370.0, 361.0, 354.0, 347.0, 342.0, 338.0, 335.0, 331.0, 329.0, 328.0, 328.0, 327.0, 324.0, 326.0, 338.0, 328.0, 323.0, 319.0, 316.0, 392.0, 386.0000305175781, 424.0, 513.0, 462.0000305175781, 433.0000305175781, 426.0000305175781, 408.0000305175781, 410.0, 409.0, 398.0, 402.0, 461.0, 423.0000305175781, 409.0, 405.0, 401.0000305175781, 397.0, 391.0000305175781, 389.0000305175781, 406.0000305175781, 379.0000305175781, 321.0, 270.0, 350.0, 370.0, 290.0, 300.0, 320.0, 360.0, 420.0, 410.0, 430.0000305175781, 396.0000305175781, 375.0, 399.0000305175781, 464.0000305175781, 445.0000305175781, 448.0, 493.9999694824219, 456.0, 380.0, 430.0000305175781, 416.0000305175781, 462.0000305175781, 467.0000305175781, 461.0, 459.0, 438.0000305175781, 423.0000305175781, 412.0, 412.0, 438.0000305175781, 492.0, 452.0000305175781, 411.0000305175781, 426.0000305175781, 412.0, 399.0000305175781, 397.0, 396.0000305175781, 492.0, 486.0000305175781, 424.0, 443.0000305175781, 424.0, 340.0, 290.0, 290.0, 320.0, 280.0, 230.0, 260.0, 280.0, 350.0, 370.0, 370.0, 365.0000305175781, 373.0, 369.0000305175781, 361.0, 358.0, 356.0, 355.0, 344.0, 295.0, 280.0, 320.0, 340.0, 427.0, 466.0, 380.0, 300.0, 310.0, 365.0000305175781, 360.0, 376.0, 374.0000305175781, 391.0000305175781, 402.0, 400.0, 392.0, 390.0, 410.0, 405.0, 408.0000305175781, 416.0000305175781, 410.0, 425.0000305175781, 966.0, 1010.0, 1140.0, 1170.0, 951.0, 816.0, 742.0, 706.0, 693.0, 662.0, 638.0, 628.0, 614.0, 601.0, 580.0, 539.0, 505.9999694824219, 529.0, 515.0, 502.0, 491.0000305175781, 476.9999694824219, 459.0, 450.0000305175781, 447.0000305175781, 417.0, 428.0000305175781, 431.0, 431.0, 439.0, 451.0, 465.0000305175781, 492.0, 512.0, 547.0, 590.0, 677.0, 805.0, 847.0, 881.0, 853.0, 833.0, 841.0, 829.0, 839.0, 833.0, 784.0, 760.0, 776.0, 849.0, 882.0, 901.0, 963.0000610351562, 1010.0, 956.0, 908.0, 884.0, 866.0, 832.0, 783.0, 760.0, 737.0, 714.0, 724.0, 725.0, 692.0, 709.0, 683.0, 670.0, 680.0, 722.0, 770.0, 834.0, 928.0, 1050.0, 1200.0, 1300.0, 1240.0, 1140.0, 1040.0, 1030.0, 1100.0, 1260.0, 1380.0, 1520.0, 1640.0, 1700.0, 1780.0, 1880.0, 1780.0, 1640.0, 1550.0, 1530.0, 1540.0, 1590.0, 1690.0, 1650.0, 1670.0, 1700.0, 1710.0, 1700.0, 1720.0, 1830.0, 1840.0, 1900.0, 1890.0, 1920.0, 1960.0, 1980.0, 1910.0, 1790.0, 1650.0, 1660.0, 1710.0, 1940.0, 2050.0, 1800.0, 1570.0, 1440.0, 1390.0, 1370.0, 1420.0, 1520.0, 1610.0, 1460.0, 1290.0, 1190.0, 1080.0, 992.0000610351562, 942.0, 911.0, 881.0, 853.0, 826.0, 796.0, 763.0, 729.0, 706.0, 687.0, 665.0, 650.0, 637.0, 632.0, 608.0, 592.0, 572.0, 554.0, 539.0, 533.0, 537.0, 534.0, 523.0, 526.0, 520.0, 542.0, 529.0, 515.0, 507.0, 487.0, 467.0000305175781, 454.0, 454.0, 468.0, 439.0, 425.0000305175781, 422.0, 429.0, 420.0, 409.0, 400.0, 409.0, 421.0000305175781, 399.0000305175781, 386.0000305175781, 376.0, 367.0000305175781, 361.0, 361.0, 365.0000305175781, 364.0, 395.0, 367.0000305175781, 365.0000305175781, 367.0000305175781, 353.0, 345.0, 338.0, 332.0, 329.0, 324.0, 324.0, 322.0, 320.0, 318.0, 315.0, 311.0, 308.0, 307.0, 304.0, 300.0, 297.0, 294.0, 294.0, 295.0, 293.0, 293.0, 291.0, 286.0, 288.0, 295.0, 312.0, 309.0, 301.0, 296.0, 291.0, 286.0, 282.0, 279.0, 276.0, 278.0, 354.0, 386.0000305175781, 390.0, 401.0000305175781, 352.0, 335.0, 324.0, 317.0, 311.0, 311.0, 308.0, 304.0, 302.0, 301.0, 300.0, 298.0, 304.0, 304.0, 300.0, 302.0, 299.0, 296.0, 294.0, 296.0, 292.0, 289.0, 285.0, 286.0, 285.0, 285.0, 284.0, 283.0, 282.0, 305.0, 335.0, 322.0, 302.0, 297.0, 294.0, 292.0, 290.0, 297.0, 294.0, 291.0, 303.0, 305.0, 352.0, 415.0, 401.0000305175781, 361.0, 347.0, 333.0, 329.0, 317.0, 317.0, 330.0, 328.0, 306.0, 312.0, 310.0, 311.0, 308.0, 306.0, 297.0, 323.0, 308.0, 312.0, 225.0, 200.0, 220.0, 260.0, 300.0, 250.0, 210.0, 200.0, 180.0, 185.0, 200.0, 250.0, 270.0, 300.0, 280.0, 260.0, 315.0, 435.0000305175781, 449.0, 446.0, 393.0, 354.0, 349.0, 338.0, 290.0, 250.0, 200.0, 215.0, 270.0, 290.0, 314.0, 306.0, 306.0, 306.0, 270.0, 200.0, 200.0, 250.0, 290.0, 280.0, 280.0, 220.0, 210.0, 260.0, 320.0, 300.0, 300.0, 290.0, 270.0, 269.0, 250.0, 220.0, 230.0, 290.0, 270.0, 270.0, 271.0, 273.0, 286.0, 279.0, 283.0, 276.0, 277.0, 286.0, 289.0, 276.0, 240.0, 240.0, 260.0, 296.0, 294.0, 281.0, 220.0, 250.0, 280.0, 295.0, 280.0, 274.0, 270.0, 269.0, 285.0, 301.0, 318.0, 328.0, 350.0, 369.0000305175781, 395.0, 434.0, 450.0000305175781, 453.0, 451.0, 426.0000305175781, 399.0000305175781, 386.0000305175781, 365.0000305175781, 361.0, 364.0, 369.0000305175781, 407.0, 408.0000305175781, 410.0, 406.0000305175781, 422.0, 437.0, 436.0, 496.0000305175781, 727.0, 789.0, 653.0, 585.0, 607.0, 849.0, 892.0, 891.0, 933.0, 816.0, 722.0, 652.0, 598.0, 573.0, 592.0, 739.0, 820.0, 745.0, 709.0, 675.0, 630.0, 608.0, 580.0, 565.0, 557.0, 618.0, 694.0, 809.0, 974.0, 1120.0, 1020.0, 987.9999389648438, 1080.0, 1310.0, 1570.0, 1930.0, 2070.0, 2190.0, 2600.0, 2560.0, 2090.0, 1690.0, 1540.0, 1530.0, 1620.0, 1850.0, 2160.0, 2570.0, 2710.0, 2530.0, 2280.0, 2040.0, 1940.0, 1810.0, 1740.0, 1630.0, 1630.0, 1730.0, 1950.0, 2250.0, 2570.0, 3000.0, 3340.0, 3560.0, 3700.0, 3210.0, 2690.0, 2440.0, 2460.0, 2720.0, 3100.0, 3100.0, 2890.0, 2900.0, 3270.0, 3300.0, 2920.0, 2550.0, 2210.0, 1950.0, 1790.0, 1720.0, 1720.0, 1760.0, 1820.0, 1920.0, 2060.0, 2210.0, 2360.0, 2450.0, 2740.0, 3120.0, 3380.0, 3170.0, 3080.0, 3030.0, 2710.0, 2410.0, 2050.0, 1790.0, 1690.0, 1600.0, 1550.0, 1360.0, 1250.0, 1210.0, 1200.0, 1240.0, 1280.0, 1250.0, 1250.0, 1200.0, 1100.0, 1050.0, 1030.0, 1040.0, 1040.0, 1030.0, 1000.0, 953.0000610351562, 917.0, 880.0, 837.0, 798.0, 765.0, 754.0, 778.0, 800.0, 740.0, 702.0, 671.0, 651.0, 635.0, 622.0, 602.0, 586.0, 576.0, 563.0, 552.0, 544.0, 537.0, 526.0, 514.0, 507.0, 498.0, 495.0, 493.9999694824219, 488.0, 479.0000305175781, 473.0, 465.0000305175781, 461.0, 458.0, 457.0000305175781, 441.0, 438.0000305175781, 431.0, 430.0000305175781, 425.0000305175781, 418.0000305175781, 405.0, 401.0000305175781, 396.0000305175781, 389.0000305175781, 388.0, 386.0000305175781, 373.0, 368.0, 365.0000305175781, 362.0, 360.0, 358.0, 351.0, 351.0, 348.0, 344.0, 341.0, 329.0, 329.0, 325.0, 328.0, 347.0, 342.0, 339.0, 338.0, 330.0, 325.0, 320.0, 317.0, 309.0, 307.0, 310.0, 331.0, 340.0, 319.0, 308.0, 311.0, 308.0, 302.0, 299.0, 311.0, 327.0, 308.0, 301.0, 298.0, 294.0, 291.0, 289.0, 288.0, 287.0, 288.0, 304.0, 309.0, 304.0, 311.0, 304.0, 299.0, 294.0, 291.0, 299.0, 292.0, 292.0, 373.0, 464.0000305175781, 575.0, 490.0, 449.0, 419.0, 394.0000305175781, 380.0, 379.0000305175781, 367.0000305175781, 365.0000305175781, 428.0000305175781, 444.0, 418.0000305175781, 422.0, 458.0, 469.0000305175781, 722.0, 650.0, 574.0, 524.0, 491.0000305175781, 466.0, 446.0, 430.0000305175781, 416.0000305175781, 405.0, 394.0000305175781, 387.0000305175781, 380.0, 373.0, 373.0, 422.0, 500.0, 421.0000305175781, 388.0, 393.0, 389.0000305175781, 379.0000305175781, 364.0, 371.0, 360.0, 352.0, 351.0, 349.0, 355.0, 333.0, 331.0, 337.0, 295.0, 336.0, 346.0, 297.0, 212.0, 198.0, 198.0, 239.0, 294.0, 336.0, 336.0, 301.0, 277.0, 269.0, 271.0, 214.0, 186.0, 195.0, 222.0, 240.99998474121094, 237.00001525878906, 250.0, 269.0, 254.00001525878906, 262.0, 256.0, 249.0, 240.99998474121094, 252.99998474121094, 255.0, 251.0, 259.0, 256.0, 248.00001525878906, 245.0, 246.0, 266.0, 326.0, 406.0000305175781, 481.0000305175781, 488.9999694824219, 466.0, 398.0, 350.0, 330.0, 325.0, 337.0, 384.0000305175781, 442.0000305175781, 461.0, 444.0, 417.0, 401.0000305175781, 381.0, 334.0, 281.0, 256.0, 266.0, 275.0, 279.0, 284.0, 303.0, 339.0, 367.0000305175781, 430.0000305175781, 435.0000305175781, 471.0, 459.0, 444.0, 856.0, 2200.0, 1320.0, 932.0, 793.0, 725.0, 698.0, 714.0, 774.0, 745.0, 777.0, 757.0, 953.9999389648438, 894.0, 791.0, 708.0, 647.0, 608.0, 576.0, 548.0, 516.0, 493.0, 483.0, 503.9999694824219, 490.0, 476.0, 466.0, 475.0, 585.0, 1330.0, 1340.0, 1070.0, 1060.0, 1190.0, 1590.0, 2670.0, 2390.0, 2220.0, 3200.0, 3450.0, 3100.0, 3440.0, 2960.0, 2630.0, 2250.0, 1980.0, 1810.0, 1650.0, 1580.0, 1780.0, 1710.0, 1750.0, 1880.0, 1910.0, 1720.0, 1630.0, 1780.0, 2170.0, 2220.0, 1910.0, 1730.0, 1570.0, 1540.0, 1720.0, 1670.0, 1530.0, 1500.0, 1750.0, 1860.0, 1890.0, 1940.0, 1840.0, 1860.0, 2000.0, 2120.0, 1980.0, 1930.0, 1820.0, 1690.0, 1650.0, 1690.0, 1700.0, 1850.0, 2130.0, 2690.0, 3600.0, 4710.0, 5390.0, 4810.0, 4830.0, 4980.0, 5310.0, 5740.0, 5160.0, 4360.0, 3860.0, 3660.0, 3330.0, 2930.0, 2720.0, 2700.0, 2960.0, 3640.0, 4390.0, 5330.0, 5440.0, 4730.0, 4390.0, 4570.0, 5000.0, 5590.0, 6500.0, 6890.0, 6380.0, 6070.0, 6360.0, 6560.0, 6000.0, 5840.0, 6340.0, 5920.0, 5190.0, 4430.0, 4110.0, 4140.0, 3730.0, 3530.0, 3700.0, 4060.0, 4220.0, 4510.0, 4960.0, 5480.0, 5080.0, 4410.0, 4009.999755859375, 3910.000244140625, 3980.0, 4140.0, 3989.999755859375, 3700.0, 3210.0, 3010.0, 2900.0, 2880.0, 2910.0, 2740.0, 2710.0, 2530.0, 2400.0, 2320.0, 2230.0, 2090.0, 1890.0, 1730.0, 1650.0, 1590.0, 1520.0, 1450.0, 1360.0, 1280.0, 1220.0, 1150.0, 1100.0, 1060.0, 1030.0, 1010.0, 1020.0, 1010.0, 972.9999389648438, 940.0, 905.0, 880.0, 855.0, 833.0, 811.0, 793.0, 774.0, 758.0, 744.0, 734.0, 719.0, 709.0, 699.0, 691.0, 674.0, 677.0, 659.0, 641.0, 627.0, 615.0, 605.0, 594.0, 588.0, 580.0, 575.0, 575.0, 563.0, 552.0, 545.0, 538.0, 535.0, 528.0, 529.0, 522.0, 516.0, 508.0000305175781, 505.0, 515.0, 522.0, 518.0, 515.0, 513.0, 514.0, 503.0000305175781, 496.0000305175781, 495.0, 495.0, 501.0000305175781, 503.9999694824219, 495.0, 592.0, 693.0, 676.0, 650.0, 628.0, 592.0, 568.0, 554.0, 546.0, 546.0, 539.0, 529.0, 552.0, 558.0, 541.0, 526.0, 517.0, 516.0, 507.0, 498.9999694824219, 493.0, 486.0000305175781, 481.9999694824219, 476.0, 470.0, 486.0000305175781, 479.0000305175781, 473.0, 476.9999694824219, 475.0, 471.9999694824219, 467.0000305175781, 481.0000305175781, 492.0, 595.0, 638.0, 561.0, 540.0, 528.0, 521.0, 512.0, 507.0, 501.0000305175781, 492.0, 487.0, 496.0000305175781, 540.0, 566.0, 529.0, 525.0, 474.0000305175781, 497.0, 510.0, 532.0, 531.0, 509.0, 500.0, 539.0, 510.0, 606.0, 596.0, 525.0, 503.0000305175781, 530.0, 681.0, 1080.0, 1120.0, 1440.0, 1270.0, 1070.0, 1160.0, 1050.0, 968.9999389648438, 880.0, 851.0, 803.0, 788.0, 727.0, 610.0, 565.0, 561.0, 592.0, 605.0, 551.0, 545.0, 579.0, 580.0, 543.0, 521.0, 515.0, 483.9999694824219, 501.0000305175781, 491.0000305175781, 493.0, 418.0000305175781, 413.0000305175781, 407.0, 329.0, 376.0, 422.0, 435.0000305175781, 451.0, 461.0, 455.0000305175781, 390.0, 311.0, 337.0, 369.0000305175781, 417.0, 432.0, 457.0000305175781, 433.0000305175781, 422.0, 442.0000305175781, 481.0000305175781, 455.0000305175781, 463.0, 445.0000305175781, 434.0, 431.0, 431.0, 424.0, 428.0000305175781, 461.0, 433.0000305175781, 411.0000305175781, 435.0000305175781, 420.0, 418.0000305175781, 424.0, 416.0000305175781, 414.0, 421.0000305175781, 417.0, 417.0, 414.0, 407.0, 425.0000305175781, 453.0, 459.0, 561.0, 522.0, 493.9999694824219, 480.0, 473.0, 458.0, 432.0, 458.0, 416.0000305175781, 437.0, 434.0, 419.0, 424.0, 434.0, 398.0, 359.0, 321.0, 368.0, 369.0000305175781, 409.0, 428.0000305175781, 423.0000305175781, 365.0000305175781, 392.0, 406.0000305175781, 405.0, 387.0000305175781, 393.0, 390.0, 382.0000305175781, 381.0, 393.0, 396.0000305175781, 389.0000305175781, 405.0, 411.0000305175781, 449.0, 623.0, 600.0, 536.0, 523.0, 491.0000305175781, 471.0, 466.0, 466.0, 611.0, 827.0, 702.0, 644.0, 607.0, 586.0, 598.0, 632.0, 662.0, 692.0, 726.0, 756.0, 706.0, 692.0, 706.0, 871.0, 1100.0, 1340.0, 1160.0, 1110.0, 1220.0, 1320.0, 1180.0, 1120.0, 1070.0, 1270.0, 1200.0, 1100.0, 1070.0, 1120.0, 1300.0, 1510.0, 1620.0, 1690.0, 1810.0, 1980.0, 2240.0, 2640.0, 2660.0, 2310.0, 2030.0, 1890.0, 1900.0, 2070.0, 2380.0, 2780.0, 3340.0, 3490.0, 3620.0, 3640.0, 3260.0, 2840.0, 2590.0, 2540.0, 2630.0, 2760.0, 2930.0, 3080.0, 3160.0, 3130.0, 3120.0, 3280.0, 3440.0, 3540.0, 3640.0, 3720.0, 3490.0, 3510.0, 3410.0, 3240.0, 3170.0, 2890.0, 2470.0, 2290.0, 2360.0, 2590.0, 2540.0, 2380.0, 2370.0, 2250.0, 2300.0, 1960.0, 1680.0, 1530.0, 1550.0, 1610.0, 1530.0, 1510.0, 1610.0, 1570.0, 1440.0, 1390.0, 1410.0, 1410.0, 1340.0, 1280.0, 1260.0, 1220.0, 1160.0, 1130.0, 1070.0, 1010.0, 984.0, 960.0, 918.0, 869.0, 852.0, 839.0, 827.0, 810.0, 798.0, 776.0, 747.0, 717.0, 692.0, 672.0, 657.0, 644.0, 625.0, 606.0, 589.0, 569.0, 556.0, 544.0, 532.0, 518.0, 510.0, 501.0000305175781, 493.0, 483.9999694824219, 478.0, 473.0, 468.0, 456.0, 450.0000305175781, 447.0000305175781, 442.0000305175781, 438.0000305175781, 428.0000305175781, 420.0, 411.0000305175781, 405.0, 401.0000305175781, 399.0000305175781, 392.0, 388.0, 384.0000305175781, 379.0000305175781, 378.0, 377.0000305175781, 372.0000305175781, 368.0, 370.0, 368.0, 366.0, 361.0, 358.0, 355.0, 387.0000305175781, 393.0, 367.0000305175781, 355.0, 349.0, 344.0, 338.0, 335.0, 330.0, 326.0, 324.0, 323.0, 316.0, 314.0, 313.0, 314.0, 314.0, 316.0, 314.0, 311.0, 315.0, 309.0, 305.0, 303.0, 302.0, 303.0, 299.0, 296.0, 297.0, 298.0, 298.0, 296.0, 293.0, 290.0, 291.0, 292.0, 295.0, 300.0, 350.0, 363.0, 330.0, 327.0, 315.0, 362.0, 353.0, 336.0, 326.0, 320.0, 313.0, 310.0, 309.0, 308.0, 305.0, 303.0, 300.0, 299.0, 297.0, 306.0, 305.0, 298.0, 296.0, 302.0, 297.0, 303.0, 303.0, 298.0, 300.0, 322.0, 325.0, 325.0, 318.0, 311.0, 305.0, 287.0, 276.0, 295.0, 272.0, 273.0, 292.0, 288.0, 284.0, 282.0, 280.0, 262.0, 246.99998474121094, 235.0, 230.0, 278.0, 286.0, 286.0, 252.99998474121094, 240.0, 289.0, 295.0, 279.0, 275.0, 276.0, 273.0, 271.0, 229.0, 158.0, 157.0, 193.0, 292.0, 340.0, 307.0, 289.0, 281.0, 280.0, 270.0, 281.0, 283.0, 293.0, 300.0, 298.0, 280.0, 282.0, 263.0, 270.0, 287.0, 274.0, 234.0, 238.0, 215.0, 233.0, 277.0, 246.99998474121094, 200.0, 235.0, 296.0, 302.0, 291.0, 284.0, 283.0, 270.0, 275.0, 277.0, 265.0, 225.0, 207.0, 231.0, 265.0, 296.0, 304.0, 289.0, 289.0, 338.0, 325.0, 266.0, 256.0, 273.0, 264.0, 273.0, 290.0, 269.0, 266.0, 248.00001525878906, 249.0, 270.0, 295.0, 328.0, 309.0, 301.0, 284.0, 230.0, 198.0, 299.0, 297.0, 299.0, 300.0, 297.0, 304.0, 330.0, 299.0, 293.0, 281.0, 249.0, 294.0, 279.0, 248.00001525878906, 308.0, 323.0, 330.0, 328.0, 376.0, 402.0, 360.0, 345.0, 341.0, 337.0, 326.0, 332.0, 375.0, 359.0, 341.0, 331.0, 326.0, 332.0, 333.0, 317.0, 322.0, 333.0, 360.0, 389.0000305175781, 441.0, 503.0000305175781, 536.0, 516.0, 525.0, 577.0, 543.0, 543.0, 632.0, 743.0, 686.0, 616.0, 601.0, 621.0, 623.0, 696.0, 765.0, 890.0, 999.0, 1010.0, 1920.0, 3290.0, 2120.0, 1550.0, 1280.0, 1150.0, 1160.0, 1080.0, 1050.0, 1030.0, 1030.0, 1370.0, 1990.0, 2400.0, 2410.0, 2410.0, 2670.0, 2760.0, 2600.0, 2460.0, 2290.0, 2010.0, 1780.0, 1610.0, 1520.0, 1520.0, 1640.0, 1840.0, 2090.0, 2330.0, 2490.0, 2540.0, 2490.0, 2540.0, 2820.0, 3220.0, 3510.0, 3720.0, 3690.0, 3740.0, 3360.0, 2950.0, 2730.0, 2630.0, 2460.0, 2330.0, 2280.0, 2310.0, 2460.0, 2590.0, 2760.0, 3000.0, 3220.0, 3350.0, 3520.0, 3720.0, 4080.0, 4230.0, 4089.999755859375, 3930.000244140625, 4000.0, 3350.0, 2750.0, 2410.0, 2280.0, 2440.0, 2880.0, 3040.0, 2910.0, 2750.0, 2660.0, 2630.0, 2520.0, 2320.0, 2040.0, 1770.0, 1610.0, 1530.0, 1500.0, 1470.0, 1450.0, 1450.0, 1380.0, 1340.0, 1340.0, 1340.0, 1350.0, 1310.0, 1220.0, 1160.0, 1160.0, 1150.0, 1090.0, 1030.0, 1010.0, 1010.0, 1000.0, 976.0, 938.0000610351562, 901.0, 862.0, 823.0, 792.0, 761.0, 731.0, 707.0, 692.0, 692.0, 663.0, 649.0, 634.0, 609.0, 599.0, 630.0, 599.0, 572.0, 560.0, 550.0, 533.0, 523.0, 510.9999694824219, 503.9999694824219, 503.9999694824219, 525.0, 544.0, 521.0, 503.0000305175781, 485.0, 471.0, 459.0, 452.0000305175781, 444.0, 438.0000305175781, 428.0000305175781, 418.0000305175781, 412.0, 408.0000305175781, 408.0000305175781, 402.0, 393.0, 391.0000305175781, 387.0000305175781, 382.0000305175781, 376.0, 374.0000305175781, 372.0000305175781, 364.0, 358.0, 354.0, 351.0, 348.0, 389.0000305175781, 422.0, 425.0000305175781, 460.0000305175781, 417.0, 406.0000305175781, 409.0, 390.0, 377.0000305175781, 367.0000305175781, 359.0, 376.0, 377.0000305175781, 389.0000305175781, 397.0, 379.0000305175781, 368.0, 359.0, 353.0, 350.0, 349.0, 355.0, 372.0000305175781, 362.0, 361.0, 365.0000305175781, 362.0, 360.0, 357.0, 352.0, 349.0, 348.0, 364.0, 340.0, 336.0, 337.0, 336.0, 334.0, 343.0, 340.0, 340.0, 344.0, 352.0, 356.0, 353.0, 371.0, 378.0, 355.0, 352.0, 356.0, 336.0, 318.0, 312.0, 248.00001525878906, 301.0, 330.0, 332.0, 330.0, 331.0, 325.0, 324.0, 320.0, 316.0, 317.0, 319.0, 318.0, 314.0, 315.0, 312.0, 312.0, 313.0, 310.0, 313.0, 321.0, 317.0, 304.0, 299.0, 302.0, 306.0, 298.0, 285.0, 296.0, 289.0, 287.0, 295.0, 287.0, 307.0, 304.0, 291.0, 273.0, 281.0, 297.0, 323.0, 291.0, 260.0, 315.0, 320.0, 301.0, 290.0, 271.0, 262.0, 205.0, 246.99998474121094, 295.0, 295.0, 290.0, 283.0, 280.0, 283.0, 271.0, 264.0, 250.0, 262.0, 276.0, 269.0, 264.0, 291.0, 273.0, 267.0, 265.0, 251.99998474121094, 273.0, 266.0, 265.0, 265.0, 231.0, 283.0, 290.0, 275.0, 277.0, 255.0, 270.0, 278.0, 262.0, 264.0, 256.0, 266.0, 261.0, 256.0, 263.0, 260.0, 269.0, 269.0, 267.0, 261.0, 260.0, 255.0, 254.00001525878906, 257.0, 241.99998474121094, 166.0, 245.0, 286.0, 300.0, 279.0, 252.99998474121094, 255.0, 230.0, 266.0, 237.00001525878906, 263.0, 251.0, 259.0, 245.0, 210.0, 224.0, 246.0, 281.0, 318.0, 336.0, 294.0, 234.0, 251.0, 244.0, 258.0, 275.0, 261.0, 251.0, 258.0, 273.0, 279.0, 315.0, 350.0, 351.0, 324.0, 311.0, 320.0, 352.0, 349.0, 346.0, 341.0, 339.0, 383.0, 409.0, 394.0000305175781, 416.0000305175781, 421.0000305175781, 438.0000305175781, 446.0, 435.0000305175781, 405.0, 368.0, 354.0, 338.0, 330.0, 343.0, 401.0000305175781, 453.0, 478.0, 475.0, 471.9999694824219, 483.9999694824219, 505.0, 556.0, 633.0, 756.0, 898.0, 982.9999389648438, 854.0, 770.0, 722.0, 723.0, 695.0, 692.0, 731.0, 776.0, 836.0, 932.0, 1010.0, 1140.0, 1140.0, 1080.0, 1190.0, 1340.0, 1350.0, 1450.0, 1830.0, 2100.0, 1890.0, 1820.0, 1720.0, 1650.0, 1690.0, 1600.0, 1560.0, 1630.0, 1790.0, 2020.0, 2240.0, 2080.0, 1850.0, 1700.0, 1540.0, 1490.0, 1720.0, 2120.0, 2080.0, 1940.0, 1780.0, 1620.0, 1500.0, 1470.0, 1620.0, 1910.0, 2250.0, 2760.0, 3440.0, 3570.0, 3340.0, 2870.0, 2670.0, 2610.0, 2520.0, 2620.0, 2620.0, 2170.0, 1850.0, 1640.0, 1530.0, 1550.0, 1660.0, 1650.0, 1500.0, 1520.0, 1720.0, 1670.0, 1610.0, 1570.0, 1540.0, 1600.0, 1620.0, 1620.0, 1590.0, 1530.0, 1470.0, 1380.0, 1360.0, 1300.0, 1190.0, 1110.0, 1050.0, 1030.0, 1010.0, 987.9999389648438, 962.0000610351562, 941.0, 911.0, 876.0, 851.0, 828.0, 810.0, 787.0, 762.0, 739.0, 718.0, 701.0, 684.0, 665.0, 649.0, 644.0, 660.0, 770.0, 673.0, 634.0, 612.0, 617.0, 663.0, 601.0, 573.0, 557.0, 543.0, 528.0, 519.0, 510.9999694824219, 512.0, 498.9999694824219, 490.0, 483.9999694824219, 476.9999694824219, 469.0000305175781, 461.0, 457.0000305175781, 452.0000305175781, 446.0, 441.0, 437.0, 429.0, 425.0000305175781, 422.0, 418.0000305175781, 414.0, 412.0, 410.0, 418.0000305175781, 413.0000305175781, 417.0, 408.0000305175781, 398.0, 391.0000305175781]}, {\"mode\": \"lines\", \"name\": \"Predicted CFS\", \"type\": \"scatter\", \"y\": [403.7571716308594, 346.15179443359375, 295.6865234375, 304.325439453125, 332.5291442871094, 369.79522705078125, 359.8136901855469, 361.1531982421875, 340.25665283203125, 320.5157775878906, 276.8780822753906, 332.67657470703125, 325.7196044921875, 351.1903381347656, 292.1387634277344, 237.71726989746094, 177.11276245117188, 168.57496643066406, 167.6491241455078, 183.51417541503906, 195.9290313720703, 182.54818725585938, 239.53099060058594, 252.8297882080078, 234.6317138671875, 246.30569458007812, 251.81700134277344, 256.729248046875, 272.77197265625, 277.67047119140625, 283.5506591796875, 258.1641540527344, 262.56805419921875, 269.515869140625, 254.2243194580078, 242.1629638671875, 229.7384796142578, 243.3463592529297, 272.2571105957031, 270.5777282714844, 302.2608337402344, 306.9859619140625, 324.76416015625, 363.0379943847656, 342.6138916015625, 355.304443359375, 364.508056640625, 350.6939392089844, 329.3604431152344, 343.6560363769531, 347.6136474609375, 361.7343444824219, 355.1251220703125, 345.4217529296875, 349.3630065917969, 339.8689880371094, 345.87054443359375, 351.6477966308594, 314.569091796875, 321.3651123046875, 332.5016174316406, 313.33770751953125, 293.2122497558594, 285.9035339355469, 274.9410705566406, 290.096435546875, 315.3298034667969, 326.0054626464844, 350.8741760253906, 370.6505126953125, 426.4834899902344, 477.609375, 483.6325988769531, 470.5868835449219, 500.62506103515625, 608.4010620117188, 850.9267578125, 892.7260131835938, 801.83740234375, 758.0584716796875, 823.7684326171875, 946.4408569335938, 1024.23974609375, 1012.5919189453125, 947.5274658203125, 899.8963012695312, 877.1129150390625, 929.08203125, 967.12158203125, 1019.3041381835938, 1025.617919921875, 952.4180297851562, 897.6589965820312, 891.643310546875, 878.6920166015625, 854.4651489257812, 793.6213989257812, 808.8294677734375, 792.6285400390625, 813.9131469726562, 906.5946655273438, 1033.4849853515625, 1149.2445068359375, 1232.2877197265625, 1086.400390625, 1050.750732421875, 980.5628662109375, 934.3623046875, 928.62255859375, 900.2802124023438, 899.1229858398438, 952.1004638671875, 946.0440673828125, 892.4320068359375, 862.9078369140625, 862.9533081054688, 854.6969604492188, 861.8792114257812, 894.6476440429688, 945.3250122070312, 1018.9224243164062, 1110.1588134765625, 1306.85888671875, 1630.47900390625, 1854.7696533203125, 2027.18212890625, 2161.105224609375, 1997.856689453125, 1715.6524658203125, 1524.9683837890625, 1402.8026123046875, 1346.318603515625, 1424.04833984375, 1582.2939453125, 1843.4281005859375, 2110.026123046875, 2337.060302734375, 2510.5927734375, 2427.15380859375, 2259.3134765625, 2208.13330078125, 2201.839599609375, 2303.25146484375, 2402.106201171875, 2457.370849609375, 2269.0322265625, 1965.62060546875, 1675.5567626953125, 1516.1009521484375, 1398.8497314453125, 1341.8145751953125, 1373.5093994140625, 1444.17236328125, 1449.3394775390625, 1398.65283203125, 1431.4373779296875, 1475.539306640625, 1547.7928466796875, 1564.5023193359375, 1636.591552734375, 1633.4844970703125, 1518.63232421875, 1371.916015625, 1231.055419921875, 1170.2503662109375, 1300.1412353515625, 1533.02587890625, 1358.36181640625, 1251.9456787109375, 1187.2857666015625, 1194.9208984375, 1171.7962646484375, 1119.124755859375, 1079.5595703125, 1010.4879760742188, 973.0794067382812, 964.520263671875, 948.4024047851562, 901.143310546875, 857.7783813476562, 812.44091796875, 793.564453125, 756.1832275390625, 726.9719848632812, 711.2914428710938, 697.8079833984375, 685.0865478515625, 659.8450927734375, 652.4629516601562, 624.9829711914062, 610.9832153320312, 597.6375122070312, 584.212158203125, 567.2578125, 556.248291015625, 541.9397583007812, 529.1383666992188, 517.2716064453125, 508.58441162109375, 494.568115234375, 480.7040710449219, 472.7556457519531, 473.67926025390625, 496.4843444824219, 462.46588134765625, 450.8228759765625, 442.4554443359375, 437.9584045410156, 426.44390869140625, 421.6851501464844, 430.53179931640625, 457.3140869140625, 438.9306335449219, 415.19403076171875, 404.5412902832031, 390.03497314453125, 381.9949645996094, 374.5316162109375, 370.08258056640625, 368.2561340332031, 355.81884765625, 350.0807800292969, 354.5312805175781, 347.8360290527344, 345.1900329589844, 342.947021484375, 332.2215576171875, 333.02764892578125, 326.6036682128906, 321.01202392578125, 317.491943359375, 318.1899719238281, 311.18353271484375, 304.5112609863281, 300.34539794921875, 302.1449890136719, 330.9285583496094, 342.6944580078125, 322.9924011230469, 311.6302185058594, 305.07623291015625, 306.2471923828125, 290.6470031738281, 289.705078125, 289.4872741699219, 284.6251525878906, 282.850341796875, 305.1098327636719, 323.4495849609375, 297.96282958984375, 286.29241943359375, 280.1623840332031, 284.8307189941406, 297.7094421386719, 287.9197082519531, 281.4633483886719, 279.32855224609375, 277.9209899902344, 274.38458251953125, 272.25946044921875, 268.5551452636719, 262.0346374511719, 265.54156494140625, 267.63641357421875, 263.65240478515625, 283.19329833984375, 308.0909118652344, 296.7412109375, 283.6665954589844, 303.7024841308594, 431.0411682128906, 340.5269470214844, 316.1059875488281, 302.50390625, 295.9424133300781, 289.1102294921875, 301.2637634277344, 309.4952392578125, 317.0271301269531, 325.2426452636719, 308.0645751953125, 315.736083984375, 307.90460205078125, 304.5049743652344, 296.0969543457031, 294.6233825683594, 289.4208984375, 288.8330078125, 295.1747741699219, 296.1476135253906, 297.1471252441406, 290.7240295410156, 291.43853759765625, 281.50933837890625, 307.8974914550781, 326.5958251953125, 984.8480834960938, 866.0597534179688, 566.6370239257812, 498.7330627441406, 470.336669921875, 464.6700134277344, 454.13836669921875, 435.81365966796875, 428.5577392578125, 417.4353332519531, 413.22882080078125, 427.2472229003906, 416.26885986328125, 398.0277404785156, 386.455322265625, 378.4640808105469, 373.1852722167969, 365.14971923828125, 355.5426940917969, 354.06622314453125, 342.634521484375, 338.335693359375, 344.07879638671875, 339.40362548828125, 360.8045654296875, 423.24591064453125, 370.0489196777344, 378.4424743652344, 435.61322021484375, 674.0579223632812, 978.44482421875, 826.9959106445312, 651.80029296875, 526.2410888671875, 452.86767578125, 420.6495361328125, 418.507568359375, 401.7635498046875, 447.508056640625, 429.29638671875, 405.43365478515625, 399.39056396484375, 344.4036560058594, 346.51910400390625, 388.6795349121094, 460.47369384765625, 443.72320556640625, 429.56378173828125, 403.9870910644531, 386.36041259765625, 362.3548889160156, 310.5708923339844, 303.1391296386719, 270.94244384765625, 302.55078125, 329.9938659667969, 312.38018798828125, 334.0940246582031, 334.6270446777344, 353.5274963378906, 361.1235656738281, 354.89422607421875, 352.4787902832031, 304.4279479980469, 286.6558837890625, 329.2326965332031, 346.7226867675781, 287.3194580078125, 294.2440490722656, 292.9508972167969, 308.31005859375, 323.1236877441406, 314.525390625, 276.09259033203125, 242.12493896484375, 275.04168701171875, 332.07720947265625, 405.80029296875, 334.0907287597656, 287.6772766113281, 282.3209228515625, 321.5419616699219, 309.6734924316406, 323.4485168457031, 323.60772705078125, 323.0902099609375, 302.6930847167969, 303.7985534667969, 244.74444580078125, 219.58091735839844, 273.9301452636719, 294.9923095703125, 333.42529296875, 297.73931884765625, 233.02796936035156, 220.52151489257812, 220.4369659423828, 260.68634033203125, 253.76629638671875, 294.29400634765625, 317.9259338378906, 286.5314025878906, 271.1227111816406, 277.0862731933594, 284.3892822265625, 272.1513366699219, 278.6136779785156, 270.8584899902344, 258.41748046875, 295.5155944824219, 276.48455810546875, 293.1163330078125, 281.8477478027344, 292.4502258300781, 314.198486328125, 311.5111083984375, 317.8737487792969, 286.1469421386719, 282.9944763183594, 309.4234313964844, 290.7262878417969, 314.9742431640625, 315.8538513183594, 324.07537841796875, 320.3025817871094, 326.12628173828125, 332.5855712890625, 317.0822448730469, 329.6505126953125, 314.3642272949219, 326.4229431152344, 341.137939453125, 335.6174621582031, 381.6712951660156, 343.93829345703125, 333.0417175292969, 356.2950439453125, 332.67279052734375, 322.5747985839844, 347.9580383300781, 368.5350036621094, 345.7613830566406, 352.7057189941406, 383.1409606933594, 388.008544921875, 426.3198547363281, 425.2727355957031, 413.9532775878906, 370.26605224609375, 370.4756164550781, 388.2679748535156, 385.90972900390625, 426.0436706542969, 427.25225830078125, 368.83282470703125, 394.65484619140625, 442.0466003417969, 404.64892578125, 395.1117858886719, 395.9922180175781, 337.44757080078125, 367.74932861328125, 337.1196594238281, 332.60443115234375, 331.0777282714844, 328.595458984375, 342.7941589355469, 371.11651611328125, 381.6512145996094, 357.31951904296875, 375.375732421875, 343.6598815917969, 373.3760681152344, 355.81781005859375, 368.4400329589844, 397.8160705566406, 474.9544677734375, 694.2077026367188, 991.13671875, 947.1746826171875, 810.5718383789062, 804.8268432617188, 919.3115844726562, 1003.20654296875, 876.1657104492188, 804.9447631835938, 807.4775390625, 810.9002075195312, 784.89794921875, 720.1740112304688, 742.801025390625, 855.924072265625, 1065.907470703125, 1446.995361328125, 1366.22314453125, 1169.6561279296875, 1135.8612060546875, 1187.3641357421875, 1308.499755859375, 1565.7171630859375, 1894.4578857421875, 2089.356201171875, 2052.645263671875, 1971.742431640625, 1849.315673828125, 1815.2867431640625, 1710.399169921875, 1702.9766845703125, 1778.75537109375, 2137.195556640625, 2948.15966796875, 3733.11376953125, 4396.90283203125, 5242.72607421875, 5273.8828125, 5012.55908203125, 4005.552490234375, 3398.573486328125, 3081.127197265625, 2848.69921875, 3036.03515625, 3407.861572265625, 3510.44775390625, 3443.125244140625, 3348.033935546875, 3350.69580078125, 3379.778564453125, 3317.609619140625, 3218.335693359375, 3075.42919921875, 2816.645751953125, 2632.049560546875, 2426.5546875, 2244.527587890625, 2195.7890625, 2269.926025390625, 2240.92529296875, 2079.00341796875, 1975.7117919921875, 2049.594482421875, 2346.162353515625, 2683.6005859375, 2963.03466796875, 3150.714111328125, 3039.46923828125, 2946.22998046875, 2921.659912109375, 3040.66455078125, 3075.627197265625, 2830.1455078125, 2592.326171875, 2460.990966796875, 2431.04052734375, 2376.729736328125, 2353.16455078125, 2291.191162109375, 2197.125244140625, 2041.8388671875, 1910.8370361328125, 1816.6131591796875, 1721.873046875, 1578.6109619140625, 1470.37890625, 1369.135498046875, 1298.14697265625, 1215.635009765625, 1160.6529541015625, 1100.7921142578125, 1047.7802734375, 999.2354736328125, 964.590576171875, 930.1798706054688, 904.9765014648438, 869.9445190429688, 860.1809692382812, 823.43896484375, 801.4854125976562, 921.6239624023438, 880.382080078125, 799.5694580078125, 769.6585693359375, 737.0591430664062, 710.6221923828125, 690.2213134765625, 673.0745849609375, 653.9486694335938, 642.4487915039062, 620.701904296875, 604.1433715820312, 595.0882568359375, 589.4791259765625, 571.7955322265625, 552.8352661132812, 549.3218994140625, 557.81201171875, 542.017333984375, 523.6846923828125, 513.85302734375, 507.06109619140625, 495.08392333984375, 492.1473693847656, 475.747314453125, 468.2151184082031, 461.5498046875, 454.45782470703125, 442.8418884277344, 448.58843994140625, 435.8179016113281, 436.8961486816406, 432.1249084472656, 422.7570495605469, 410.2897033691406, 401.76531982421875, 406.4610290527344, 409.4118957519531, 401.8727722167969, 390.9653625488281, 397.0112609863281, 390.4986267089844, 411.8608093261719, 395.84185791015625, 389.18524169921875, 383.7811584472656, 382.2691345214844, 377.33978271484375, 371.64532470703125, 365.21734619140625, 359.4444580078125, 359.0127258300781, 358.14239501953125, 354.7242736816406, 350.49658203125, 345.04058837890625, 342.8466796875, 338.15008544921875, 334.9895324707031, 340.7286682128906, 437.3300476074219, 432.16949462890625, 381.29132080078125, 365.84716796875, 360.0379943847656, 347.9293212890625, 348.24017333984375, 341.2747802734375, 339.0375671386719, 340.96868896484375, 330.2765808105469, 328.8147888183594, 325.1265563964844, 332.9110107421875, 389.8034973144531, 374.5201721191406, 354.2981262207031, 341.5235595703125, 333.35150146484375, 335.2124938964844, 330.8951416015625, 328.8074951171875, 325.0954284667969, 340.72943115234375, 329.20428466796875, 330.7252197265625, 324.69207763671875, 326.5212097167969, 323.9996643066406, 319.17987060546875, 316.9502868652344, 308.7046203613281, 317.8247375488281, 312.9220886230469, 313.7071838378906, 310.7201843261719, 314.6263427734375, 312.6145324707031, 309.2763977050781, 305.5355529785156, 312.5474853515625, 303.026123046875, 334.5033874511719, 462.5835876464844, 410.9272766113281, 409.2327575683594, 353.21405029296875, 352.7234802246094, 343.9715576171875, 348.5322265625, 369.056884765625, 367.8407287597656, 364.9202880859375, 409.8767395019531, 596.0913696289062, 491.5346374511719, 427.27740478515625, 401.2826232910156, 385.26177978515625, 372.6264953613281, 367.609375, 355.28741455078125, 346.30010986328125, 332.8608093261719, 326.21917724609375, 312.9076843261719, 333.4682312011719, 330.90936279296875, 320.7850341796875, 332.4261169433594, 320.3006286621094, 321.0917053222656, 325.1834411621094, 326.70587158203125, 311.4403381347656, 298.1028747558594, 286.71380615234375, 308.28948974609375, 312.8741760253906, 298.16363525390625, 278.2933044433594, 307.253173828125, 289.69659423828125, 322.02008056640625, 294.03533935546875, 272.4781188964844, 256.5375671386719, 219.80003356933594, 218.63206481933594, 216.98977661132812, 244.77223205566406, 255.78900146484375, 311.4577331542969, 299.3954162597656, 261.98065185546875, 291.738037109375, 266.701416015625, 268.83074951171875, 300.1988220214844, 331.631591796875, 344.6144714355469, 300.1579895019531, 328.99462890625, 346.8995666503906, 354.44610595703125, 233.919189453125, 210.39736938476562, 284.3478088378906, 339.8658752441406, 361.6437683105469, 351.7683410644531, 307.4930419921875, 300.0546875, 300.29705810546875, 308.2889099121094, 298.83929443359375, 296.1768493652344, 274.19024658203125, 271.71240234375, 258.9939880371094, 264.6824951171875, 266.665771484375, 268.5721130371094, 300.95159912109375, 317.33990478515625, 307.3395690917969, 292.5836486816406, 266.3592224121094, 202.67831420898438, 220.99029541015625, 272.961669921875, 286.28887939453125, 294.3245849609375, 267.5132141113281, 283.74749755859375, 305.5460205078125, 310.53338623046875, 316.20880126953125, 319.59600830078125, 314.6294860839844, 303.74737548828125, 316.4317321777344, 309.8692626953125, 290.3319091796875, 282.34356689453125, 271.52728271484375, 273.2785339355469, 295.5956115722656, 294.8545227050781, 311.3125915527344, 299.9468078613281, 281.33563232421875, 296.73095703125, 292.5352783203125, 310.022216796875, 327.9464111328125, 339.41656494140625, 381.1671447753906, 373.61663818359375, 307.320068359375, 294.61773681640625, 319.9194641113281, 379.3647766113281, 380.0300598144531, 468.39251708984375, 453.83282470703125, 389.2315673828125, 355.5372619628906, 368.7490539550781, 305.0323791503906, 290.7266845703125, 295.9248962402344, 289.1205749511719, 331.2295227050781, 348.06231689453125, 373.599853515625, 366.9607849121094, 454.33026123046875, 516.642333984375, 470.3780517578125, 479.2291564941406, 521.3665161132812, 599.3763427734375, 602.6280517578125, 536.3577880859375, 513.5676879882812, 458.10205078125, 432.9486389160156, 454.1658630371094, 451.4162902832031, 451.75140380859375, 429.8240661621094, 409.94683837890625, 419.07562255859375, 433.5843200683594, 420.0350646972656, 412.5492858886719, 436.2195739746094, 484.86456298828125, 582.2088623046875, 688.156005859375, 680.8436889648438, 683.3595581054688, 695.5361938476562, 765.2877197265625, 880.096435546875, 908.5745239257812, 822.1143798828125, 792.12548828125, 891.688232421875, 996.9673461914062, 1116.546630859375, 1360.7689208984375, 1721.3695068359375, 2051.122802734375, 2126.25390625, 1751.3743896484375, 1470.7274169921875, 1271.0987548828125, 1221.4696044921875, 1158.2935791015625, 1077.6212158203125, 967.5015258789062, 948.180419921875, 972.2135620117188, 978.7818603515625, 1041.779541015625, 1405.6707763671875, 1587.140625, 1704.25341796875, 1525.0921630859375, 1445.26611328125, 1405.929443359375, 1486.4678955078125, 1481.8673095703125, 1453.531005859375, 1434.0174560546875, 1467.44091796875, 1598.3284912109375, 1901.8892822265625, 2713.900390625, 3736.992431640625, 3932.4208984375, 3634.593017578125, 3493.556396484375, 3601.5244140625, 3715.13671875, 3922.410400390625, 3776.4033203125, 3724.710205078125, 3824.23583984375, 3943.96484375, 4067.030517578125, 4152.1064453125, 4120.37841796875, 4009.0546875, 3852.072021484375, 3904.311279296875, 3869.055908203125, 3853.973876953125, 3589.920654296875, 3207.08251953125, 2891.688720703125, 2729.641357421875, 2662.619384765625, 2691.593994140625, 2691.493408203125, 2605.967529296875, 2578.641357421875, 2542.2001953125, 2618.264892578125, 2501.0986328125, 2401.387451171875, 2318.237548828125, 2311.69921875, 2180.737060546875, 1932.591796875, 1831.9552001953125, 1870.6158447265625, 1978.408203125, 1902.8355712890625, 1776.0018310546875, 1702.5343017578125, 1709.482421875, 1692.8155517578125, 1596.5877685546875, 1469.4102783203125, 1426.907958984375, 1420.990234375, 1334.547119140625, 1272.9498291015625, 1159.1483154296875, 1085.4627685546875, 1037.65380859375, 1001.4464721679688, 998.9005126953125, 1001.077392578125, 968.997314453125, 920.6831665039062, 889.9647827148438, 853.586181640625, 840.9839477539062, 807.1879272460938, 778.3330078125, 764.6965942382812, 733.0523071289062, 712.9638671875, 690.9750366210938, 676.2269897460938, 657.2806396484375, 645.029541015625, 632.8680419921875, 615.3971557617188, 601.367919921875, 589.0616455078125, 576.3860473632812, 564.7617797851562, 550.344970703125, 537.3934936523438, 528.8982543945312, 553.6967163085938, 671.7891845703125, 616.2188720703125, 564.9658203125, 538.5941162109375, 518.6749267578125, 493.68377685546875, 486.70220947265625, 474.3965148925781, 477.3791809082031, 472.6697998046875, 464.6086120605469, 461.85626220703125, 450.0422668457031, 441.5770263671875, 434.47076416015625, 425.8007507324219, 417.1332092285156, 422.227294921875, 416.47198486328125, 411.112548828125, 403.622802734375, 401.4541015625, 423.0999755859375, 492.3401794433594, 456.3622741699219, 435.12677001953125, 415.1949462890625, 402.67071533203125, 397.9673767089844, 393.2425842285156, 386.6941833496094, 382.2897644042969, 383.0760803222656, 384.0843505859375, 373.4731750488281, 367.8101501464844, 364.1660461425781, 361.8475036621094, 357.361572265625, 365.34674072265625, 360.67437744140625, 355.98651123046875, 351.27471923828125, 347.69232177734375, 343.052490234375, 346.3354797363281, 350.4482116699219, 341.6598205566406, 337.9275207519531, 333.0807800292969, 332.10137939453125, 331.62506103515625, 343.8402404785156, 326.0449523925781, 343.6924743652344, 347.07196044921875, 340.9214172363281, 362.7586975097656, 430.1111755371094, 375.8434753417969, 367.0487365722656, 362.822265625, 361.4999694824219, 344.65338134765625, 338.3074645996094, 335.5879821777344, 363.80291748046875, 353.71929931640625, 494.8673400878906, 520.4129028320312, 429.6080322265625, 403.8426208496094, 387.5234375, 433.9366149902344, 426.4860534667969, 403.29730224609375, 386.5638732910156, 396.993896484375, 397.5438232421875, 388.56719970703125, 375.1278381347656, 392.6339416503906, 361.1051940917969, 362.9109802246094, 378.0973815917969, 377.63739013671875, 383.003173828125, 374.8330078125, 367.74615478515625, 361.8843994140625, 374.6596374511719, 378.19354248046875, 372.0430603027344, 354.4501953125, 362.11358642578125, 350.3326416015625, 377.8868713378906, 372.06951904296875, 343.83111572265625, 335.35955810546875, 327.8503723144531, 350.3355407714844, 363.4305419921875, 348.0970764160156, 340.2518615722656, 367.4114685058594, 343.4976501464844, 357.66729736328125, 335.30291748046875, 336.9904479980469, 333.8920593261719, 339.23431396484375, 347.1880187988281, 328.9405517578125, 312.28704833984375, 323.71746826171875, 319.5635681152344, 247.84669494628906, 203.84266662597656, 250.0558319091797, 262.2637023925781, 216.0868682861328, 189.9918212890625, 179.86964416503906, 174.87440490722656, 195.3423614501953, 219.2750701904297, 230.33999633789062, 272.186767578125, 320.25323486328125, 357.60443115234375, 350.85528564453125, 336.2431335449219, 325.1966857910156, 330.0241394042969, 332.8813781738281, 323.6263122558594, 303.56365966796875, 278.2456970214844, 259.845947265625, 264.28070068359375, 256.84661865234375, 256.2086181640625, 281.4674377441406, 312.0119323730469, 314.3125, 326.62091064453125, 344.4771728515625, 288.7876892089844, 300.56353759765625, 296.0157470703125, 318.036865234375, 293.6473083496094, 273.98388671875, 252.8494873046875, 311.15069580078125, 289.9424133300781, 292.76385498046875, 307.8005676269531, 317.828125, 286.5856628417969, 280.2781677246094, 295.0269470214844, 297.61663818359375, 305.94036865234375, 294.71002197265625, 295.6176452636719, 286.8333435058594, 289.7457580566406, 285.8463439941406, 281.1215515136719, 292.07781982421875, 298.4940185546875, 287.40032958984375, 288.0240173339844, 294.764892578125, 298.0912780761719, 288.1535949707031, 275.0107116699219, 288.0107116699219, 295.6751708984375, 291.69537353515625, 290.90118408203125, 286.0947265625, 271.21942138671875, 269.1065979003906, 293.79193115234375, 284.9625244140625, 293.1220397949219, 310.32373046875, 297.49285888671875, 308.4544677734375, 310.5833435058594, 307.09967041015625, 299.805419921875, 299.9728698730469, 285.9966735839844, 262.07635498046875, 240.8226776123047, 266.4990539550781, 330.84881591796875, 316.21002197265625, 282.9549560546875, 310.0599060058594, 297.2283935546875, 298.3579406738281, 314.49298095703125, 323.16796875, 318.4837951660156, 324.33758544921875, 319.85943603515625, 328.63641357421875, 339.5682373046875, 366.447998046875, 333.86920166015625, 310.1670227050781, 332.53778076171875, 352.51763916015625, 323.5735778808594, 328.80340576171875, 343.53851318359375, 372.702880859375, 397.1122131347656, 442.9949645996094, 418.1893615722656, 419.05126953125, 424.22930908203125, 386.40521240234375, 386.9832458496094, 395.4735107421875, 397.11920166015625, 381.1661376953125, 377.36309814453125, 417.2848205566406, 443.066162109375, 537.8775024414062, 460.13336181640625, 410.73065185546875, 417.43182373046875, 394.80792236328125, 391.1448974609375, 394.3249816894531, 379.6368103027344, 384.2416687011719, 358.1648254394531, 362.86175537109375, 406.43743896484375, 410.64300537109375, 417.9028015136719, 423.6087341308594, 437.5375671386719, 486.8677978515625, 602.6664428710938, 771.7491455078125, 919.873046875, 1051.62890625, 1253.3116455078125, 1647.872802734375, 1553.7984619140625, 1393.6744384765625, 1280.5576171875, 1181.4776611328125, 1174.2083740234375, 1293.4100341796875, 1441.6181640625, 1227.3353271484375, 1098.583740234375, 997.7306518554688, 966.0723266601562, 908.0089721679688, 903.8179931640625, 849.4450073242188, 801.8091430664062, 789.6819458007812, 761.1505126953125, 758.6314086914062, 780.904296875, 780.367919921875, 788.7158203125, 825.3500366210938, 912.6471557617188, 1025.62451171875, 1219.8917236328125, 1531.4664306640625, 1978.3392333984375, 2091.474609375, 2329.1015625, 2028.711181640625, 1666.628662109375, 1417.833740234375, 1199.4927978515625, 1075.1815185546875, 980.6944580078125, 1061.810791015625, 1106.7576904296875, 1130.4759521484375, 1103.5614013671875, 1137.4698486328125, 1290.1121826171875, 1646.9808349609375, 3706.5283203125, 5434.49365234375, 7362.16455078125, 5387.69921875, 4942.6142578125, 4584.30859375, 3912.60693359375, 3544.5263671875, 3073.061767578125, 2689.097900390625, 2606.881103515625, 2729.965087890625, 2949.436767578125, 2937.37939453125, 2487.63037109375, 2190.32958984375, 2031.37109375, 2013.6094970703125, 2068.03857421875, 2051.605224609375, 2094.781005859375, 2163.756103515625, 2280.15234375, 2213.72216796875, 2115.1689453125, 2051.178466796875, 2062.502197265625, 2055.05810546875, 1926.892333984375, 1734.0673828125, 1637.2509765625, 1444.2216796875, 1329.0889892578125, 1267.3948974609375, 1210.110107421875, 1161.83837890625, 1137.4730224609375, 1117.4344482421875, 1089.17724609375, 1063.9683837890625, 1012.1180419921875, 969.67919921875, 922.4746704101562, 886.7943725585938, 861.6630249023438, 842.1913452148438, 816.4640502929688, 794.2111206054688, 764.3034057617188, 733.0888671875, 717.9617309570312, 700.5880737304688, 684.6646118164062, 684.34228515625, 713.6582641601562, 664.3192138671875, 655.6273803710938, 633.8139038085938, 612.2936401367188, 594.18017578125, 581.4793701171875, 565.234130859375, 553.0859375, 549.06298828125, 538.4715576171875, 525.5965576171875, 526.25390625, 521.5803833007812, 549.5352172851562, 554.5360107421875, 551.0679931640625, 512.187255859375, 496.2455139160156, 486.6053466796875, 474.2954406738281, 464.93475341796875, 456.17791748046875, 448.4955749511719, 447.160400390625, 440.7632751464844, 426.99420166015625, 432.31805419921875, 428.191650390625, 421.1056213378906, 413.753173828125, 406.7848815917969, 406.5131530761719, 408.8823547363281, 434.7323913574219, 451.5383605957031, 425.33770751953125, 421.4792785644531, 408.9708557128906, 396.5850830078125, 382.1593017578125, 383.4195556640625, 388.8210754394531, 374.6454162597656, 399.7495422363281, 414.01080322265625, 395.6548767089844, 383.8828430175781, 377.069580078125, 365.63922119140625, 366.0550231933594, 361.5429992675781, 358.02337646484375, 346.4154052734375, 344.5987243652344, 349.22802734375, 351.9008483886719, 343.6823425292969, 342.4288635253906, 342.0208435058594, 335.3501281738281, 332.4851379394531, 327.3192138671875, 325.4609069824219, 324.815673828125, 319.7501525878906, 315.0207214355469, 311.11871337890625, 324.69146728515625, 381.19354248046875, 371.8792724609375, 352.83502197265625, 348.76873779296875, 343.6754455566406, 344.84393310546875, 341.6229248046875, 345.882080078125, 339.70770263671875, 340.13067626953125, 333.92132568359375, 327.5903015136719, 328.4891052246094, 325.1001892089844, 323.5840148925781, 322.2883605957031, 320.9895935058594, 320.3285827636719, 316.63812255859375, 328.1717834472656, 531.2030639648438, 530.5307006835938, 403.8863525390625, 365.07061767578125, 363.29034423828125, 358.6558532714844, 353.4776916503906, 385.7627868652344, 375.63873291015625, 362.97918701171875, 359.0453796386719, 356.38934326171875, 356.7109680175781, 352.0877380371094, 403.7012634277344, 423.1316833496094, 383.8910827636719, 364.8757019042969, 351.0276184082031, 336.0419616699219, 344.80389404296875, 344.7969970703125, 348.6473083496094, 371.65338134765625, 357.51995849609375, 345.8504943847656, 345.26019287109375, 333.63787841796875, 318.5723571777344, 360.935546875, 279.7913513183594, 217.15530395507812, 240.51840209960938, 322.81884765625, 350.856689453125, 308.9881591796875, 287.4457092285156, 326.1233215332031, 363.0320129394531, 396.0483093261719, 353.8276062011719, 345.53173828125, 340.362548828125, 345.3243713378906, 331.0905456542969, 336.0511169433594, 339.4603576660156, 356.6494445800781, 349.1519775390625, 354.85699462890625, 378.6708984375, 460.22821044921875, 401.2554931640625, 343.63214111328125, 255.86984252929688, 314.148681640625, 385.1980895996094, 347.7554016113281, 311.716064453125, 291.6822509765625, 335.8465881347656, 310.7185974121094, 306.5365295410156, 317.6900634765625, 316.9838562011719, 336.5810852050781, 321.72711181640625, 261.086669921875, 216.95431518554688, 230.0882110595703, 268.9992980957031, 282.3502197265625, 295.6060485839844, 353.0267333984375, 368.6468200683594, 370.1767883300781, 306.6232604980469, 303.4079895019531, 284.33819580078125, 312.66046142578125, 349.2655029296875, 372.69403076171875, 365.2735900878906, 371.19091796875, 439.0851135253906, 712.3359375, 582.4266967773438, 463.2986145019531, 418.58697509765625, 453.209716796875, 408.2237548828125, 392.89794921875, 420.7938537597656, 388.3031921386719, 390.17913818359375, 389.84832763671875, 378.4891357421875, 389.08892822265625, 371.119140625, 324.55670166015625, 204.4122314453125, 282.6641540527344, 341.6262512207031, 392.975341796875, 347.19598388671875, 334.8826904296875, 308.3747863769531, 291.6922302246094, 275.0222473144531, 289.8514099121094, 350.4850158691406, 383.2728271484375, 324.0047912597656, 345.3467102050781, 340.2821044921875, 329.15899658203125, 312.14495849609375, 315.7056579589844, 323.2850341796875, 290.99285888671875, 302.215576171875, 287.66162109375, 264.5246276855469, 258.236328125, 257.7029724121094, 289.4742736816406, 289.9360046386719, 318.17626953125, 313.6444091796875, 325.43450927734375, 318.95684814453125, 312.99505615234375, 314.6678466796875, 309.1463928222656, 287.1855773925781, 305.8157653808594, 321.29302978515625, 317.2373962402344, 318.47698974609375, 336.9176025390625, 350.77398681640625, 371.4217224121094, 420.33349609375, 526.2922973632812, 464.8699645996094, 462.15802001953125, 402.2035217285156, 416.8162841796875, 415.4301452636719, 380.81646728515625, 419.9827575683594, 408.2544860839844, 400.0135192871094, 403.5076599121094, 392.39697265625, 371.2222900390625, 389.5423278808594, 408.220458984375, 495.294921875, 627.3059692382812, 809.5224609375, 738.310546875, 677.1422729492188, 668.2366333007812, 635.9024047851562, 597.9431762695312, 577.67724609375, 570.1314697265625, 546.7489624023438, 547.1652221679688, 586.5338745117188, 609.2444458007812, 580.458984375, 589.0718994140625, 693.1234130859375, 1165.466064453125, 1142.5128173828125, 976.4902954101562, 947.1323852539062, 828.5044555664062, 754.8216552734375, 748.137939453125, 788.2227172851562, 784.8552856445312, 763.5692749023438, 757.5216064453125, 693.951171875, 694.0335083007812, 688.9168701171875, 714.5536499023438, 809.8682861328125, 915.3717651367188, 994.5377197265625, 1153.4744873046875, 1341.052490234375, 1887.13916015625, 2172.068359375, 1890.1522216796875, 1905.217041015625, 2188.339599609375, 2495.22314453125, 2938.178955078125, 3778.574462890625, 4340.64599609375, 3778.4140625, 2924.456787109375, 2429.2607421875, 2209.59423828125, 2401.54931640625, 2593.691162109375, 2734.716552734375, 2899.810791015625, 3102.551025390625, 3157.145263671875, 3396.2529296875, 2960.75732421875, 2522.8203125, 2200.77392578125, 1983.316162109375, 1891.8897705078125, 1921.4232177734375, 2171.099365234375, 2027.7548828125, 2049.991455078125, 2362.53369140625, 3193.277099609375, 3792.802490234375, 3816.105712890625, 3841.755859375, 3566.990966796875, 3512.561767578125, 3611.1728515625, 3793.30078125, 3925.826904296875, 4082.55322265625, 4007.572998046875, 3606.98193359375, 3413.554443359375, 3363.05810546875, 3524.34326171875, 3880.555419921875, 4397.6455078125, 5045.962890625, 5426.98583984375, 4761.68359375, 4229.88134765625, 4040.279541015625, 4214.0341796875, 4689.134765625, 4454.75341796875, 3916.73974609375, 3648.765869140625, 3702.9140625, 4007.676025390625, 3881.761962890625, 3721.67626953125, 3437.446533203125, 2965.549072265625, 2762.659423828125, 2506.0361328125, 2405.94580078125, 2399.19970703125, 2302.79443359375, 2218.97119140625, 2034.634765625, 1871.9324951171875, 1811.419677734375, 1718.0252685546875, 1608.163818359375, 1540.7850341796875, 1441.4034423828125, 1348.2841796875, 1303.9429931640625, 1259.7220458984375, 1202.125, 1189.0023193359375, 1145.740234375, 1094.625, 1052.449951171875, 1022.3742065429688, 1037.026123046875, 1032.4578857421875, 996.5955810546875, 957.0115356445312, 927.8428955078125, 931.81298828125, 910.3391723632812, 859.3712158203125, 837.3359375, 810.1743774414062, 780.2255859375, 756.1268920898438, 738.1265869140625, 725.2716064453125, 706.8501586914062, 677.6148681640625, 672.6420288085938, 661.0933227539062, 639.8433837890625, 631.5626831054688, 625.0986938476562, 612.3616333007812, 600.5926513671875, 588.4314575195312, 583.8387451171875, 572.7228393554688, 566.7908935546875, 557.3258666992188, 560.3958129882812, 543.6571044921875, 537.9552001953125, 522.955078125, 519.118408203125, 518.9523315429688, 508.52252197265625, 507.77764892578125, 501.9591979980469, 490.8071594238281, 490.08807373046875, 484.36358642578125, 482.08819580078125, 474.10919189453125, 472.6478576660156, 473.6182556152344, 485.4039001464844, 473.0865478515625, 490.09515380859375, 494.3491516113281, 467.70355224609375, 460.89666748046875, 454.52191162109375, 449.1304931640625, 446.3028564453125, 446.8416442871094, 436.1687927246094, 430.8648376464844, 423.9469299316406, 424.23565673828125, 423.29931640625, 415.18389892578125, 415.9416198730469, 411.6925048828125, 405.22979736328125, 404.3979187011719, 406.68743896484375, 411.607177734375, 606.0655517578125, 566.2122802734375, 487.74078369140625, 475.276123046875, 462.39447021484375, 472.2168273925781, 657.5771484375, 578.7919921875, 510.77252197265625, 483.8819580078125, 475.5966491699219, 502.02215576171875, 566.9544677734375, 527.1697387695312, 498.8043212890625, 485.49176025390625, 470.6668701171875, 462.4279479980469, 454.7319030761719, 441.62457275390625, 430.43212890625, 430.7501525878906, 422.46319580078125, 432.9344177246094, 418.9013366699219, 424.38348388671875, 432.7024230957031, 418.11822509765625, 405.7598876953125, 403.6928405761719, 404.7864990234375, 390.79901123046875, 394.30645751953125, 390.80047607421875, 373.9570007324219, 380.71490478515625, 388.96441650390625, 405.58544921875, 421.9308166503906, 407.1629333496094, 388.66424560546875, 373.089111328125, 376.3195495605469, 470.07586669921875, 432.22100830078125, 380.51165771484375, 373.70263671875, 405.7286071777344, 444.2838439941406, 406.91473388671875, 409.0255432128906, 386.0555419921875, 361.64984130859375, 397.9463806152344, 397.17559814453125, 393.6424865722656, 375.0062255859375, 353.63446044921875, 350.8518981933594, 339.1400146484375, 368.210205078125, 294.2658996582031, 275.7241516113281, 317.7083740234375, 340.84051513671875, 340.4572448730469, 344.3360595703125, 364.0434875488281, 364.6418151855469, 357.1261291503906, 341.93402099609375, 364.25872802734375, 371.8155517578125, 318.98345947265625, 324.78717041015625, 317.05938720703125, 328.96478271484375, 301.44366455078125, 285.8699645996094, 284.5307922363281, 300.9574890136719, 325.1529846191406, 341.56011962890625, 357.9842529296875, 434.9774169921875, 453.2696228027344, 545.8021850585938, 507.3642883300781, 455.2273254394531, 424.8951721191406, 385.1709899902344, 369.2886962890625, 361.09832763671875, 343.5279846191406, 332.1144104003906, 356.7499694824219, 342.79840087890625, 313.7222595214844, 283.83154296875, 262.0716857910156, 292.5288391113281, 356.44891357421875, 341.3451232910156, 325.7943420410156, 340.4814147949219, 366.38372802734375, 392.3466491699219, 387.1152648925781, 436.88995361328125, 368.8931579589844, 377.8025207519531, 349.30755615234375, 364.4444885253906, 339.57635498046875, 300.1020812988281, 314.04815673828125, 381.7782287597656, 340.70782470703125, 317.6270751953125, 322.9486389160156, 303.7168884277344, 295.2673645019531, 291.85345458984375, 296.96337890625, 302.58160400390625, 306.6087951660156, 311.57586669921875, 325.7149353027344, 332.30841064453125, 334.09814453125, 347.97308349609375, 339.02618408203125, 325.05303955078125, 303.19598388671875, 329.2795104980469, 346.44293212890625, 303.9615478515625, 289.6254577636719, 320.958251953125, 350.7516784667969, 537.2373657226562, 429.2444763183594, 405.6475524902344, 367.3672180175781, 333.054443359375, 327.1642150878906, 343.3595886230469, 331.2242736816406, 294.93133544921875, 319.4881591796875, 332.7945861816406, 344.5478515625, 377.8204345703125, 334.6484375, 335.7000732421875, 372.0540466308594, 400.3427429199219, 438.661376953125, 446.3266296386719, 446.3482666015625, 441.9605712890625, 487.2242126464844, 629.740478515625, 1020.1793823242188, 921.8170776367188, 706.255859375, 568.80810546875, 559.704833984375, 568.3800659179688, 633.3671875, 728.5590209960938, 762.6123657226562, 790.544677734375, 968.5947265625, 909.4521484375, 890.7579345703125, 849.6351928710938, 972.012451171875, 1801.291015625, 1806.21728515625, 1360.3131103515625, 1251.501220703125, 1110.553466796875, 1032.776611328125, 918.7647094726562, 902.5122680664062, 924.086669921875, 1015.2567138671875, 1143.86767578125, 1470.8250732421875, 1537.679443359375, 1393.392822265625, 1336.467529296875, 1268.61572265625, 1265.1363525390625, 1279.732666015625, 1400.9310302734375, 1407.0919189453125, 1466.95751953125, 1887.033203125, 2414.912353515625, 3263.7646484375, 3930.103759765625, 4057.00390625, 5189.59765625, 5150.9951171875, 3652.790283203125, 2885.4052734375, 2570.577392578125, 2411.275634765625, 2211.179443359375, 2087.32568359375, 2028.94873046875, 1824.6441650390625, 1741.061279296875, 1739.9599609375, 1841.9652099609375, 2135.066162109375, 2491.57373046875, 2614.611083984375, 2629.38134765625, 2750.708251953125, 3109.069580078125, 3577.35546875, 3939.439208984375, 4246.029296875, 3707.051513671875, 3402.68017578125, 3252.953125, 3375.695068359375, 3851.537353515625, 3563.569091796875, 2983.939208984375, 2587.45654296875, 2212.006103515625, 2010.53369140625, 1860.5352783203125, 1790.9915771484375, 1823.8280029296875, 1981.2879638671875, 2421.4453125, 3162.822265625, 3781.62939453125, 4160.7021484375, 4493.64453125, 3407.546630859375, 2680.2353515625, 2307.77197265625, 2099.38232421875, 1887.9451904296875, 1772.5455322265625, 1736.71435546875, 1772.73095703125, 2019.7176513671875, 2149.685791015625, 2277.56298828125, 2403.802978515625, 2574.165771484375, 2318.709228515625, 2005.2611083984375, 1958.4437255859375, 2026.2896728515625, 2182.574951171875, 2140.11328125, 2175.868896484375, 2059.62890625, 1802.505615234375, 1653.255126953125, 1624.6571044921875, 1612.033203125, 1580.0865478515625, 1563.080810546875, 1494.342041015625, 1456.7247314453125, 1353.1732177734375, 1311.8575439453125, 1264.9013671875, 1223.5721435546875, 1222.5804443359375, 1183.1800537109375, 1134.89892578125, 1091.4493408203125, 1084.51416015625, 1072.66845703125, 1025.593017578125, 979.03369140625, 937.377685546875, 883.2542114257812, 849.3214721679688, 810.3540649414062, 786.1953735351562, 766.7796020507812, 739.501220703125, 723.9291381835938, 705.5775756835938, 693.768310546875, 667.8399658203125, 654.7550659179688, 638.020263671875, 622.2885131835938, 607.0987548828125, 591.077880859375, 578.362060546875, 571.2780151367188, 561.701904296875, 556.6196899414062, 535.653076171875, 532.178955078125, 528.2706909179688, 531.62451171875, 512.4222412109375, 509.8859558105469, 498.7626953125, 488.15692138671875, 478.7935485839844, 472.9847106933594, 465.7052917480469, 462.2945556640625, 456.021484375, 464.0572204589844, 459.45391845703125, 449.7105712890625, 444.1579284667969, 435.90545654296875, 427.12432861328125, 431.0628356933594, 429.9589538574219, 430.5792236328125, 421.0033874511719, 411.44256591796875, 415.3326721191406, 408.83306884765625, 406.1712951660156, 399.3406677246094, 397.4239807128906, 389.7665100097656, 390.613525390625, 384.5556335449219, 389.9180908203125, 382.0740966796875, 375.9072570800781, 373.7291564941406, 370.9145202636719, 378.19940185546875, 371.55181884765625, 367.2065734863281, 361.3126220703125, 356.7894287109375, 361.1499938964844, 358.8987731933594, 358.9264221191406, 357.019775390625, 349.8621520996094, 356.227294921875, 349.38720703125, 359.66363525390625, 357.1404724121094, 367.0998229980469, 358.91754150390625, 355.7833557128906, 350.36260986328125, 347.8979797363281, 346.0757141113281, 347.97406005859375, 339.9602355957031, 344.2215576171875, 345.9742736816406, 348.0845947265625, 347.613037109375, 347.6346435546875, 345.9698791503906, 347.3717956542969, 342.1937255859375, 339.4157409667969, 335.0116882324219, 341.25079345703125, 350.0545349121094, 487.080078125, 411.6115417480469, 373.0685729980469, 369.4936218261719, 382.62677001953125, 371.5605163574219, 385.95465087890625, 385.313720703125, 366.6392517089844, 356.6789855957031, 365.91168212890625, 378.0675354003906, 494.493896484375, 601.60302734375, 527.2761840820312, 487.7048034667969, 475.79840087890625, 457.82159423828125, 431.2195129394531, 415.37274169921875, 409.0605773925781, 401.9234313964844, 394.5165100097656, 403.82080078125, 391.9772644042969, 367.14935302734375, 353.3775939941406, 380.3482666015625, 380.6794128417969, 371.130859375, 371.52679443359375, 370.3440856933594, 390.62255859375, 412.1688537597656, 395.0199279785156, 455.78912353515625, 487.5242614746094, 433.61505126953125, 413.199462890625, 446.8923645019531, 420.2982482910156, 378.5260314941406, 380.12762451171875, 404.5670166015625, 405.68243408203125, 588.004638671875, 687.9926147460938, 1103.1011962890625, 906.3358764648438, 728.2431640625, 966.9153442382812, 803.4923706054688, 663.6797485351562, 569.1796875, 508.5133056640625, 520.4406127929688, 507.9994201660156, 478.639404296875, 455.5096435546875, 447.4560546875, 426.35589599609375, 442.1092834472656, 447.4716796875, 386.6802673339844, 348.93756103515625, 389.4499206542969, 426.8618469238281, 413.9948425292969, 417.39093017578125, 383.8113098144531, 375.17059326171875, 374.9329528808594, 370.0001525878906, 356.3655090332031, 312.171875, 322.85833740234375, 274.3216247558594, 268.1988830566406, 278.1693115234375, 287.1482849121094, 303.31597900390625, 338.96868896484375, 355.2325134277344, 360.82025146484375, 378.09515380859375, 380.10797119140625, 338.7256774902344, 292.42578125, 209.65423583984375, 203.46351623535156, 256.4176330566406, 264.8133850097656, 300.6009521484375, 298.1944274902344, 300.2154235839844, 301.4314270019531, 307.12774658203125, 304.5713195800781, 314.681396484375, 340.91766357421875, 332.5992431640625, 334.4364013671875, 364.4524230957031, 325.3035888671875, 341.1929931640625, 334.9510803222656, 343.1080627441406, 341.87506103515625, 331.7984924316406, 338.30255126953125, 338.0082702636719, 354.9700012207031, 348.5165100097656, 319.123046875, 331.8233947753906, 327.6265869140625, 321.9930725097656, 288.6170654296875, 298.1245422363281, 342.7645568847656, 335.2844543457031, 315.2926940917969, 328.753662109375, 340.2315979003906, 305.0364990234375, 318.4170837402344, 318.8470764160156, 314.4584045410156, 315.00653076171875, 332.8017272949219, 298.7791748046875, 294.1210632324219, 288.4107360839844, 298.903564453125, 310.6948547363281, 336.520263671875, 331.5306396484375, 359.6466369628906, 321.1649475097656, 306.541748046875, 343.8830261230469, 352.5861511230469, 331.66131591796875, 344.192138671875, 347.4617614746094, 378.75408935546875, 371.166015625, 395.22393798828125, 418.7718505859375, 470.52606201171875, 495.8451232910156, 527.7063598632812, 490.31243896484375, 440.4674377441406, 486.24713134765625, 491.0840759277344, 477.8382873535156, 410.1079406738281, 387.41925048828125, 405.20050048828125, 459.40716552734375, 453.1849670410156, 457.5873107910156, 474.36297607421875, 508.0198974609375, 569.3109741210938, 648.9224243164062, 710.9688110351562, 742.6173095703125, 822.8639526367188, 875.1511840820312, 941.5284423828125, 943.7238159179688, 940.453125, 881.1941528320312, 800.1509399414062, 787.5977783203125, 750.2361450195312, 754.559326171875, 722.8665771484375, 706.573974609375, 688.8831176757812, 652.9141235351562, 612.1709594726562, 635.7066040039062, 645.16796875, 649.1630859375, 644.0171508789062, 605.1731567382812, 608.3505249023438, 616.183837890625, 639.9414672851562, 696.5005493164062, 781.1815185546875, 861.9183959960938, 912.1776123046875, 878.368408203125, 851.3348999023438, 860.000244140625, 894.0538940429688, 917.9505004882812, 981.9891967773438, 1072.2373046875, 1204.0223388671875, 1409.249267578125, 1723.7291259765625, 2079.7509765625, 2396.512451171875, 2598.828125, 3008.9384765625, 3264.69091796875, 3171.8154296875, 2776.94677734375, 2492.998779296875, 2242.8955078125, 2023.2445068359375, 1870.182861328125, 1848.0892333984375, 1781.144287109375, 1639.799560546875, 1508.7376708984375, 1405.021240234375, 1363.68310546875, 1394.130859375, 1396.39208984375, 1413.596923828125, 1301.160888671875, 1227.62353515625, 1214.4630126953125, 1263.9217529296875, 1368.9781494140625, 1410.6441650390625, 1430.417724609375, 1517.490478515625, 1598.9832763671875, 1691.6060791015625, 1651.0294189453125, 1665.5224609375, 1587.0386962890625, 1419.535400390625, 1282.824951171875, 1185.4315185546875, 1080.4794921875, 1007.6483154296875, 962.65283203125, 955.0630493164062, 965.550537109375, 963.4906005859375, 873.4228515625, 813.7416381835938, 767.1446533203125, 741.6820678710938, 829.1344604492188, 1106.7684326171875, 1064.064697265625, 964.2158203125, 887.612548828125, 837.0556640625, 799.6243896484375, 768.8504028320312, 736.9935302734375, 726.3162841796875, 682.7960205078125, 654.1784057617188, 623.349853515625, 594.2182006835938, 577.9050903320312, 561.3331298828125, 534.0877685546875, 533.3546142578125, 512.7498168945312, 503.7650451660156, 496.3489074707031, 483.5636901855469, 474.03167724609375, 463.4957580566406, 454.9765319824219, 442.7586364746094, 434.5858459472656, 427.08087158203125, 421.686279296875, 416.1201171875, 411.74285888671875, 407.6959533691406, 399.2733154296875, 391.0590515136719, 386.63726806640625, 378.3184814453125, 377.0057678222656, 374.1409912109375, 373.25469970703125, 370.7477111816406, 361.6230163574219, 353.275146484375, 344.8626403808594, 342.9678955078125, 339.6627502441406, 337.02215576171875, 330.0228576660156, 332.4133605957031, 331.53955078125, 326.583984375, 320.4191589355469, 314.6576232910156, 311.4950256347656, 308.34771728515625, 305.8462219238281, 302.61480712890625, 297.8655090332031, 293.0567626953125, 289.6100769042969, 300.1942138671875, 297.76055908203125, 298.9086608886719, 306.921142578125, 289.79791259765625, 304.03289794921875, 296.0375061035156, 281.7362060546875, 282.69580078125, 278.0603942871094, 270.0880432128906, 286.6745300292969, 294.45489501953125, 294.7692565917969, 309.0775146484375, 296.7814636230469, 279.220458984375, 278.1422424316406, 275.7969665527344, 274.44915771484375, 271.77825927734375, 301.37750244140625, 304.5517883300781, 280.1259460449219, 275.4505615234375, 272.6937561035156, 282.68292236328125, 288.72991943359375, 282.33599853515625, 272.4011535644531, 274.23675537109375, 278.8071594238281, 313.8951721191406, 336.4859924316406, 340.68011474609375, 321.87957763671875, 340.1451416015625, 716.0284423828125, 1579.1756591796875, 1053.102294921875, 720.5972290039062, 617.4669799804688, 550.1282348632812, 520.1248168945312, 495.9371337890625, 470.0515441894531, 449.9773254394531, 446.1971130371094, 429.23175048828125, 420.0303039550781, 413.7170104980469, 407.1180725097656, 398.6557312011719, 391.9097595214844, 386.27191162109375, 381.0577697753906, 375.7852783203125, 371.5994567871094, 366.005126953125, 360.5907897949219, 356.1936340332031, 354.25848388671875, 350.0282287597656, 344.7911071777344, 341.1964111328125, 345.2952880859375, 343.5466003417969, 341.0299072265625, 333.7974853515625, 337.5859680175781, 338.02496337890625, 343.2873840332031, 344.217041015625, 322.4814147949219, 336.33209228515625, 344.61419677734375, 412.54571533203125, 441.74755859375, 386.1927185058594, 370.2586364746094, 365.6883239746094, 360.0306701660156, 355.6245422363281, 360.06951904296875, 347.4371337890625, 369.7721862792969, 338.56097412109375, 348.7773742675781, 382.86407470703125, 407.36083984375, 344.8873596191406, 252.65048217773438, 261.520263671875, 288.56494140625, 321.29620361328125, 333.5029602050781, 348.86651611328125, 345.7689208984375, 339.43194580078125, 340.98553466796875, 423.51416015625, 541.0939331054688, 429.4107360839844, 267.429443359375, 186.35577392578125, 195.13404846191406, 163.98760986328125, 172.46031188964844, 226.2997589111328, 236.20758056640625, 279.9613342285156, 302.6613464355469, 335.4269714355469, 351.2332763671875, 338.4391174316406, 314.2532043457031, 309.9952087402344, 308.2969970703125, 291.112060546875, 301.0650939941406, 295.0846252441406, 301.27978515625, 324.3566589355469, 292.9566955566406, 259.7995910644531, 274.04534912109375, 275.201904296875, 265.0236511230469, 277.5485534667969, 282.94403076171875, 282.9350891113281, 290.73736572265625, 311.0633544921875, 292.349609375, 234.7373809814453, 198.94358825683594, 237.0379638671875, 276.0972900390625, 294.5198669433594, 299.78839111328125, 309.37310791015625, 338.5450439453125, 320.5660400390625, 300.5562744140625, 300.20208740234375, 268.5235290527344, 263.7890319824219, 268.9678039550781, 261.00299072265625, 274.0152587890625, 263.2815856933594, 275.7177734375, 279.7156066894531, 270.1061706542969, 283.90478515625, 289.5209045410156, 304.5286560058594, 281.9759521484375, 307.3356628417969, 321.1414794921875, 300.1318054199219, 316.82415771484375, 295.9110107421875, 312.48199462890625, 281.3785095214844, 255.9500274658203, 221.38763427734375, 295.3800964355469, 306.9798278808594, 357.50054931640625, 316.82757568359375, 353.25677490234375, 317.88665771484375, 361.8957214355469, 372.3457946777344, 390.5354919433594, 420.8936767578125, 382.7353820800781, 392.6068115234375, 366.6611328125, 336.8475646972656, 332.7481384277344, 326.8336181640625, 320.5716552734375, 334.4339904785156, 350.86260986328125, 372.0848693847656, 428.37017822265625, 447.9350280761719, 478.6932678222656, 474.57470703125, 484.87359619140625, 562.1174926757812, 627.5437622070312, 582.4439697265625, 792.9710693359375, 808.3380737304688, 726.015625, 693.5255737304688, 1099.5291748046875, 993.15478515625, 838.527587890625, 774.7173461914062, 737.8618774414062, 698.0645751953125, 715.4029541015625, 660.8414916992188, 606.42333984375, 624.6488647460938, 571.3611450195312, 568.2775268554688, 566.4659423828125, 575.4178466796875, 620.7288818359375, 674.9982299804688, 676.7597045898438, 673.6879272460938, 644.7383422851562, 703.8377075195312, 698.599365234375, 653.5379028320312, 650.035888671875, 637.364990234375, 622.347412109375, 623.6636962890625, 627.3794555664062, 627.849609375, 676.0333862304688, 799.0615844726562, 1013.114501953125, 1134.765869140625, 1195.246826171875, 1293.4620361328125, 1241.001220703125, 1221.218017578125, 1160.860107421875, 1096.039794921875, 1142.337158203125, 1435.7979736328125, 1555.427978515625, 1568.3321533203125, 1636.015625, 1725.23876953125, 1584.9163818359375, 1436.55712890625, 1416.431396484375, 1349.31689453125, 1230.64697265625, 1146.2076416015625, 1110.09130859375, 1144.9024658203125, 1248.736328125, 1542.4703369140625, 1992.159423828125, 2265.8125, 2191.191162109375, 2054.255615234375, 1972.3070068359375, 1886.9888916015625, 1988.04443359375, 1853.9913330078125, 1666.4981689453125, 1563.060546875, 1550.4644775390625, 1679.35888671875, 2030.7408447265625, 2510.065673828125, 3083.36767578125, 3367.001953125, 3070.921142578125, 2848.5341796875, 2865.38134765625, 3074.842529296875, 3428.657958984375, 3805.106689453125, 4125.3330078125, 4077.212890625, 4393.37109375, 4515.38232421875, 4149.5048828125, 3657.265380859375, 3324.50537109375, 3127.50146484375, 3128.041015625, 3235.8818359375, 3361.866455078125, 3341.019775390625, 3273.558349609375, 3173.742431640625, 3008.1767578125, 2954.28173828125, 3003.291015625, 2958.574951171875, 2804.997314453125, 2647.561767578125, 2403.0673828125, 2160.96875, 2013.724853515625, 1827.916259765625, 1658.695556640625, 1544.4368896484375, 1495.5341796875, 1616.3223876953125, 1719.7872314453125, 1755.158935546875, 1793.207763671875, 1817.9027099609375, 1780.3699951171875, 1750.2845458984375, 1687.8458251953125, 1575.4560546875, 1513.740478515625, 1438.689208984375, 1420.8095703125, 1435.868408203125, 1426.75634765625, 1414.087158203125, 1349.4898681640625, 1289.4483642578125, 1243.901123046875, 1183.849365234375, 1137.7823486328125, 1111.846923828125, 1053.87353515625, 1026.0174560546875, 982.0057373046875, 952.0310668945312, 919.3589477539062, 872.7352294921875, 830.3777465820312, 789.23388671875, 765.193359375, 762.837158203125, 758.029541015625, 745.7828979492188, 693.4286499023438, 681.1138305664062, 661.3965454101562, 647.0211181640625, 629.6506958007812, 630.2145385742188, 647.4265747070312, 661.6856689453125, 640.0220947265625, 599.580322265625, 586.6478271484375, 585.3954467773438, 587.6287841796875, 657.0442504882812, 662.101806640625, 570.9365844726562, 549.364013671875, 535.4363403320312, 519.1365966796875, 567.8401489257812, 603.897216796875, 648.0252075195312, 533.310546875, 507.7894592285156, 493.6446838378906, 481.74578857421875, 475.3729248046875, 463.1576843261719, 461.396484375, 475.64141845703125, 487.65167236328125, 467.8675231933594, 458.3065185546875, 459.49127197265625, 442.72955322265625, 430.7722473144531, 423.681396484375, 425.54388427734375, 425.9444580078125, 417.4580383300781, 412.52667236328125, 396.39361572265625, 398.4786071777344, 396.4525451660156, 389.70501708984375, 384.1416015625, 377.7919616699219, 370.0062255859375, 366.9588928222656, 366.7215576171875, 369.0159912109375, 366.4817810058594, 361.7259826660156, 358.68511962890625, 355.4201354980469, 354.362060546875, 358.2621765136719, 357.6004333496094, 349.2883605957031, 345.13201904296875, 360.9553527832031, 355.9469909667969, 344.40130615234375, 332.73480224609375, 334.57061767578125, 354.5962219238281, 366.97235107421875, 426.2184143066406, 392.97869873046875, 382.9302978515625, 367.2749328613281, 362.6251525878906, 357.6237487792969, 348.4050598144531, 344.67034912109375, 340.4309387207031, 338.4484558105469, 334.4529724121094, 331.8221740722656, 335.6562194824219, 329.0648498535156, 331.353515625, 330.9111022949219, 338.28680419921875, 335.3529968261719, 332.03607177734375, 325.57305908203125, 322.2926025390625, 325.2763671875, 415.5573425292969, 387.66680908203125, 455.2795715332031, 515.64013671875, 453.3023986816406, 440.9789123535156, 411.8458251953125, 410.0711669921875, 402.74810791015625, 402.7454833984375, 394.0464782714844, 414.3949279785156, 444.68402099609375, 417.787841796875, 400.3617248535156, 396.2078857421875, 400.88104248046875, 389.0248718261719, 384.77581787109375, 394.704345703125, 390.9335021972656, 359.08795166015625, 314.869384765625, 308.9066162109375, 356.0880126953125, 340.835205078125, 294.0970153808594, 302.6004943847656, 322.7568664550781, 359.4599609375, 407.49798583984375, 409.3497619628906, 451.2025146484375, 391.43206787109375, 378.7191467285156, 429.3355407714844, 456.338623046875, 449.2076110839844, 443.2717590332031, 503.4580078125, 420.76336669921875, 400.73931884765625, 420.626708984375, 423.5164489746094, 469.39276123046875, 462.3080139160156, 453.1447448730469, 447.5447998046875, 427.6893615722656, 418.70477294921875, 414.88360595703125, 414.59716796875, 439.1522521972656, 474.129150390625, 429.5458679199219, 401.54425048828125, 411.7724914550781, 402.70782470703125, 396.1099548339844, 395.8313903808594, 410.7182312011719, 507.513916015625, 457.1145935058594, 422.2493896484375, 441.51953125, 402.42388916015625, 311.2742614746094, 295.0178527832031, 283.1293640136719, 297.08740234375, 256.50860595703125, 228.8203582763672, 252.1990203857422, 285.6688232421875, 340.5921936035156, 371.8516540527344, 377.59173583984375, 375.4104919433594, 372.4537353515625, 365.0887756347656, 349.3935852050781, 370.5059814453125, 356.51953125, 352.521240234375, 331.63409423828125, 292.93438720703125, 305.3423156738281, 316.308837890625, 370.9483337402344, 437.4539794921875, 429.94219970703125, 357.8128662109375, 286.4853820800781, 315.3643493652344, 379.33428955078125, 373.9694519042969, 394.4010009765625, 392.77923583984375, 412.20697021484375, 407.3695983886719, 400.9041442871094, 387.5701904296875, 391.5814514160156, 420.188232421875, 415.3201599121094, 413.2496337890625, 419.6451110839844, 439.01318359375, 451.41107177734375, 1012.7796630859375, 1006.8997192382812, 1134.1485595703125, 1117.080078125, 919.2637329101562, 808.6761474609375, 739.7830200195312, 712.7971801757812, 661.9769897460938, 624.0753784179688, 619.9639282226562, 639.946044921875, 621.7548217773438, 584.044677734375, 546.4307861328125, 502.94342041015625, 505.033935546875, 536.9390258789062, 514.9322509765625, 490.52020263671875, 472.34173583984375, 457.0663757324219, 445.12030029296875, 450.7828063964844, 408.3202819824219, 413.2437744140625, 438.98638916015625, 458.15228271484375, 449.5700988769531, 458.2841491699219, 475.95782470703125, 502.1155090332031, 517.3515014648438, 532.5296020507812, 583.7014770507812, 617.9715576171875, 697.445068359375, 803.4368286132812, 838.7409057617188, 860.6397705078125, 847.0455322265625, 844.5545654296875, 823.2098388671875, 832.3463134765625, 814.6058349609375, 795.1566772460938, 766.9525146484375, 778.4669799804688, 806.9796142578125, 831.35302734375, 883.426513671875, 916.5291748046875, 941.8734741210938, 932.7630615234375, 892.1614379882812, 876.645263671875, 849.3446655273438, 856.5987548828125, 792.326416015625, 777.2557983398438, 759.124267578125, 724.5234985351562, 727.677734375, 711.14306640625, 710.7186279296875, 737.398681640625, 699.8851318359375, 672.1852416992188, 682.1026611328125, 703.6370849609375, 732.656982421875, 774.553955078125, 837.1600952148438, 925.9945068359375, 1036.2828369140625, 1178.1832275390625, 1237.9642333984375, 1176.500732421875, 1073.281494140625, 1019.1636352539062, 1026.837158203125, 1083.1419677734375, 1217.8648681640625, 1338.7113037109375, 1466.77197265625, 1576.5078125, 1640.5565185546875, 1683.4569091796875, 1764.3404541015625, 1674.540283203125, 1558.7581787109375, 1455.3253173828125, 1438.8846435546875, 1449.069091796875, 1504.5601806640625, 1598.5521240234375, 1578.1900634765625, 1569.0836181640625, 1607.5802001953125, 1626.169921875, 1605.154052734375, 1640.0458984375, 1756.9991455078125, 1748.167724609375, 1814.683837890625, 1801.6630859375, 1843.2786865234375, 1858.17578125, 1881.3348388671875, 1812.5562744140625, 1707.4698486328125, 1585.8621826171875, 1605.3055419921875, 1670.1463623046875, 1878.2000732421875, 1958.14013671875, 1710.970458984375, 1509.2734375, 1403.24951171875, 1355.4674072265625, 1343.5390625, 1404.529296875, 1524.7569580078125, 1624.8411865234375, 1429.320556640625, 1249.0535888671875, 1143.41064453125, 1042.919189453125, 976.1005859375, 922.9826049804688, 894.9143676757812, 866.8548583984375, 831.8662719726562, 810.7672119140625, 781.02099609375, 751.60302734375, 721.5994262695312, 701.4026489257812, 686.2300415039062, 668.7649536132812, 655.4754638671875, 643.4539184570312, 637.9549560546875, 609.5540161132812, 595.5264892578125, 576.7981567382812, 556.9494018554688, 543.7522583007812, 530.688232421875, 537.1951904296875, 545.2479248046875, 521.111083984375, 532.7887573242188, 518.6141357421875, 542.8353881835938, 535.2949829101562, 516.45654296875, 512.9439086914062, 486.083740234375, 466.56353759765625, 456.91436767578125, 457.8359375, 471.4922180175781, 444.5017395019531, 433.1720886230469, 425.82586669921875, 439.8612365722656, 427.5582275390625, 413.72882080078125, 405.2817687988281, 415.8937683105469, 422.0721130371094, 406.9468688964844, 393.91839599609375, 382.8764953613281, 373.7857360839844, 368.8470458984375, 365.7905578613281, 370.82281494140625, 380.7876892089844, 397.7989501953125, 381.9206237792969, 368.3109436035156, 373.8098449707031, 360.61834716796875, 351.2552795410156, 343.768798828125, 338.7060241699219, 334.5806579589844, 331.186767578125, 332.44146728515625, 331.1776123046875, 329.9688720703125, 325.72698974609375, 323.7566223144531, 317.9030456542969, 316.4858703613281, 318.4056701660156, 310.7400207519531, 307.13531494140625, 304.85955810546875, 299.7675476074219, 303.48126220703125, 299.65740966796875, 299.9404602050781, 302.8887634277344, 300.71527099609375, 293.3912048339844, 298.2740783691406, 317.45782470703125, 314.2737731933594, 314.5940856933594, 309.4864807128906, 307.56353759765625, 300.1800231933594, 295.5928649902344, 291.0787658691406, 287.259765625, 282.29010009765625, 299.917724609375, 386.177490234375, 395.5841064453125, 416.8277893066406, 397.32537841796875, 356.26385498046875, 341.15081787109375, 328.9766845703125, 322.6158752441406, 316.4407958984375, 316.9054870605469, 314.7239074707031, 308.1501159667969, 307.4906311035156, 308.76641845703125, 307.4443054199219, 305.5113830566406, 307.3662414550781, 307.77349853515625, 306.2238464355469, 306.7631530761719, 306.3574523925781, 301.4187927246094, 301.83917236328125, 299.530029296875, 297.1739196777344, 297.6742858886719, 289.72467041015625, 293.4144592285156, 291.283935546875, 291.6046142578125, 289.1550598144531, 289.4239196777344, 293.4491271972656, 314.5374755859375, 337.6933898925781, 322.1441345214844, 304.1025695800781, 299.0365905761719, 300.05609130859375, 297.7778625488281, 292.7430419921875, 300.43878173828125, 296.2437744140625, 304.2898864746094, 302.80157470703125, 337.17156982421875, 368.01171875, 426.8204345703125, 394.7547912597656, 352.13616943359375, 338.96868896484375, 337.182373046875, 324.0703430175781, 317.9502868652344, 338.7959289550781, 340.3253173828125, 317.8008117675781, 317.77447509765625, 316.23486328125, 311.9304504394531, 314.77947998046875, 317.8656311035156, 305.4817199707031, 315.95001220703125, 313.0881042480469, 342.46185302734375, 301.3626403808594, 238.59848022460938, 217.2580108642578, 241.42117309570312, 275.6616516113281, 296.16778564453125, 251.4993896484375, 219.75323486328125, 211.16104125976562, 195.34515380859375, 198.3095703125, 214.88404846191406, 270.9136047363281, 286.84405517578125, 317.8136901855469, 279.808837890625, 288.02691650390625, 419.528564453125, 447.0110778808594, 442.855224609375, 461.1572570800781, 385.8348388671875, 356.46441650390625, 383.03839111328125, 333.0213928222656, 285.0377197265625, 233.5026397705078, 230.27960205078125, 266.91796875, 282.5254821777344, 286.0321350097656, 330.4241638183594, 294.3229675292969, 297.22784423828125, 284.1278076171875, 251.98681640625, 186.96780395507812, 197.67311096191406, 240.99050903320312, 280.765625, 259.2715148925781, 263.0662536621094, 200.9761962890625, 233.89413452148438, 271.41314697265625, 334.4244079589844, 309.1238098144531, 305.0103759765625, 290.0975341796875, 281.79327392578125, 252.9893798828125, 229.3957977294922, 251.03903198242188, 239.61778259277344, 306.7143249511719, 265.9344482421875, 269.9018249511719, 278.7374267578125, 289.2933654785156, 281.55230712890625, 294.17498779296875, 270.8568115234375, 286.4438781738281, 296.35125732421875, 294.3022766113281, 274.6062316894531, 267.14434814453125, 265.6813659667969, 272.13720703125, 289.85308837890625, 301.31146240234375, 289.1026611328125, 262.932861328125, 198.0218505859375, 232.52297973632812, 284.84234619140625, 296.3406066894531, 286.2027893066406, 292.3648986816406, 297.180908203125, 306.421875, 315.85076904296875, 335.8751220703125, 359.6023254394531, 378.5558166503906, 365.92138671875, 385.6300964355469, 415.3778076171875, 457.536376953125, 472.0289306640625, 470.95513916015625, 464.8471374511719, 417.08221435546875, 419.28851318359375, 379.6537780761719, 362.6810607910156, 380.89141845703125, 388.5707702636719, 411.0939025878906, 423.77789306640625, 444.35772705078125, 412.2446594238281, 444.9791564941406, 438.6104736328125, 460.3685607910156, 481.45330810546875, 525.7384033203125, 709.135009765625, 783.7964477539062, 655.8594360351562, 604.0962524414062, 654.6879272460938, 862.0654296875, 904.39990234375, 935.4287719726562, 898.7437133789062, 782.7816162109375, 705.8710327148438, 615.3754272460938, 580.0836181640625, 614.9561767578125, 658.164794921875, 767.7548828125, 815.6564331054688, 755.975830078125, 698.5598754882812, 659.81982421875, 633.4810180664062, 580.82080078125, 595.8125, 590.2655639648438, 599.8922729492188, 657.0205078125, 740.8585205078125, 868.779052734375, 1028.75390625, 1099.13671875, 1011.4530639648438, 1032.7808837890625, 1154.640625, 1382.538330078125, 1629.2489013671875, 1971.9686279296875, 2102.05224609375, 2235.4716796875, 2623.999755859375, 2563.84130859375, 2045.58544921875, 1699.2769775390625, 1562.4354248046875, 1551.7509765625, 1654.9556884765625, 1897.6881103515625, 2217.910888671875, 2589.569091796875, 2657.877685546875, 2482.474609375, 2237.99169921875, 2007.493896484375, 1895.8724365234375, 1781.9310302734375, 1696.8804931640625, 1615.82080078125, 1620.1771240234375, 1724.214599609375, 1944.8880615234375, 2247.53369140625, 2575.6865234375, 2973.850830078125, 3292.692138671875, 3490.618408203125, 3480.304931640625, 3034.1201171875, 2574.636474609375, 2380.831298828125, 2408.25732421875, 2671.141845703125, 3001.58935546875, 2958.20263671875, 2795.78173828125, 2805.499755859375, 3098.51318359375, 3098.49951171875, 2790.529296875, 2424.53369140625, 2065.90087890625, 1855.8929443359375, 1688.648193359375, 1622.781494140625, 1608.7247314453125, 1657.3819580078125, 1723.9696044921875, 1819.3697509765625, 1961.9105224609375, 2141.045654296875, 2280.121826171875, 2379.439453125, 2694.82568359375, 3098.1103515625, 3351.093994140625, 3162.209228515625, 3034.0654296875, 2939.218017578125, 2628.742919921875, 2273.982421875, 1958.9781494140625, 1731.59375, 1596.416259765625, 1552.090087890625, 1447.17578125, 1330.3463134765625, 1197.6923828125, 1167.8004150390625, 1176.1260986328125, 1198.9554443359375, 1251.0218505859375, 1219.53564453125, 1183.7254638671875, 1156.94091796875, 1077.6712646484375, 1041.8868408203125, 1023.649658203125, 1043.537353515625, 1033.705322265625, 1017.680908203125, 989.7556762695312, 937.6199951171875, 894.9627075195312, 852.6972045898438, 807.8955688476562, 785.824951171875, 754.3594970703125, 736.8521728515625, 756.3641967773438, 781.5411376953125, 721.5731811523438, 689.4493408203125, 665.4277954101562, 643.8900756835938, 626.991943359375, 621.6572265625, 599.1023559570312, 584.4746704101562, 574.4183349609375, 565.9434814453125, 549.8008422851562, 542.282958984375, 539.3914794921875, 529.7462158203125, 517.0548706054688, 510.4722900390625, 501.4487609863281, 498.4952392578125, 496.4036560058594, 488.3143005371094, 486.9441833496094, 475.7061462402344, 467.74920654296875, 465.0593566894531, 462.3633117675781, 458.55206298828125, 441.3455505371094, 440.94342041015625, 429.28271484375, 433.77935791015625, 429.25531005859375, 422.5726623535156, 411.3828430175781, 405.7992858886719, 401.4495849609375, 394.1231384277344, 392.8746643066406, 390.92919921875, 378.6366271972656, 374.1965026855469, 370.6605529785156, 369.9070129394531, 370.7579345703125, 365.7586975097656, 355.8016052246094, 354.9038391113281, 355.5465393066406, 350.811767578125, 347.6874084472656, 335.20928955078125, 333.0787658691406, 330.5360107421875, 331.9831848144531, 349.6114196777344, 356.28619384765625, 341.43310546875, 343.9685974121094, 336.7367858886719, 329.0119934082031, 328.1676025390625, 325.981689453125, 315.61309814453125, 311.82598876953125, 322.9797668457031, 349.4830627441406, 343.3525390625, 325.53875732421875, 327.5481872558594, 314.7204284667969, 314.9408264160156, 308.4082336425781, 305.39910888671875, 318.4037170410156, 329.8286437988281, 311.61077880859375, 310.85430908203125, 304.5069580078125, 300.86883544921875, 297.16082763671875, 295.810302734375, 293.5124206542969, 292.1084289550781, 304.76251220703125, 312.7136535644531, 314.9627990722656, 308.1289978027344, 311.85955810546875, 312.61944580078125, 304.0160827636719, 302.85052490234375, 302.1042785644531, 302.04095458984375, 302.7896423339844, 322.7021789550781, 455.5074157714844, 529.3087768554688, 572.9880981445312, 486.73919677734375, 456.9258117675781, 409.0790710449219, 395.5857238769531, 379.0455017089844, 374.8672790527344, 367.2469787597656, 373.906005859375, 435.1712951660156, 434.3773498535156, 423.2325744628906, 412.83160400390625, 448.4222717285156, 512.5938720703125, 688.7622680664062, 614.8456420898438, 550.800048828125, 505.0598449707031, 477.4730529785156, 455.0006408691406, 432.0628967285156, 420.2303771972656, 408.9815673828125, 397.8381652832031, 388.2355651855469, 380.955810546875, 373.8267517089844, 372.1229553222656, 378.7328796386719, 447.4133605957031, 469.8482666015625, 399.2484130859375, 395.159423828125, 390.97412109375, 388.6405334472656, 367.25823974609375, 363.3155212402344, 369.5518798828125, 350.8796691894531, 363.7705383300781, 353.7232666015625, 344.1704406738281, 350.9905700683594, 324.6215515136719, 327.81597900390625, 323.9457092285156, 303.6640319824219, 332.6761474609375, 350.43475341796875, 281.9105224609375, 207.43292236328125, 195.0267333984375, 240.35951232910156, 300.11065673828125, 294.6915588378906, 344.3916015625, 327.30108642578125, 293.31005859375, 320.2243957519531, 293.6285095214844, 256.1444091796875, 193.54872131347656, 185.2462615966797, 221.14865112304688, 237.39891052246094, 235.36978149414062, 225.12451171875, 275.6484375, 266.8092956542969, 247.73045349121094, 251.80844116210938, 267.7560729980469, 240.56939697265625, 251.5982208251953, 252.0378875732422, 247.04550170898438, 241.3087615966797, 235.05459594726562, 249.07249450683594, 217.46759033203125, 217.49607849121094, 225.8126678466797, 298.51318359375, 388.46295166015625, 399.0120849609375, 480.5718688964844, 450.19036865234375, 406.5385437011719, 351.3936462402344, 315.0349426269531, 298.0507507324219, 301.9994201660156, 335.7671203613281, 401.92034912109375, 433.1752624511719, 443.9126281738281, 432.71636962890625, 384.9430236816406, 379.41058349609375, 340.5809631347656, 315.85845947265625, 241.91836547851562, 251.62017822265625, 281.3099670410156, 288.7709045410156, 305.6810302734375, 290.9202880859375, 301.3171691894531, 334.8940734863281, 382.1720275878906, 431.3995361328125, 438.4916076660156, 457.8167419433594, 450.9071350097656, 469.7182922363281, 878.6136474609375, 2119.26220703125, 1209.748046875, 885.4337768554688, 781.023681640625, 728.8834838867188, 736.1983032226562, 712.4785766601562, 780.414794921875, 743.5228271484375, 769.2112426757812, 766.3123168945312, 922.6355590820312, 869.4368896484375, 728.4576416015625, 625.9830322265625, 587.3597412109375, 544.8673706054688, 530.1179809570312, 508.09906005859375, 467.0411682128906, 483.162841796875, 517.7030639648438, 512.0628662109375, 451.9786376953125, 428.2872009277344, 455.99224853515625, 482.01220703125, 615.0494384765625, 1326.8514404296875, 1368.9268798828125, 1096.615966796875, 1120.497802734375, 1245.4716796875, 1651.9951171875, 2703.0537109375, 2454.4736328125, 2304.30810546875, 3285.3466796875, 3529.830078125, 3225.046142578125, 3455.51416015625, 2934.4169921875, 2646.73876953125, 2229.0537109375, 1982.474853515625, 1798.458984375, 1621.364990234375, 1594.282470703125, 1760.198486328125, 1741.712646484375, 1827.5693359375, 1859.839111328125, 1831.45751953125, 1707.266357421875, 1702.957763671875, 1848.761962890625, 2195.1015625, 2124.4150390625, 1850.3277587890625, 1691.57666015625, 1603.1402587890625, 1636.679443359375, 1728.5938720703125, 1604.6142578125, 1512.5042724609375, 1570.826416015625, 1831.9188232421875, 1914.52392578125, 1945.2894287109375, 1943.6663818359375, 1856.711181640625, 1939.5419921875, 2069.142822265625, 2173.86376953125, 2061.4375, 1956.47802734375, 1780.4736328125, 1702.7607421875, 1705.72119140625, 1732.115478515625, 1772.211669921875, 1904.310302734375, 2238.177001953125, 2865.763916015625, 3800.5146484375, 4991.5224609375, 5437.62890625, 4911.45556640625, 4951.91455078125, 5145.14892578125, 5528.06005859375, 5792.21875, 5055.34375, 4357.3095703125, 3855.7431640625, 3624.5107421875, 3300.0224609375, 2958.99951171875, 2757.0986328125, 2744.677490234375, 3029.6669921875, 3736.2197265625, 4522.3974609375, 5317.08154296875, 5439.2744140625, 4721.93896484375, 4403.23193359375, 4621.8125, 5066.203125, 5702.9716796875, 6614.6435546875, 6790.908203125, 6337.10791015625, 6105.646484375, 6358.90576171875, 6416.77099609375, 5966.255859375, 5864.21142578125, 6180.65087890625, 5677.5068359375, 4874.09765625, 4266.14990234375, 4066.740478515625, 3914.81640625, 3578.482177734375, 3398.134033203125, 3526.692138671875, 3896.434326171875, 4085.666259765625, 4457.00927734375, 4930.08447265625, 5372.54638671875, 4899.8916015625, 4273.04638671875, 3938.527587890625, 3885.872802734375, 4002.9384765625, 4071.61279296875, 3889.404541015625, 3571.533935546875, 3129.322509765625, 2965.02685546875, 2877.233154296875, 2841.544189453125, 2890.693115234375, 2742.18115234375, 2705.538330078125, 2533.814453125, 2415.295654296875, 2319.895751953125, 2202.725341796875, 2046.3345947265625, 1861.1954345703125, 1718.9918212890625, 1644.7197265625, 1589.5240478515625, 1495.6119384765625, 1431.0177001953125, 1343.2501220703125, 1260.98583984375, 1197.859619140625, 1128.4638671875, 1088.1063232421875, 1050.5421142578125, 1026.1932373046875, 1000.717529296875, 1016.2879028320312, 1005.7154541015625, 961.3251342773438, 933.5908813476562, 902.6005249023438, 876.0432739257812, 851.4898681640625, 830.3385620117188, 808.6349487304688, 789.2088012695312, 768.3971557617188, 751.0803833007812, 739.4020385742188, 729.17333984375, 714.7423706054688, 704.0274658203125, 691.5872802734375, 690.793701171875, 668.0338134765625, 662.34619140625, 650.9974975585938, 633.7869873046875, 622.9744262695312, 611.765625, 599.4495849609375, 592.057861328125, 586.2335815429688, 580.4788818359375, 573.2398071289062, 569.5985717773438, 561.0922241210938, 551.8579711914062, 547.1023559570312, 540.4811401367188, 535.9885864257812, 528.6549072265625, 526.9755249023438, 524.2825317382812, 522.5880126953125, 512.4293823242188, 507.0063171386719, 516.1430053710938, 523.7218017578125, 518.8449096679688, 514.6343994140625, 567.5357666015625, 511.4897155761719, 502.59771728515625, 497.0041198730469, 491.0329895019531, 493.2682189941406, 485.8337097167969, 492.501220703125, 492.33404541015625, 681.3265991210938, 685.0633544921875, 707.9901733398438, 633.63818359375, 603.9193725585938, 571.3052368164062, 552.7388916015625, 542.8232421875, 532.01904296875, 533.929443359375, 528.0185546875, 520.54736328125, 545.9716796875, 532.4663696289062, 517.369873046875, 509.14776611328125, 505.11676025390625, 499.1829528808594, 497.120849609375, 483.4535217285156, 472.61322021484375, 473.4679260253906, 469.8919982910156, 462.18408203125, 460.6639404296875, 469.29132080078125, 460.2442932128906, 467.1010437011719, 468.9075012207031, 467.69464111328125, 466.24090576171875, 468.5758056640625, 491.5495300292969, 498.9700012207031, 598.637451171875, 611.0286865234375, 546.1270141601562, 532.81689453125, 513.25390625, 509.793701171875, 501.3008728027344, 497.5602111816406, 480.04730224609375, 481.6817321777344, 469.0208435058594, 505.95458984375, 562.149169921875, 533.3955078125, 528.83740234375, 487.8702087402344, 454.33087158203125, 496.1105651855469, 514.5713500976562, 537.8662719726562, 507.2707214355469, 492.8013610839844, 509.3919677734375, 513.8841552734375, 542.5477294921875, 594.5831298828125, 547.4579467773438, 492.4396057128906, 496.0006408691406, 560.1686401367188, 685.7171020507812, 1065.5263671875, 1109.7286376953125, 1335.232177734375, 1197.6868896484375, 1065.1982421875, 1065.837890625, 984.03125, 867.2893676757812, 826.8865356445312, 808.9981079101562, 787.3673095703125, 738.2786254882812, 652.9122924804688, 567.9452514648438, 525.5158081054688, 535.6927490234375, 561.87353515625, 569.4629516601562, 526.4450073242188, 520.6570434570312, 559.3560180664062, 562.0969848632812, 513.87353515625, 509.2017822265625, 473.5044860839844, 472.3543395996094, 493.01068115234375, 491.3369140625, 467.9626159667969, 399.7476501464844, 408.87139892578125, 362.027099609375, 336.58843994140625, 366.0420837402344, 406.1009216308594, 426.7763977050781, 454.24627685546875, 464.1827697753906, 427.2406311035156, 366.3685302734375, 313.0723571777344, 330.483154296875, 371.0949401855469, 423.4943542480469, 436.9197082519531, 458.6366271972656, 421.1850891113281, 426.9150695800781, 449.672119140625, 450.94921875, 473.0622863769531, 446.44793701171875, 428.4616394042969, 425.42681884765625, 421.2286071777344, 413.0182800292969, 415.0641174316406, 442.5615234375, 434.70208740234375, 403.0564270019531, 402.1854248046875, 413.3323974609375, 409.66009521484375, 433.29473876953125, 414.1158447265625, 391.6954040527344, 411.2925720214844, 422.8718566894531, 432.0942077636719, 399.79351806640625, 397.6239318847656, 411.8224792480469, 440.9519348144531, 459.051513671875, 468.1383361816406, 533.46923828125, 514.0011596679688, 494.6557312011719, 487.38812255859375, 454.7806091308594, 418.2454528808594, 425.5084533691406, 422.4098815917969, 405.44488525390625, 429.2947998046875, 412.8963928222656, 408.6158752441406, 437.28216552734375, 384.95892333984375, 340.70501708984375, 305.9393005371094, 314.4801940917969, 316.5794677734375, 359.3109436035156, 378.2657470703125, 409.09735107421875, 379.1661071777344, 330.5606689453125, 379.5224609375, 417.7596740722656, 363.356689453125, 345.13397216796875, 374.9110412597656, 373.3773498535156, 377.85723876953125, 404.7347106933594, 411.145751953125, 398.5801086425781, 415.4207763671875, 410.6561584472656, 435.6497497558594, 495.72607421875, 636.9879150390625, 571.4513549804688, 544.8218994140625, 507.0333251953125, 465.15087890625, 478.4501953125, 474.1589660644531, 501.09661865234375, 626.8678588867188, 807.940673828125, 675.5084228515625, 616.6026611328125, 601.9141845703125, 616.7977294921875, 600.5130004882812, 654.2085571289062, 682.7423095703125, 706.1924438476562, 745.3388061523438, 687.9635620117188, 713.731201171875, 713.454833984375, 730.7315063476562, 906.1802368164062, 1123.52734375, 1315.486572265625, 1161.2628173828125, 1155.230224609375, 1235.5509033203125, 1268.8760986328125, 1176.4700927734375, 1113.0543212890625, 1110.4716796875, 1208.216552734375, 1131.3201904296875, 1105.10107421875, 1111.330322265625, 1148.108154296875, 1329.0667724609375, 1523.7159423828125, 1618.9447021484375, 1712.7720947265625, 1817.3699951171875, 2018.9267578125, 2314.308349609375, 2621.263916015625, 2577.96826171875, 2250.5986328125, 2021.1015625, 1869.7633056640625, 1904.14111328125, 2084.443115234375, 2415.2685546875, 2801.33056640625, 3301.223876953125, 3487.1015625, 3573.603271484375, 3561.5146484375, 3209.94140625, 2785.5478515625, 2526.9755859375, 2494.492919921875, 2599.52001953125, 2689.828857421875, 2862.25537109375, 2979.07470703125, 3079.667236328125, 3052.97021484375, 3042.809326171875, 3235.754150390625, 3339.866455078125, 3421.992431640625, 3546.50390625, 3596.15478515625, 3386.53173828125, 3376.16162109375, 3302.238525390625, 3128.184814453125, 3061.58447265625, 2691.328125, 2360.045166015625, 2227.7158203125, 2295.7900390625, 2497.525390625, 2480.62353515625, 2325.34619140625, 2300.012939453125, 2191.4921875, 2147.581787109375, 1815.87841796875, 1606.896728515625, 1487.905517578125, 1493.97314453125, 1548.60791015625, 1465.25341796875, 1473.85595703125, 1574.9517822265625, 1525.84912109375, 1398.450927734375, 1350.2879638671875, 1364.6065673828125, 1359.4599609375, 1304.2607421875, 1255.7674560546875, 1217.8726806640625, 1196.2239990234375, 1131.3115234375, 1082.6658935546875, 1037.19677734375, 981.8531494140625, 947.126953125, 919.9750366210938, 908.4785766601562, 865.1299438476562, 844.372802734375, 832.4317016601562, 823.1692504882812, 809.5092163085938, 786.7849731445312, 768.02783203125, 744.1168823242188, 715.9865112304688, 690.8389282226562, 673.7215576171875, 657.055908203125, 641.4849853515625, 622.163330078125, 605.9520874023438, 589.6694946289062, 569.2532348632812, 556.0228881835938, 548.8857421875, 536.1263427734375, 519.906494140625, 512.6378173828125, 504.052734375, 495.82427978515625, 487.7093811035156, 483.3331604003906, 477.0946350097656, 471.2662048339844, 458.459716796875, 450.8575439453125, 449.6805419921875, 446.4013977050781, 441.8961486816406, 434.54498291015625, 426.73187255859375, 416.3731384277344, 409.6072692871094, 405.5492248535156, 402.55401611328125, 396.82415771484375, 394.1531066894531, 393.0702209472656, 382.824951171875, 381.6365661621094, 383.1683654785156, 377.99139404296875, 371.8646545410156, 377.2828063964844, 371.1385803222656, 372.63348388671875, 364.40667724609375, 369.0146484375, 357.72503662109375, 401.8240966796875, 395.4283447265625, 372.97796630859375, 359.078369140625, 352.4432678222656, 349.8878173828125, 345.1614990234375, 343.1577453613281, 336.72650146484375, 335.3973388671875, 327.96337890625, 328.98822021484375, 321.1390075683594, 321.67132568359375, 319.47113037109375, 324.290283203125, 319.28643798828125, 319.9275817871094, 325.83856201171875, 316.31390380859375, 319.2138366699219, 317.4465637207031, 312.80633544921875, 309.8228454589844, 308.9440002441406, 313.955078125, 305.11834716796875, 301.09674072265625, 304.6390380859375, 303.913330078125, 307.07861328125, 304.23797607421875, 300.09075927734375, 298.34844970703125, 295.60247802734375, 314.5010986328125, 298.0050354003906, 304.6251525878906, 379.83587646484375, 362.3919372558594, 333.6402893066406, 327.0474853515625, 327.34075927734375, 383.8829040527344, 350.3262023925781, 333.88348388671875, 327.8652038574219, 318.54400634765625, 310.78778076171875, 317.08929443359375, 312.57635498046875, 310.7986145019531, 308.886962890625, 308.0824890136719, 303.4001159667969, 302.2232971191406, 305.52484130859375, 311.3691101074219, 311.3782043457031, 303.4519958496094, 304.78118896484375, 302.91021728515625, 302.3989562988281, 302.1548156738281, 302.5741271972656, 311.529052734375, 313.4268798828125, 323.2868347167969, 328.060302734375, 332.3279724121094, 323.0834045410156, 315.197509765625, 299.70703125, 290.01519775390625, 291.6155090332031, 290.594482421875, 274.2240905761719, 285.3272399902344, 296.5195617675781, 292.6907958984375, 287.1646423339844, 286.1966857910156, 279.0548095703125, 273.86444091796875, 258.50213623046875, 244.19873046875, 244.31837463378906, 293.9184265136719, 310.3760681152344, 280.6418151855469, 257.5093688964844, 258.826171875, 315.409912109375, 295.80364990234375, 282.3345642089844, 277.3271484375, 275.9828186035156, 282.5098571777344, 265.0497741699219, 232.546875, 168.44227600097656, 168.9519500732422, 227.8798828125, 287.5559387207031, 333.214111328125, 309.45941162109375, 298.9513244628906, 275.28839111328125, 278.61102294921875, 295.5416564941406, 286.8601989746094, 291.3847351074219, 307.14862060546875, 318.7313537597656, 294.08209228515625, 295.5665283203125, 279.2519226074219, 271.0522155761719, 285.01373291015625, 291.9768371582031, 268.28265380859375, 245.65155029296875, 237.7449188232422, 224.32229614257812, 251.32723999023438, 273.5968322753906, 235.36892700195312, 207.16212463378906, 249.1616668701172, 299.0959777832031, 301.71038818359375, 304.2522277832031, 302.93194580078125, 261.6273193359375, 296.437744140625, 289.9464111328125, 275.2195739746094, 260.6217041015625, 228.2517852783203, 216.76242065429688, 233.2672119140625, 262.5190124511719, 310.5931091308594, 330.60650634765625, 291.0223693847656, 322.6605529785156, 350.89776611328125, 305.6875, 280.98974609375, 255.57615661621094, 268.02960205078125, 264.3489685058594, 294.4676208496094, 298.8001708984375, 274.343994140625, 265.77880859375, 264.0561218261719, 268.2914123535156, 300.35186767578125, 321.23822021484375, 339.2093200683594, 304.489013671875, 288.9249267578125, 251.55039978027344, 220.2322998046875, 214.42579650878906, 296.8597412109375, 276.65948486328125, 289.42767333984375, 310.0777893066406, 314.5618896484375, 321.7010498046875, 318.7837219238281, 279.91156005859375, 275.01092529296875, 242.3933868408203, 236.8688201904297, 275.7066955566406, 255.49099731445312, 259.28717041015625, 301.448974609375, 324.55877685546875, 350.92352294921875, 330.824951171875, 377.1319580078125, 352.5033264160156, 324.8060302734375, 332.7604064941406, 330.01641845703125, 321.46124267578125, 349.1142883300781, 366.088134765625, 360.0562744140625, 331.54833984375, 329.43890380859375, 321.599365234375, 324.66015625, 346.83782958984375, 298.0357360839844, 317.2378845214844, 337.67681884765625, 363.1682434082031, 392.1929626464844, 413.8678894042969, 479.0470275878906, 544.6962280273438, 580.4832763671875, 551.0693359375, 563.2326049804688, 583.0025634765625, 583.204345703125, 573.3493041992188, 665.7354736328125, 745.0140380859375, 673.690185546875, 631.73291015625, 611.9611206054688, 641.4618530273438, 652.0830688476562, 730.0341796875, 809.1578369140625, 932.1691284179688, 999.0767822265625, 1064.8870849609375, 2033.14453125, 3285.970947265625, 2056.04150390625, 1520.89697265625, 1274.7471923828125, 1177.9852294921875, 1172.23046875, 1094.9005126953125, 1068.8277587890625, 1039.299072265625, 1089.26025390625, 1458.668212890625, 2061.430419921875, 2433.05810546875, 2449.210693359375, 2465.291015625, 2681.8486328125, 2798.464111328125, 2563.818603515625, 2436.794921875, 2221.823974609375, 1924.779296875, 1714.4630126953125, 1562.8265380859375, 1493.5872802734375, 1522.5035400390625, 1666.161376953125, 1873.5902099609375, 2117.68408203125, 2337.6484375, 2478.462646484375, 2501.39892578125, 2480.39404296875, 2551.5166015625, 2843.262451171875, 3259.643798828125, 3541.829833984375, 3687.985595703125, 3683.41357421875, 3610.22216796875, 3314.089599609375, 2896.974853515625, 2657.50390625, 2576.227783203125, 2400.835205078125, 2262.119384765625, 2236.045654296875, 2271.468994140625, 2409.39306640625, 2558.477294921875, 2717.3486328125, 2952.674560546875, 3146.94140625, 3295.475341796875, 3463.68994140625, 3669.221435546875, 3983.91748046875, 4088.87353515625, 3956.73388671875, 3803.73876953125, 3679.992431640625, 3119.632080078125, 2588.931884765625, 2300.505615234375, 2215.3203125, 2406.216796875, 2819.918212890625, 2950.43505859375, 2829.74951171875, 2691.765869140625, 2592.01416015625, 2548.6875, 2393.44970703125, 2132.1142578125, 1900.517333984375, 1684.817626953125, 1530.0794677734375, 1459.29248046875, 1442.1539306640625, 1447.6683349609375, 1398.6241455078125, 1394.107666015625, 1338.9439697265625, 1307.26220703125, 1309.7216796875, 1304.64404296875, 1299.1806640625, 1261.6322021484375, 1191.614990234375, 1145.6402587890625, 1126.1873779296875, 1106.753173828125, 1066.7510986328125, 1017.5347900390625, 1001.6148681640625, 1008.0900268554688, 995.7073974609375, 964.4185180664062, 924.868408203125, 877.3463745117188, 845.9060668945312, 805.9124755859375, 772.5731811523438, 749.5711669921875, 733.8406982421875, 709.2052001953125, 687.6009521484375, 681.8282470703125, 665.2007446289062, 647.9336547851562, 629.9943237304688, 608.4092407226562, 598.7918090820312, 637.4207153320312, 600.5323486328125, 572.79931640625, 564.7020263671875, 557.1154174804688, 536.9991455078125, 526.96435546875, 512.704345703125, 544.2536010742188, 535.2139892578125, 565.972412109375, 579.7874145507812, 512.3887329101562, 501.2629699707031, 486.5715026855469, 474.5194396972656, 459.2747497558594, 452.9272766113281, 445.6448669433594, 442.61944580078125, 431.66552734375, 423.4351806640625, 418.5951232910156, 409.03094482421875, 412.1734313964844, 405.338623046875, 394.96221923828125, 396.49664306640625, 392.373779296875, 389.6171875, 380.7582092285156, 377.63323974609375, 377.1252136230469, 368.4697570800781, 363.1974182128906, 363.7334289550781, 356.0972595214844, 353.60626220703125, 402.7305908203125, 430.2805480957031, 439.2015075683594, 455.93817138671875, 417.01513671875, 407.03045654296875, 408.7006530761719, 392.18157958984375, 380.8514099121094, 371.7635803222656, 369.04248046875, 380.22125244140625, 378.9941711425781, 392.6216125488281, 396.83050537109375, 377.989013671875, 372.452392578125, 360.52398681640625, 354.25653076171875, 359.7163391113281, 348.6162109375, 366.301025390625, 368.6546325683594, 360.1260986328125, 365.42913818359375, 365.4910583496094, 361.53387451171875, 353.8907470703125, 355.77789306640625, 352.3553771972656, 350.2580261230469, 352.135009765625, 365.2159423828125, 338.9647521972656, 339.88836669921875, 339.9628601074219, 337.22088623046875, 334.18365478515625, 346.518310546875, 342.4361877441406, 338.90625, 343.22491455078125, 386.91400146484375, 354.5032653808594, 354.80230712890625, 378.16943359375, 369.23138427734375, 359.26641845703125, 361.5258483886719, 350.4045104980469, 321.7403869628906, 317.8554992675781, 295.5082092285156, 265.4727478027344, 303.0836181640625, 333.2803649902344, 335.6155090332031, 334.82305908203125, 333.1011047363281, 328.1888427734375, 327.6921691894531, 324.69873046875, 323.6917724609375, 324.6437072753906, 320.0082092285156, 319.6629943847656, 322.2244873046875, 317.6306457519531, 319.90545654296875, 320.1039733886719, 315.0520324707031, 314.624267578125, 318.34466552734375, 325.0975036621094, 316.6694030761719, 303.4244689941406, 302.76513671875, 306.5119934082031, 304.8895568847656, 295.506591796875, 285.21533203125, 292.762939453125, 287.59307861328125, 285.77301025390625, 288.037109375, 306.1334533691406, 312.17779541015625, 300.4477844238281, 292.34759521484375, 275.5040588378906, 284.282958984375, 330.7170715332031, 325.3011474609375, 286.3217468261719, 267.7789306640625, 325.8203430175781, 339.2578125, 298.9493713378906, 280.9587707519531, 271.530029296875, 254.38584899902344, 214.75689697265625, 258.1687316894531, 310.25628662109375, 298.00811767578125, 292.629638671875, 297.7055358886719, 283.0236511230469, 279.8510437011719, 270.6130676269531, 265.501220703125, 248.32884216308594, 264.540771484375, 282.4681701660156, 272.24468994140625, 285.189453125, 306.7117614746094, 270.87054443359375, 267.6834716796875, 261.5131530761719, 265.15655517578125, 284.50103759765625, 282.3750305175781, 266.8750305175781, 250.9936981201172, 254.90843200683594, 285.49114990234375, 289.8128356933594, 262.1432189941406, 261.4849548339844, 276.099609375, 280.9289245605469, 275.2276306152344, 269.6419982910156, 275.9290771484375, 272.100830078125, 267.7178039550781, 273.633056640625, 267.4008483886719, 278.2979431152344, 267.8106689453125, 287.82037353515625, 278.24432373046875, 276.6612548828125, 284.2853698730469, 266.6440124511719, 286.0746765136719, 287.3782958984375, 258.39263916015625, 213.865966796875, 189.20265197753906, 252.08126831054688, 314.206787109375, 319.8636169433594, 276.7208251953125, 262.2203369140625, 245.62686157226562, 257.68341064453125, 262.5078125, 282.7778015136719, 258.8149108886719, 267.2362365722656, 253.57479858398438, 223.98348999023438, 200.65603637695312, 216.89962768554688, 256.365234375, 294.6937561035156, 333.683349609375, 344.8110046386719, 275.38909912109375, 248.97021484375, 267.4241027832031, 274.8249816894531, 295.4294738769531, 280.3146667480469, 249.52297973632812, 285.3642272949219, 281.884521484375, 289.16583251953125, 318.9858093261719, 355.77874755859375, 368.1344299316406, 361.6965637207031, 340.51751708984375, 324.2272644042969, 347.6452331542969, 355.1276550292969, 392.62945556640625, 365.27716064453125, 360.1312255859375, 381.6805419921875, 414.92669677734375, 422.8437805175781, 424.97015380859375, 429.9499206542969, 430.38824462890625, 451.4156799316406, 475.9610595703125, 438.3165588378906, 380.111328125, 358.489013671875, 360.54217529296875, 346.8592834472656, 366.9419250488281, 374.56878662109375, 385.0196533203125, 430.6015930175781, 448.8390808105469, 462.78253173828125, 502.44866943359375, 511.0252685546875, 527.0564575195312, 577.0911865234375, 666.1734619140625, 792.4357299804688, 922.2201538085938, 966.6555786132812, 810.314453125, 726.3359375, 731.9960327148438, 718.5339965820312, 675.4323120117188, 705.4644165039062, 748.7213745117188, 795.1014404296875, 851.6597900390625, 948.6810913085938, 1026.98095703125, 1142.4927978515625, 1131.5316162109375, 1102.6234130859375, 1200.91943359375, 1329.205078125, 1352.2889404296875, 1487.48486328125, 1832.3009033203125, 2053.275390625, 1871.2486572265625, 1733.61181640625, 1658.4654541015625, 1643.884521484375, 1607.1080322265625, 1545.5123291015625, 1524.7958984375, 1603.4664306640625, 1774.0771484375, 2013.467529296875, 2157.422607421875, 1995.9305419921875, 1773.7042236328125, 1620.520263671875, 1494.2786865234375, 1464.43994140625, 1707.79052734375, 2023.0623779296875, 1993.1187744140625, 1838.03076171875, 1686.268310546875, 1518.4263916015625, 1428.443115234375, 1421.3609619140625, 1550.1429443359375, 1834.1319580078125, 2190.412109375, 2715.387939453125, 3391.02783203125, 3438.818603515625, 3206.686767578125, 2769.622314453125, 2575.27001953125, 2518.865234375, 2470.046142578125, 2540.211669921875, 2495.14111328125, 2021.743408203125, 1729.4832763671875, 1575.2320556640625, 1495.7177734375, 1518.3082275390625, 1592.836181640625, 1542.0484619140625, 1455.7147216796875, 1458.20654296875, 1658.7591552734375, 1587.526611328125, 1542.6297607421875, 1519.7442626953125, 1491.525390625, 1562.1219482421875, 1596.28662109375, 1598.469970703125, 1563.7781982421875, 1500.7958984375, 1430.9354248046875, 1312.5478515625, 1323.0831298828125, 1240.9498291015625, 1129.1009521484375, 1068.2984619140625, 1028.11572265625, 1007.6222534179688, 985.45947265625, 976.8213500976562, 931.0562744140625, 913.8756103515625, 894.24951171875, 856.7330322265625, 843.0781860351562, 819.9201049804688, 791.3887329101562, 772.6351928710938, 753.4750366210938, 734.9503173828125, 712.0570068359375, 694.024169921875, 680.1825561523438, 667.9137573242188, 647.5945434570312, 642.141845703125, 661.2726440429688, 757.3707275390625, 667.2409057617188, 634.4439697265625, 615.071044921875, 628.1450805664062, 661.0219116210938, 604.4396362304688, 576.97216796875, 559.0764770507812, 547.4508056640625, 528.0779418945312, 521.4251708984375, 515.6464233398438, 516.6240844726562, 498.2784118652344, 491.6414489746094, 487.3038330078125, 477.5627746582031, 477.1256408691406, 460.4214782714844, 457.2059020996094, 455.6911315917969, 452.4150390625, 446.00457763671875, 440.13262939453125, 432.1556091308594, 427.30279541015625, 423.954345703125, 422.1356201171875, 416.8030700683594, 417.1548156738281, 418.1935119628906, 420.2207336425781, 425.7403869628906, 417.9381408691406, 410.3835144042969, 401.29412841796875]}],\n",
              "                        {\"template\": {\"data\": {\"bar\": [{\"error_x\": {\"color\": \"#2a3f5f\"}, \"error_y\": {\"color\": \"#2a3f5f\"}, \"marker\": {\"line\": {\"color\": \"#E5ECF6\", \"width\": 0.5}}, \"type\": \"bar\"}], \"barpolar\": [{\"marker\": {\"line\": {\"color\": \"#E5ECF6\", \"width\": 0.5}}, \"type\": \"barpolar\"}], \"carpet\": [{\"aaxis\": {\"endlinecolor\": \"#2a3f5f\", \"gridcolor\": \"white\", \"linecolor\": \"white\", \"minorgridcolor\": \"white\", \"startlinecolor\": \"#2a3f5f\"}, \"baxis\": {\"endlinecolor\": \"#2a3f5f\", \"gridcolor\": \"white\", \"linecolor\": \"white\", \"minorgridcolor\": \"white\", \"startlinecolor\": \"#2a3f5f\"}, \"type\": \"carpet\"}], \"choropleth\": [{\"colorbar\": {\"outlinewidth\": 0, \"ticks\": \"\"}, \"type\": \"choropleth\"}], \"contour\": [{\"colorbar\": {\"outlinewidth\": 0, \"ticks\": \"\"}, \"colorscale\": [[0.0, \"#0d0887\"], [0.1111111111111111, \"#46039f\"], [0.2222222222222222, \"#7201a8\"], [0.3333333333333333, \"#9c179e\"], [0.4444444444444444, \"#bd3786\"], [0.5555555555555556, \"#d8576b\"], [0.6666666666666666, \"#ed7953\"], [0.7777777777777778, \"#fb9f3a\"], [0.8888888888888888, \"#fdca26\"], [1.0, \"#f0f921\"]], \"type\": \"contour\"}], \"contourcarpet\": [{\"colorbar\": {\"outlinewidth\": 0, \"ticks\": \"\"}, \"type\": \"contourcarpet\"}], \"heatmap\": [{\"colorbar\": {\"outlinewidth\": 0, \"ticks\": \"\"}, \"colorscale\": [[0.0, \"#0d0887\"], [0.1111111111111111, \"#46039f\"], [0.2222222222222222, \"#7201a8\"], [0.3333333333333333, \"#9c179e\"], [0.4444444444444444, \"#bd3786\"], [0.5555555555555556, \"#d8576b\"], [0.6666666666666666, \"#ed7953\"], [0.7777777777777778, \"#fb9f3a\"], [0.8888888888888888, \"#fdca26\"], [1.0, \"#f0f921\"]], \"type\": \"heatmap\"}], \"heatmapgl\": [{\"colorbar\": {\"outlinewidth\": 0, \"ticks\": \"\"}, \"colorscale\": [[0.0, \"#0d0887\"], [0.1111111111111111, \"#46039f\"], [0.2222222222222222, \"#7201a8\"], [0.3333333333333333, \"#9c179e\"], [0.4444444444444444, \"#bd3786\"], [0.5555555555555556, \"#d8576b\"], [0.6666666666666666, \"#ed7953\"], [0.7777777777777778, \"#fb9f3a\"], [0.8888888888888888, \"#fdca26\"], [1.0, \"#f0f921\"]], \"type\": \"heatmapgl\"}], \"histogram\": [{\"marker\": {\"colorbar\": {\"outlinewidth\": 0, \"ticks\": \"\"}}, \"type\": \"histogram\"}], \"histogram2d\": [{\"colorbar\": {\"outlinewidth\": 0, \"ticks\": \"\"}, \"colorscale\": [[0.0, \"#0d0887\"], [0.1111111111111111, \"#46039f\"], [0.2222222222222222, \"#7201a8\"], [0.3333333333333333, \"#9c179e\"], [0.4444444444444444, \"#bd3786\"], [0.5555555555555556, \"#d8576b\"], [0.6666666666666666, \"#ed7953\"], [0.7777777777777778, \"#fb9f3a\"], [0.8888888888888888, \"#fdca26\"], [1.0, \"#f0f921\"]], \"type\": \"histogram2d\"}], \"histogram2dcontour\": [{\"colorbar\": {\"outlinewidth\": 0, \"ticks\": \"\"}, \"colorscale\": [[0.0, \"#0d0887\"], [0.1111111111111111, \"#46039f\"], [0.2222222222222222, \"#7201a8\"], [0.3333333333333333, \"#9c179e\"], [0.4444444444444444, \"#bd3786\"], [0.5555555555555556, \"#d8576b\"], [0.6666666666666666, \"#ed7953\"], [0.7777777777777778, \"#fb9f3a\"], [0.8888888888888888, \"#fdca26\"], [1.0, \"#f0f921\"]], \"type\": \"histogram2dcontour\"}], \"mesh3d\": [{\"colorbar\": {\"outlinewidth\": 0, \"ticks\": \"\"}, \"type\": \"mesh3d\"}], \"parcoords\": [{\"line\": {\"colorbar\": {\"outlinewidth\": 0, \"ticks\": \"\"}}, \"type\": \"parcoords\"}], \"pie\": [{\"automargin\": true, \"type\": \"pie\"}], \"scatter\": [{\"marker\": {\"colorbar\": {\"outlinewidth\": 0, \"ticks\": \"\"}}, \"type\": \"scatter\"}], \"scatter3d\": [{\"line\": {\"colorbar\": {\"outlinewidth\": 0, \"ticks\": \"\"}}, \"marker\": {\"colorbar\": {\"outlinewidth\": 0, \"ticks\": \"\"}}, \"type\": \"scatter3d\"}], \"scattercarpet\": [{\"marker\": {\"colorbar\": {\"outlinewidth\": 0, \"ticks\": \"\"}}, \"type\": \"scattercarpet\"}], \"scattergeo\": [{\"marker\": {\"colorbar\": {\"outlinewidth\": 0, \"ticks\": \"\"}}, \"type\": \"scattergeo\"}], \"scattergl\": [{\"marker\": {\"colorbar\": {\"outlinewidth\": 0, \"ticks\": \"\"}}, \"type\": \"scattergl\"}], \"scattermapbox\": [{\"marker\": {\"colorbar\": {\"outlinewidth\": 0, \"ticks\": \"\"}}, \"type\": \"scattermapbox\"}], \"scatterpolar\": [{\"marker\": {\"colorbar\": {\"outlinewidth\": 0, \"ticks\": \"\"}}, \"type\": \"scatterpolar\"}], \"scatterpolargl\": [{\"marker\": {\"colorbar\": {\"outlinewidth\": 0, \"ticks\": \"\"}}, \"type\": \"scatterpolargl\"}], \"scatterternary\": [{\"marker\": {\"colorbar\": {\"outlinewidth\": 0, \"ticks\": \"\"}}, \"type\": \"scatterternary\"}], \"surface\": [{\"colorbar\": {\"outlinewidth\": 0, \"ticks\": \"\"}, \"colorscale\": [[0.0, \"#0d0887\"], [0.1111111111111111, \"#46039f\"], [0.2222222222222222, \"#7201a8\"], [0.3333333333333333, \"#9c179e\"], [0.4444444444444444, \"#bd3786\"], [0.5555555555555556, \"#d8576b\"], [0.6666666666666666, \"#ed7953\"], [0.7777777777777778, \"#fb9f3a\"], [0.8888888888888888, \"#fdca26\"], [1.0, \"#f0f921\"]], \"type\": \"surface\"}], \"table\": [{\"cells\": {\"fill\": {\"color\": \"#EBF0F8\"}, \"line\": {\"color\": \"white\"}}, \"header\": {\"fill\": {\"color\": \"#C8D4E3\"}, \"line\": {\"color\": \"white\"}}, \"type\": \"table\"}]}, \"layout\": {\"annotationdefaults\": {\"arrowcolor\": \"#2a3f5f\", \"arrowhead\": 0, \"arrowwidth\": 1}, \"coloraxis\": {\"colorbar\": {\"outlinewidth\": 0, \"ticks\": \"\"}}, \"colorscale\": {\"diverging\": [[0, \"#8e0152\"], [0.1, \"#c51b7d\"], [0.2, \"#de77ae\"], [0.3, \"#f1b6da\"], [0.4, \"#fde0ef\"], [0.5, \"#f7f7f7\"], [0.6, \"#e6f5d0\"], [0.7, \"#b8e186\"], [0.8, \"#7fbc41\"], [0.9, \"#4d9221\"], [1, \"#276419\"]], \"sequential\": [[0.0, \"#0d0887\"], [0.1111111111111111, \"#46039f\"], [0.2222222222222222, \"#7201a8\"], [0.3333333333333333, \"#9c179e\"], [0.4444444444444444, \"#bd3786\"], [0.5555555555555556, \"#d8576b\"], [0.6666666666666666, \"#ed7953\"], [0.7777777777777778, \"#fb9f3a\"], [0.8888888888888888, \"#fdca26\"], [1.0, \"#f0f921\"]], \"sequentialminus\": [[0.0, \"#0d0887\"], [0.1111111111111111, \"#46039f\"], [0.2222222222222222, \"#7201a8\"], [0.3333333333333333, \"#9c179e\"], [0.4444444444444444, \"#bd3786\"], [0.5555555555555556, \"#d8576b\"], [0.6666666666666666, \"#ed7953\"], [0.7777777777777778, \"#fb9f3a\"], [0.8888888888888888, \"#fdca26\"], [1.0, \"#f0f921\"]]}, \"colorway\": [\"#636efa\", \"#EF553B\", \"#00cc96\", \"#ab63fa\", \"#FFA15A\", \"#19d3f3\", \"#FF6692\", \"#B6E880\", \"#FF97FF\", \"#FECB52\"], \"font\": {\"color\": \"#2a3f5f\"}, \"geo\": {\"bgcolor\": \"white\", \"lakecolor\": \"white\", \"landcolor\": \"#E5ECF6\", \"showlakes\": true, \"showland\": true, \"subunitcolor\": \"white\"}, \"hoverlabel\": {\"align\": \"left\"}, \"hovermode\": \"closest\", \"mapbox\": {\"style\": \"light\"}, \"paper_bgcolor\": \"white\", \"plot_bgcolor\": \"#E5ECF6\", \"polar\": {\"angularaxis\": {\"gridcolor\": \"white\", \"linecolor\": \"white\", \"ticks\": \"\"}, \"bgcolor\": \"#E5ECF6\", \"radialaxis\": {\"gridcolor\": \"white\", \"linecolor\": \"white\", \"ticks\": \"\"}}, \"scene\": {\"xaxis\": {\"backgroundcolor\": \"#E5ECF6\", \"gridcolor\": \"white\", \"gridwidth\": 2, \"linecolor\": \"white\", \"showbackground\": true, \"ticks\": \"\", \"zerolinecolor\": \"white\"}, \"yaxis\": {\"backgroundcolor\": \"#E5ECF6\", \"gridcolor\": \"white\", \"gridwidth\": 2, \"linecolor\": \"white\", \"showbackground\": true, \"ticks\": \"\", \"zerolinecolor\": \"white\"}, \"zaxis\": {\"backgroundcolor\": \"#E5ECF6\", \"gridcolor\": \"white\", \"gridwidth\": 2, \"linecolor\": \"white\", \"showbackground\": true, \"ticks\": \"\", \"zerolinecolor\": \"white\"}}, \"shapedefaults\": {\"line\": {\"color\": \"#2a3f5f\"}}, \"ternary\": {\"aaxis\": {\"gridcolor\": \"white\", \"linecolor\": \"white\", \"ticks\": \"\"}, \"baxis\": {\"gridcolor\": \"white\", \"linecolor\": \"white\", \"ticks\": \"\"}, \"bgcolor\": \"#E5ECF6\", \"caxis\": {\"gridcolor\": \"white\", \"linecolor\": \"white\", \"ticks\": \"\"}}, \"title\": {\"x\": 0.05}, \"xaxis\": {\"automargin\": true, \"gridcolor\": \"white\", \"linecolor\": \"white\", \"ticks\": \"\", \"title\": {\"standoff\": 15}, \"zerolinecolor\": \"white\", \"zerolinewidth\": 2}, \"yaxis\": {\"automargin\": true, \"gridcolor\": \"white\", \"linecolor\": \"white\", \"ticks\": \"\", \"title\": {\"standoff\": 15}, \"zerolinecolor\": \"white\", \"zerolinewidth\": 2}}}},\n",
              "                        {\"responsive\": true}\n",
              "                    ).then(function(){\n",
              "                            \n",
              "var gd = document.getElementById('0262a7be-7c84-4044-aa94-d02241961a4f');\n",
              "var x = new MutationObserver(function (mutations, observer) {{\n",
              "        var display = window.getComputedStyle(gd).display;\n",
              "        if (!display || display === 'none') {{\n",
              "            console.log([gd, 'removed!']);\n",
              "            Plotly.purge(gd);\n",
              "            observer.disconnect();\n",
              "        }}\n",
              "}});\n",
              "\n",
              "// Listen for the removal of the full notebook cells\n",
              "var notebookContainer = gd.closest('#notebook-container');\n",
              "if (notebookContainer) {{\n",
              "    x.observe(notebookContainer, {childList: true});\n",
              "}}\n",
              "\n",
              "// Listen for the clearing of the current output cell\n",
              "var outputEl = gd.closest('.output');\n",
              "if (outputEl) {{\n",
              "    x.observe(outputEl, {childList: true});\n",
              "}}\n",
              "\n",
              "                        })\n",
              "                };\n",
              "                \n",
              "            </script>\n",
              "        </div>\n",
              "</body>\n",
              "</html>"
            ]
          },
          "metadata": {
            "tags": []
          }
        }
      ]
    },
    {
      "cell_type": "code",
      "metadata": {
        "id": "acMWXxNEltH5",
        "colab_type": "code",
        "colab": {}
      },
      "source": [
        ""
      ],
      "execution_count": null,
      "outputs": []
    }
  ]
}